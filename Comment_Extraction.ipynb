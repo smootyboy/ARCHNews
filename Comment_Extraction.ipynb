{
 "cells": [
  {
   "cell_type": "markdown",
   "id": "d4f92976-d0a6-46d6-8efb-0b8820ce1eb1",
   "metadata": {
    "tags": []
   },
   "source": [
    "# Imports"
   ]
  },
  {
   "cell_type": "markdown",
   "id": "8a7982f4-4991-4978-9e48-0303e6a60f44",
   "metadata": {
    "tags": []
   },
   "source": [
    "The required packages to run this notebook.  \n",
    "If any are missing use ``!{sys.executable} -m pip install <package>`` to install the package in the notebook environment"
   ]
  },
  {
   "cell_type": "code",
   "execution_count": 17,
   "id": "e6264b40-b8b1-4c48-bb3b-94febfa79113",
   "metadata": {
    "tags": []
   },
   "outputs": [],
   "source": [
    "import os.path\n",
    "import gc \n",
    "import pandas as pd\n",
    "import csv\n",
    "import sys\n",
    "from ctypes import cdll, CDLL\n",
    "from urllib import parse\n",
    "#!{sys.executable} -m pip install beautifulsoup4\n",
    "from bs4 import BeautifulSoup\n",
    "#!{sys.executable} -m pip install nbimporter\n",
    "import nbimporter\n",
    "import ARCH_Helper as ah"
   ]
  },
  {
   "cell_type": "markdown",
   "id": "348e893b-e773-4e96-956d-74e6fd110ef4",
   "metadata": {
    "tags": []
   },
   "source": [
    "# Download an archive\n",
    "The script below makes a data folder with a subfolder for the dataset. Dataset option are \"World\", \"German\" or \"Dutch\", select these by altering the ``dataset`` variable. The script wil skip files that are already present on the system. If you want to redownload the files first remove the old files manually.  \n",
    "If the download fails due to connection errors, rerun the script and will will notice that he file did not decompress and try again.  \n",
    "Note: The html-file-information.csv can be very large and take several hours and fail. Consider putting the code below code in a loop if you want to run it over night, if the download fails it will try again and if successfull it will say it already has the desired file."
   ]
  },
  {
   "cell_type": "code",
   "execution_count": 18,
   "id": "77006d6e-6e30-43b3-9353-37de21a7e004",
   "metadata": {},
   "outputs": [
    {
     "name": "stdout",
     "output_type": "stream",
     "text": [
      "mkdir: cannot create directory ‘data’: File exists\n",
      "mkdir: cannot create directory ‘data/Dutch’: File exists\n",
      "mkdir: cannot create directory ‘data/Dutch/results’: File exists\n",
      "domain-frequency.csv already exists\n",
      "domain-frequency.csv already exists\n",
      "css-file-information.csv already exists\n",
      "js-file-information.csv already exists\n",
      "html-file-information.csv already exists\n"
     ]
    }
   ],
   "source": [
    "# Dataset option are \"World\", \"German\" or \"Dutch\"\n",
    "Dataset = \"Dutch\"\n",
    "\n",
    "!mkdir data\n",
    "!mkdir data/{Dataset}\n",
    "!mkdir data/{Dataset}/results\n",
    "\n",
    "if Dataset == \"German\":\n",
    "    if not os.path.exists(\"data/German/domain-frequency.csv\"):\n",
    "        print(\"domain-frequency.csv is not present\")\n",
    "        !curl \"https://webdata.archive-it.org/ait/arch:cohort.helmond/research_services/download/SPECIAL-germanNews_1st-in-month_1-hop_unique-EXTRACTION-20210818232425/DomainFrequencyExtraction/domain-frequency.csv.gz?access=VRQ4COI5RFEB6XTJZNQTBRLEZTTHJERL\" --output data/German/domain-frequency.csv.gz\n",
    "        print(\"domain-frequency.csv has been downloaded\")\n",
    "    else:\n",
    "        print(\"domain-frequency.csv already exists\")\n",
    "\n",
    "    if not os.path.exists(\"data/German/domain-graph.csv\"):\n",
    "        print(\"domain-graph.csv is not present\")\n",
    "        !curl \"https://webdata.archive-it.org/ait/arch:cohort.helmond/research_services/download/SPECIAL-germanNews_1st-in-month_1-hop_unique-EXTRACTION-20210818232425/DomainGraphExtraction/domain-graph.csv.gz?access=JKEPGQ6MUC72JQB23IXOC4KOLGJYDSMN\" --output data/German/domain-graph.csv.gz\n",
    "        print(\"domain-graph.csv has been downloaded\")\n",
    "    else:\n",
    "        print(\"domain-frequency.csv already exists\")\n",
    "\n",
    "    if not os.path.exists(\"data/German/css-file-information.csv\"):\n",
    "        print(\"css-file-information.csv is not present\")\n",
    "        !curl \"https://webdata.archive-it.org/ait/arch:cohort.helmond/research_services/download/SPECIAL-germanNews_1st-in-month_1-hop_unique-EXTRACTION-20210818232425/TextFilesInformationExtraction/css-file-information.csv.gz?access=I2WP4REJA3NOBU3TCAAL3OIGJKNXM46R\" --output data/German/css-file-information.csv.gz\n",
    "        print(\"css-file-information.csv has been downloaded\")\n",
    "    else:\n",
    "        print(\"css-file-information.csv already exists\")\n",
    "\n",
    "    if not os.path.exists(\"data/German/js-file-information.csv\"):\n",
    "        print(\"js-file-information.csv is not present\")\n",
    "        !curl \"https://webdata.archive-it.org/ait/arch:cohort.helmond/research_services/download/SPECIAL-germanNews_1st-in-month_1-hop_unique-EXTRACTION-20210818232425/TextFilesInformationExtraction/js-file-information.csv.gz?access=M3QSMFPLEHPZPWZIFSMZ6CT2OO7WYQ4M\" --output data/German/js-file-information.csv.gz\n",
    "        print(\"css-file-information.csv has been downloaded\")\n",
    "    else:\n",
    "        print(\"js-file-information.csv already exists\")\n",
    "        \n",
    "    if not os.path.exists(\"data/German/html-file-information.csv\"):\n",
    "        print(\"html-file-information.csv is not present\")\n",
    "        !curl \"https://webdata.archive-it.org/ait/arch:cohort.helmond/research_services/download/SPECIAL-germanNews_1st-in-month_1-hop_unique-EXTRACTION-20210818232425/TextFilesInformationExtraction/html-file-information.csv.gz?access=E3BUHKL5P4Q3TD4LGXZV2AOMERYQ3GWL\" --output data/German/html-file-information.csv.gz\n",
    "        print(\"html-file-information.csv has been downloaded\")\n",
    "    else:\n",
    "        print(\"html-file-information.csv already exists\")\n",
    "        \n",
    "if Dataset == \"World\":\n",
    "    if not os.path.exists(\"data/World/domain-frequency.csv\"):\n",
    "        print(\"domain-frequency.csv is not present\")\n",
    "        !curl \"https://webdata.archive-it.org/ait/arch:cohort.helmond/research_services/download/SPECIAL-worldNews_1st-in-month_1-hop_unique-EXTRACTION-20210818232425/DomainFrequencyExtraction/domain-frequency.csv.gz?access=SMSQY3G6IGKGRWVLGCWMA7DMCHBCKQ4K\" --output data/World/domain-frequency.csv.gz\n",
    "        print(\"domain-frequency.csv has been downloaded\")\n",
    "    else:\n",
    "        print(\"domain-frequency.csv already exists\")\n",
    "\n",
    "    if not os.path.exists(\"data/World/domain-graph.csv\"):\n",
    "        print(\"domain-graph.csv is not present\")\n",
    "        !curl \"https://webdata.archive-it.org/ait/arch:cohort.helmond/research_services/download/SPECIAL-worldNews_1st-in-month_1-hop_unique-EXTRACTION-20210818232425/DomainGraphExtraction/domain-graph.csv.gz?sample=true&access=BZTA7LW5LUNMPGKWQMLKAUAXBV2E2AEC\" --output data/World/domain-graph.csv.gz\n",
    "        print(\"domain-graph.csv has been downloaded\")\n",
    "    else:\n",
    "        print(\"domain-frequency.csv already exists\")\n",
    "\n",
    "    if not os.path.exists(\"data/World/css-file-information.csv\"):\n",
    "        print(\"css-file-information.csv is not present\")\n",
    "        !curl \"https://webdata.archive-it.org/ait/arch:cohort.helmond/research_services/download/SPECIAL-worldNews_1st-in-month_1-hop_unique-EXTRACTION-20210818232425/TextFilesInformationExtraction/css-file-information.csv.gz?access=UZ4PWVRXXWPF53BHM7TTYNK24P7YAIXQ\" --output data/World/css-file-information.csv.gz\n",
    "        print(\"css-file-information.csv has been downloaded\")\n",
    "    else:\n",
    "        print(\"css-file-information.csv already exists\")\n",
    "\n",
    "    if not os.path.exists(\"data/World/js-file-information.csv\"):\n",
    "        print(\"js-file-information.csv is not present\")\n",
    "        !curl \"https://webdata.archive-it.org/ait/arch:cohort.helmond/research_services/download/SPECIAL-worldNews_1st-in-month_1-hop_unique-EXTRACTION-20210818232425/TextFilesInformationExtraction/js-file-information.csv.gz?access=54X7IV7QOOAJWGHKPRGDI7HIR6W6GKPI\" --output data/World/js-file-information.csv.gz\n",
    "        print(\"css-file-information.csv has been downloaded\")\n",
    "    else:\n",
    "        print(\"js-file-information.csv already exists\")\n",
    "    \n",
    "    if not os.path.exists(\"data/World/html-file-information.csv\"):\n",
    "        print(\"html-file-information.csv is not present\")\n",
    "        !curl \"https://webdata.archive-it.org/ait/arch:cohort.helmond/research_services/download/SPECIAL-worldNews_1st-in-month_1-hop_unique-EXTRACTION-20210818232425/TextFilesInformationExtraction/html-file-information.csv.gz?access=JQEDT3PRXOS6OXZ7LA5EC55HQJVUASDX\" --output data/World/html-file-information.csv.gz\n",
    "        print(\"html-file-information.csv has been downloaded\")\n",
    "    else:\n",
    "        print(\"html-file-information.csv already exists\")\n",
    "\n",
    "if Dataset == \"Dutch\":\n",
    "    if not os.path.exists(\"data/Dutch/domain-frequency.csv\"):\n",
    "        print(\"domain-frequency.csv is not present\")\n",
    "        !curl \"https://webdata.archive-it.org/ait/arch:cohort.helmond/research_services/download/SPECIAL-dutchNews_1st-in-month_1-hop_unique-EXTRACTION-20210916172606/DomainFrequencyExtraction/domain-frequency.csv.gz?access=QUQTRHVNIDKXN62S4D62XFHCFI7VDSH7\" --output data/Dutch/domain-frequency.csv.gz\n",
    "        print(\"domain-frequency.csv has been downloaded\")\n",
    "    else:\n",
    "        print(\"domain-frequency.csv already exists\")\n",
    "\n",
    "    if not os.path.exists(\"data/Dutch/domain-graph.csv\"):\n",
    "        print(\"domain-graph.csv is not present\")\n",
    "        !curl \"https://webdata.archive-it.org/ait/arch:cohort.helmond/research_services/download/SPECIAL-dutchNews_1st-in-month_1-hop_unique-EXTRACTION-20210916172606/DomainGraphExtraction/domain-graph.csv.gz?access=JUNESOMDTBYDNCCGVJI5MJHW45KHAIJZ\" --output data/Dutch/domain-graph.csv.gz\n",
    "        print(\"domain-graph.csv has been downloaded\")\n",
    "    else:\n",
    "        print(\"domain-frequency.csv already exists\")\n",
    "\n",
    "    if not os.path.exists(\"data/Dutch/css-file-information.csv\"):\n",
    "        print(\"css-file-information.csv is not present\")\n",
    "        !curl \"https://webdata.archive-it.org/ait/arch:cohort.helmond/research_services/download/SPECIAL-dutchNews_1st-in-month_1-hop_unique-EXTRACTION-20210916172606/TextFilesInformationExtraction/css-file-information.csv.gz?access=IGBKSGXJBL3L4IJ2LXS5NPJTOY77JCT5\" --output data/Dutch/css-file-information.csv.gz\n",
    "        print(\"css-file-information.csv has been downloaded\")\n",
    "    else:\n",
    "        print(\"css-file-information.csv already exists\")\n",
    "\n",
    "    if not os.path.exists(\"data/Dutch/js-file-information.csv\"):\n",
    "        print(\"js-file-information.csv is not present\")\n",
    "        !curl \"https://webdata.archive-it.org/ait/arch:cohort.helmond/research_services/download/SPECIAL-dutchNews_1st-in-month_1-hop_unique-EXTRACTION-20210916172606/TextFilesInformationExtraction/js-file-information.csv.gz?access=RPZKGWUTWJBIRKOKKHGECB7W4OHUATMO\" --output data/Dutch/js-file-information.csv.gz\n",
    "        print(\"css-file-information.csv has been downloaded\")\n",
    "    else:\n",
    "        print(\"js-file-information.csv already exists\")\n",
    "    \n",
    "    if not os.path.exists(\"data/Dutch/html-file-information.csv\"):\n",
    "        print(\"html-file-information.csv is not present\")\n",
    "        !curl \"https://webdata.archive-it.org/ait/arch:cohort.helmond/research_services/download/SPECIAL-dutchNews_1st-in-month_1-hop_unique-EXTRACTION-20210916172606/TextFilesInformationExtraction/html-file-information.csv.gz?access=52ZOSNQQMFWKW42WMQPNMGKYLEVUQHUC\" --output data/Dutch/html-file-information.csv.gz\n",
    "        print(\"html-file-information.csv has been downloaded\")\n",
    "    else:\n",
    "        print(\"html-file-information.csv already exists\")\n",
    "\n",
    "unzip = \"find data/\" +Dataset +\" -name '*.gz' -exec gunzip {} \\;\"\n",
    "!{unzip}"
   ]
  },
  {
   "cell_type": "markdown",
   "id": "e854f063-5c7d-46f4-80c5-9c126af525e3",
   "metadata": {},
   "source": [
    "# Extract wepages holding signs of commenting systems in their HTML"
   ]
  },
  {
   "cell_type": "markdown",
   "id": "5110252b-d42c-431c-b486-fa239faccc33",
   "metadata": {},
   "source": [
    "``detection_patterns`` is a csv file holding the commenting systems and their detection patterns\n",
    "\n",
    "The ``chunksize`` variable determines how much memory is used. A larger chunksize allows for faster computation, but will crash when RAM is full. If the computation crashes try restarting the kernel and/or a lower chunksize. A chunksize of 1000 should be fine for most machines."
   ]
  },
  {
   "cell_type": "code",
   "execution_count": 19,
   "id": "bd94b784-6035-4e51-b146-e30c3c60439d",
   "metadata": {},
   "outputs": [],
   "source": [
    "dataset_location = \"data/\"+Dataset +\"/html-file-information.csv\"\n",
    "detection_patterns = pd.read_csv(\"Commenting-system-detection-patterns.csv\")\n",
    "chunksize = 10000"
   ]
  },
  {
   "cell_type": "markdown",
   "id": "002f0c05-0fc1-4b5d-aa36-dbd367825e64",
   "metadata": {},
   "source": [
    "The code bellow loops through the known commenting systems and their detection patterns, saving them per commenting system in a CSV file at ``\"data/\"+Dataset +\"/results/\"+system+\".csv\"``"
   ]
  },
  {
   "cell_type": "code",
   "execution_count": 20,
   "id": "466aca0a-db1d-419c-a42f-75b17f49118a",
   "metadata": {},
   "outputs": [],
   "source": [
    "for system in list(detection_patterns['Commenting system'].unique()):\n",
    "    system_df_list = []\n",
    "    for index, row in detection_patterns[detection_patterns['Commenting system'] == system].iterrows():\n",
    "        system_df = ah.filter_csv_content_regex(dataset_location, row['Regex'], chunksize)\n",
    "        system_df[row['Snipit']]=True\n",
    "        system_df_list.append(system_df)\n",
    "\n",
    "    system_df = pd.concat(system_df_list)\n",
    "    \n",
    "    system_df[\"year\"] = system_df[\"crawl_date\"].div(10000).round().astype(int)\n",
    "    system_df[\"domain\"] = system_df['url'].apply(ah.to_domain)\n",
    "    \n",
    "    system_df = system_df.fillna(False)\n",
    "    \n",
    "    \n",
    "    snippits = list(detection_patterns[detection_patterns['Commenting system'] == system]['Snipit'])\n",
    "    result_scope = ['year','domain']\n",
    "    result_scope.extend(snippits)\n",
    "    \n",
    "    system_results = pd.DataFrame(system_df[result_scope].value_counts().sort_index()).reset_index()\n",
    "    system_results.rename(columns={0:'count'}, inplace=True)\n",
    "    \n",
    "    save_location = \"data/\"+Dataset +\"/results/\"+system+\".csv\"\n",
    "    ah.save_dataframe(system_results, save_location)\n",
    "    #print(system_results)"
   ]
  },
  {
   "cell_type": "markdown",
   "id": "5c9cfbce-bbd8-48eb-b43c-35310022ae72",
   "metadata": {},
   "source": [
    "Display summeries for each of the commenting systems"
   ]
  },
  {
   "cell_type": "code",
   "execution_count": 29,
   "id": "a293f744-49d1-40ac-9ad2-737c72226575",
   "metadata": {},
   "outputs": [
    {
     "name": "stdout",
     "output_type": "stream",
     "text": [
      "Overlap between identifiers for Disqus:\n",
      "\n",
      "data-disqus-identifier  disqus.com/embed.js  disqus_thread\n",
      "False                   False                True             173\n",
      "                        True                 False             84\n",
      "True                    False                False             58\n",
      "dtype: int64\n",
      "\n",
      "\n",
      "csmonitor.com uses  Disqus  in: [2010]\n",
      "english.aljazeera.net uses  Disqus  in: [2011]\n",
      "haarlemsdagblad.nl uses  Disqus  in: [2011, 2012, 2013, 2014]\n",
      "independent.co.uk uses  Disqus  in: [2011]\n",
      "nrc.nl uses  Disqus  in: [2011, 2012, 2013, 2014, 2015, 2016, 2017, 2019]\n",
      "telegraph.co.uk uses  Disqus  in: [2011, 2012, 2014, 2015, 2017, 2018, 2019]\n",
      "vn.nl uses  Disqus  in: [2011, 2012, 2013, 2014, 2015]\n",
      "weblogs.nrc.nl uses  Disqus  in: [2011, 2012, 2013]\n",
      "wired.com uses  Disqus  in: [2011, 2012, 2013]\n",
      "aboutblank.nl uses  Disqus  in: [2012]\n",
      "aljazeera.com uses  Disqus  in: [2012]\n",
      "blogs.computerworld.com uses  Disqus  in: [2012, 2013]\n",
      "boingboing.net uses  Disqus  in: [2012]\n",
      "business.inquirer.net uses  Disqus  in: [2012]\n",
      "cnn.com uses  Disqus  in: [2012]\n",
      "collisiondetection.net uses  Disqus  in: [2012]\n",
      "foxnews.com uses  Disqus  in: [2012]\n",
      "leidschdagblad.nl uses  Disqus  in: [2012, 2013, 2014, 2015]\n",
      "noordhollandsdagblad.nl uses  Disqus  in: [2012, 2013, 2014, 2015, 2016]\n",
      "nos.nl uses  Disqus  in: [2012, 2013, 2014]\n",
      "rossdawsonblog.com uses  Disqus  in: [2012]\n",
      "z24.nl uses  Disqus  in: [2012]\n",
      "dutchnews.nl uses  Disqus  in: [2013, 2014, 2015, 2016, 2017, 2019]\n",
      "edition.cnn.com uses  Disqus  in: [2013]\n",
      "globalvoicesonline.org uses  Disqus  in: [2013, 2015]\n",
      "hpdetijd.nl uses  Disqus  in: [2013, 2014, 2015, 2016]\n",
      "ibtimes.co.uk uses  Disqus  in: [2013]\n",
      "jpost.com uses  Disqus  in: [2013, 2014]\n",
      "newslite.tv uses  Disqus  in: [2013]\n",
      "quotenet.nl uses  Disqus  in: [2013, 2014, 2015, 2016, 2017]\n",
      "triplepundit.com uses  Disqus  in: [2013]\n",
      "welingelichtekringen.nl uses  Disqus  in: [2013, 2014, 2015, 2016, 2017, 2018, 2019]\n",
      "welt.de uses  Disqus  in: [2013]\n",
      "erkansaka.net uses  Disqus  in: [2014]\n",
      "gezonddichtbij.nl uses  Disqus  in: [2014, 2015, 2016]\n",
      "news.sciencemag.org uses  Disqus  in: [2014]\n",
      "nieuws.nl uses  Disqus  in: [2014, 2016, 2017, 2018, 2019, 2020, 2021]\n",
      "npr.org uses  Disqus  in: [2014, 2015]\n",
      "oneworld.nl uses  Disqus  in: [2014, 2015, 2016, 2017]\n",
      "rollingstone.com uses  Disqus  in: [2014, 2015]\n",
      "scientias.nl uses  Disqus  in: [2014, 2020]\n",
      "tegenlicht.vpro.nl uses  Disqus  in: [2014, 2016]\n",
      "theatlantic.com uses  Disqus  in: [2014]\n",
      "thechive.com uses  Disqus  in: [2014]\n",
      "925.nl uses  Disqus  in: [2015, 2016]\n",
      "abcnews.go.com uses  Disqus  in: [2015]\n",
      "blogs.lc.nl uses  Disqus  in: [2015]\n",
      "crooksandliars.com uses  Disqus  in: [2015]\n",
      "kortingscode.nl uses  Disqus  in: [2015, 2016, 2017]\n",
      "middleeasteye.net uses  Disqus  in: [2015]\n",
      "munchies.vice.com uses  Disqus  in: [2015]\n",
      "omroepwest.nl uses  Disqus  in: [2015]\n",
      "thelocal.de uses  Disqus  in: [2015]\n",
      "thelocal.es uses  Disqus  in: [2015]\n",
      "thelocal.no uses  Disqus  in: [2015]\n",
      "thelocal.se uses  Disqus  in: [2015, 2016]\n",
      "w.rtvoost.nl uses  Disqus  in: [2015]\n",
      "avclub.com uses  Disqus  in: [2016]\n",
      "kyivpost.com uses  Disqus  in: [2016]\n",
      "morsiwearingthings.tumblr.com uses  Disqus  in: [2016]\n",
      "omroepzeeland.nl uses  Disqus  in: [2016]\n",
      "scheveningenlive.nl uses  Disqus  in: [2016]\n",
      "thedailystar.net uses  Disqus  in: [2016]\n",
      "blogs.spectator.co.uk uses  Disqus  in: [2017, 2019]\n",
      "politiek.tpo.nl uses  Disqus  in: [2017, 2018, 2019, 2020]\n",
      "regio.tpo.nl uses  Disqus  in: [2017, 2018]\n",
      "sargasso.nl uses  Disqus  in: [2017]\n",
      "songlyrics.com uses  Disqus  in: [2017, 2018]\n",
      "thehill.com uses  Disqus  in: [2017]\n",
      "balkaninsight.com uses  Disqus  in: [2018]\n",
      "biz.tpo.nl uses  Disqus  in: [2018, 2020]\n",
      "evolvepolitics.com uses  Disqus  in: [2018]\n",
      "freekareem.org uses  Disqus  in: [2018]\n",
      "media.tpo.nl uses  Disqus  in: [2018, 2020]\n",
      "nationalinterest.org uses  Disqus  in: [2018]\n",
      "nieuws.tpo.nl uses  Disqus  in: [2018, 2020]\n",
      "spectator.sme.sk uses  Disqus  in: [2018]\n",
      "ninefornews.nl uses  Disqus  in: [2019]\n",
      "omg.tpo.nl uses  Disqus  in: [2019]\n",
      "philstar.com uses  Disqus  in: [2019]\n",
      "rolereboot.org uses  Disqus  in: [2019]\n",
      "wattisduurzaam.nl uses  Disqus  in: [2019, 2021]\n",
      "americanthinker.com uses  Disqus  in: [2020]\n",
      "dailycaller.com uses  Disqus  in: [2020]\n",
      "nl.motorsport.com uses  Disqus  in: [2020]\n",
      "pjmedia.com uses  Disqus  in: [2020]\n",
      "carbonbrief.org uses  Disqus  in: [2021]\n",
      "greentechmedia.com uses  Disqus  in: [2021]\n",
      "science20.com uses  Disqus  in: [2021]\n",
      "thegauntlet.com uses  Disqus  in: [2021]\n",
      "upriser.com uses  Disqus  in: [2021]\n",
      "\n",
      "Number of sites using Disqus per year:\n",
      "    year  sites using Disqus\n",
      "0   2010                   1\n",
      "1   2011                   8\n",
      "2   2012                  19\n",
      "3   2013                  20\n",
      "4   2014                  23\n",
      "5   2015                  27\n",
      "6   2016                  19\n",
      "7   2017                  14\n",
      "8   2018                  14\n",
      "9   2019                  12\n",
      "10  2020                  10\n",
      "11  2021                   7\n",
      "\n",
      "Overlap between identifiers for Echo:\n",
      "\n",
      "js-kit.com/comments.js\n",
      "True                      2\n",
      "dtype: int64\n",
      "\n",
      "\n",
      "metronieuws.nl uses  Echo  in: [2011, 2012]\n",
      "\n",
      "Number of sites using Echo per year:\n",
      "   year  sites using Echo\n",
      "0  2011                 1\n",
      "1  2012                 1\n",
      "\n",
      "Overlap between identifiers for Facebook Comments:\n",
      "\n",
      "fbComments  fb-comments  fb:comments\n",
      "False       True         False          144\n",
      "            False        True            28\n",
      "True        False        False            8\n",
      "dtype: int64\n",
      "\n",
      "\n",
      "hartvannederland.nl uses  Facebook Comments  in: [2010, 2011, 2012, 2013, 2014, 2015, 2016, 2017]\n",
      "autoweek.com uses  Facebook Comments  in: [2011]\n",
      "eenvandaag.nl uses  Facebook Comments  in: [2011, 2013]\n",
      "247.bnn.nl uses  Facebook Comments  in: [2012]\n",
      "bnr.nl uses  Facebook Comments  in: [2012, 2013, 2014, 2015, 2016]\n",
      "dvhn.nl uses  Facebook Comments  in: [2012, 2013, 2014, 2015, 2016, 2017, 2018, 2019, 2020]\n",
      "lc.nl uses  Facebook Comments  in: [2012, 2013, 2014, 2015, 2016, 2017, 2018, 2019, 2020]\n",
      "metronieuws.nl uses  Facebook Comments  in: [2012, 2013, 2014, 2015, 2016, 2017]\n",
      "rtl.nl uses  Facebook Comments  in: [2012]\n",
      "telegraaf.nl uses  Facebook Comments  in: [2012, 2013, 2015, 2016]\n",
      "ibtimes.co.uk uses  Facebook Comments  in: [2013]\n",
      "rtlnieuws.nl uses  Facebook Comments  in: [2013, 2014, 2015, 2016, 2017, 2018]\n",
      "stern.de uses  Facebook Comments  in: [2013]\n",
      "wwltv.com uses  Facebook Comments  in: [2013]\n",
      "erkansaka.net uses  Facebook Comments  in: [2014]\n",
      "esquire.com uses  Facebook Comments  in: [2014]\n",
      "hskrant.nl uses  Facebook Comments  in: [2014]\n",
      "huffingtonpost.com uses  Facebook Comments  in: [2014]\n",
      "jpost.com uses  Facebook Comments  in: [2014]\n",
      "kyivpost.com uses  Facebook Comments  in: [2014]\n",
      "miamiherald.com uses  Facebook Comments  in: [2014]\n",
      "reporter.incontxt.nl uses  Facebook Comments  in: [2014]\n",
      "rocketnews24.com uses  Facebook Comments  in: [2014]\n",
      "sbs6.nl uses  Facebook Comments  in: [2014, 2015, 2016]\n",
      "sportspickle.com uses  Facebook Comments  in: [2014, 2015]\n",
      "trutv.com uses  Facebook Comments  in: [2014]\n",
      "voiceofrussia.com uses  Facebook Comments  in: [2014]\n",
      "worldwideinterweb.com uses  Facebook Comments  in: [2014, 2015]\n",
      "clint.be uses  Facebook Comments  in: [2015]\n",
      "dagelijksestandaard.nl uses  Facebook Comments  in: [2015]\n",
      "haarlemsdagblad.nl uses  Facebook Comments  in: [2015, 2016, 2017, 2018, 2019, 2020, 2021]\n",
      "leidschdagblad.nl uses  Facebook Comments  in: [2015, 2016, 2017, 2018, 2019, 2020, 2021]\n",
      "media.tpo.nl uses  Facebook Comments  in: [2015, 2016, 2017, 2018, 2020]\n",
      "nieuws.tpo.nl uses  Facebook Comments  in: [2015, 2016, 2017, 2018, 2020]\n",
      "ninefornews.nl uses  Facebook Comments  in: [2015]\n",
      "noordhollandsdagblad.nl uses  Facebook Comments  in: [2015, 2016, 2017, 2018, 2019, 2020, 2021]\n",
      "politiek.tpo.nl uses  Facebook Comments  in: [2015, 2016, 2017, 2018, 2019, 2020]\n",
      "refdag.nl uses  Facebook Comments  in: [2015]\n",
      "rtvnh.nl uses  Facebook Comments  in: [2015]\n",
      "rtvnoord.nl uses  Facebook Comments  in: [2015]\n",
      "talk.tpo.nl uses  Facebook Comments  in: [2015, 2016, 2019]\n",
      "upcoming.nl uses  Facebook Comments  in: [2015]\n",
      "ynetnews.com uses  Facebook Comments  in: [2015]\n",
      "at5.nl uses  Facebook Comments  in: [2016]\n",
      "biz.tpo.nl uses  Facebook Comments  in: [2016, 2017, 2018, 2020]\n",
      "boston.com uses  Facebook Comments  in: [2016]\n",
      "businessinsider.nl uses  Facebook Comments  in: [2016, 2017, 2018, 2019]\n",
      "chroom.tpo.nl uses  Facebook Comments  in: [2016, 2017]\n",
      "cult.tpo.nl uses  Facebook Comments  in: [2016, 2017]\n",
      "eb-loodgieters.nl uses  Facebook Comments  in: [2016]\n",
      "finanzen.nl uses  Facebook Comments  in: [2016, 2017, 2018, 2019]\n",
      "luchtvaartnieuws.nl uses  Facebook Comments  in: [2016]\n",
      "omg.tpo.nl uses  Facebook Comments  in: [2016, 2017]\n",
      "regio.tpo.nl uses  Facebook Comments  in: [2016, 2017, 2018]\n",
      "thedailystar.net uses  Facebook Comments  in: [2016]\n",
      "canalr1.com uses  Facebook Comments  in: [2017, 2018]\n",
      "channelnewsasia.com uses  Facebook Comments  in: [2017]\n",
      "cusgprotterdam.nl uses  Facebook Comments  in: [2017]\n",
      "fivethirtyeight.com uses  Facebook Comments  in: [2017, 2018]\n",
      "izismile.com uses  Facebook Comments  in: [2017]\n",
      "nhnieuws.nl uses  Facebook Comments  in: [2017, 2018]\n",
      "omroepwest.nl uses  Facebook Comments  in: [2017]\n",
      "shepostsonline.nl uses  Facebook Comments  in: [2017]\n",
      "evolvepolitics.com uses  Facebook Comments  in: [2018]\n",
      "tpo.nl uses  Facebook Comments  in: [2018]\n",
      "blogs.groene.nl uses  Facebook Comments  in: [2019]\n",
      "doneeractie.nl uses  Facebook Comments  in: [2019, 2021]\n",
      "philstar.com uses  Facebook Comments  in: [2019]\n",
      "timesofisrael.com uses  Facebook Comments  in: [2019]\n",
      "nd.nl uses  Facebook Comments  in: [2020, 2021]\n",
      "story.nl uses  Facebook Comments  in: [2020, 2021]\n",
      "upriser.com uses  Facebook Comments  in: [2021]\n",
      "\n",
      "Number of sites using Facebook Comments per year:\n",
      "    year  sites using Facebook Comments\n",
      "0   2010                              1\n",
      "1   2011                              3\n",
      "2   2012                              8\n",
      "3   2013                             11\n",
      "4   2014                             20\n",
      "5   2015                             25\n",
      "6   2016                             27\n",
      "7   2017                             26\n",
      "8   2018                             18\n",
      "9   2019                             13\n",
      "10  2020                             11\n",
      "11  2021                              7\n",
      "\n",
      "Overlap between identifiers for Livefyre:\n",
      "\n",
      "cdn.livefyre.com/Livefyre.js\n",
      "True                            8\n",
      "dtype: int64\n",
      "\n",
      "\n",
      "telegraaf.nl uses  Livefyre  in: [2015, 2017, 2018, 2019]\n",
      "cnn.com uses  Livefyre  in: [2016, 2017]\n",
      "edition.cnn.com uses  Livefyre  in: [2017, 2018]\n",
      "\n",
      "Number of sites using Livefyre per year:\n",
      "   year  sites using Livefyre\n",
      "0  2015                     1\n",
      "1  2016                     1\n",
      "2  2017                     3\n",
      "3  2018                     2\n",
      "4  2019                     1\n",
      "\n",
      "Overlap between identifiers for ViaFoura:\n",
      "\n",
      "viafoura  viafouraComments  livecomments.viafoura.co  viafoura-comments\n",
      "True      False             False                     False                4\n",
      "dtype: int64\n",
      "\n",
      "\n",
      "cnn.com uses  ViaFoura  in: [2012]\n",
      "latimes.com uses  ViaFoura  in: [2014]\n",
      "cbc.ca uses  ViaFoura  in: [2016]\n",
      "mysanantonio.com uses  ViaFoura  in: [2016]\n",
      "\n",
      "Number of sites using ViaFoura per year:\n",
      "   year  sites using ViaFoura\n",
      "0  2012                     1\n",
      "1  2014                     1\n",
      "2  2016                     2\n",
      "\n",
      "Overlap between identifiers for Vuukle:\n",
      "\n",
      "vuukle-comments  js-vuukle  vuukle \n",
      "False            False      True       1\n",
      "                 True       False      1\n",
      "True             False      False      1\n",
      "dtype: int64\n",
      "\n",
      "\n",
      "euronews.com uses  Vuukle  in: [2021]\n",
      "\n",
      "Number of sites using Vuukle per year:\n",
      "   year  sites using Vuukle\n",
      "0  2021                   1\n",
      "\n",
      "Overlap between identifiers for OpenWeb:\n",
      "\n",
      "data-spotim-module  spotim-launcher  launcher.spot.im\n",
      "True                False            False               4\n",
      "False               False            True                1\n",
      "                    True             False               1\n",
      "dtype: int64\n",
      "\n",
      "\n",
      "jpost.com uses  OpenWeb  in: [2017]\n",
      "rt.com uses  OpenWeb  in: [2017]\n",
      "dailycaller.com uses  OpenWeb  in: [2020]\n",
      "skysports.com uses  OpenWeb  in: [2020]\n",
      "\n",
      "Number of sites using OpenWeb per year:\n",
      "   year  sites using OpenWeb\n",
      "0  2017                    2\n",
      "1  2020                    2\n",
      "\n",
      "Overlap between identifiers for Echo JS-Kit Haloscan:\n",
      "\n",
      "js-kit.com/comments.js  www.haloscan.com/comments\n",
      "False                   True                         3\n",
      "True                    False                        2\n",
      "dtype: int64\n",
      "\n",
      "\n",
      "metronieuws.nl uses  Echo JS-Kit Haloscan  in: [2011, 2012]\n",
      "loglynx.blogspot.com uses  Echo JS-Kit Haloscan  in: [2019]\n",
      "blokje.blogspot.com uses  Echo JS-Kit Haloscan  in: [2020]\n",
      "brechtjesblogje.blogspot.com uses  Echo JS-Kit Haloscan  in: [2021]\n",
      "\n",
      "Number of sites using Echo JS-Kit Haloscan per year:\n",
      "   year  sites using Echo JS-Kit Haloscan\n",
      "0  2011                                 1\n",
      "1  2012                                 1\n",
      "2  2019                                 1\n",
      "3  2020                                 1\n",
      "4  2021                                 1\n",
      "\n"
     ]
    }
   ],
   "source": [
    "for system in list(detection_patterns['Commenting system'].unique()):\n",
    "    save_location = \"data/\"+Dataset +\"/results/\"+system+\".csv\"\n",
    "    results = pd.read_csv(save_location)\n",
    "    domains = list(results.domain.unique())\n",
    "    \n",
    "    #skip to next itteration if no domains found with system\n",
    "    if domains == []:\n",
    "        continue\n",
    "\n",
    "    identifiers = results.columns.values.tolist()\n",
    "    identifiers = [x for x in identifiers if x not in ['year','domain','count']]\n",
    "    print(\"Overlap between identifiers for \"+system+\":\")\n",
    "    print()\n",
    "    print(results[identifiers].value_counts())\n",
    "    print()\n",
    "    \n",
    "    print()\n",
    "    for domain in domains:\n",
    "        years = list(results[results.domain == domain].year.unique())\n",
    "        print(domain, \"uses \", system,\" in:\", years)\n",
    "    \n",
    "    print()\n",
    "    print(\"Number of sites using \"+system+\" per year:\")\n",
    "    sites_per_year = pd.DataFrame(results[[\"year\", \"domain\"]].drop_duplicates()[\"year\"].value_counts().sort_index()).reset_index()\n",
    "    sites_per_year.columns = [\"year\", \"sites using \"+system ]\n",
    "    \n",
    "    print(sites_per_year)\n",
    "    print()"
   ]
  },
  {
   "cell_type": "code",
   "execution_count": null,
   "id": "1cc1cc39-2bff-4685-928c-1c7ead413364",
   "metadata": {},
   "outputs": [],
   "source": [
    "for col in results.columns:\n",
    "    if col.isin(['year','domain','count']):\n",
    "        continue\n",
    "    print(col)"
   ]
  },
  {
   "cell_type": "code",
   "execution_count": 22,
   "id": "d12b5097-df30-4a41-9bff-f62888c5ca57",
   "metadata": {},
   "outputs": [
    {
     "data": {
      "text/plain": [
       "['commento.js']"
      ]
     },
     "execution_count": 22,
     "metadata": {},
     "output_type": "execute_result"
    }
   ],
   "source": [
    "identifiers = results.columns.values.tolist()\n",
    "identifiers = [x for x in identifiers if x not in ['year','domain','count']]\n",
    "identifiers"
   ]
  },
  {
   "cell_type": "code",
   "execution_count": 27,
   "id": "234bb9f3-8a32-4e5c-8f70-4fd75c80c6bc",
   "metadata": {},
   "outputs": [
    {
     "name": "stdout",
     "output_type": "stream",
     "text": [
      "fbComments  fb-comments  fb:comments\n",
      "False       True         False          144\n",
      "            False        True            28\n",
      "True        False        False            8\n",
      "dtype: int64\n"
     ]
    }
   ],
   "source": [
    "results = pd.read_csv(\"data/Dutch/results/Facebook Comments.csv\")\n",
    "identifiers = results.columns.values.tolist()\n",
    "identifiers = [x for x in identifiers if x not in ['year','domain','count']]\n",
    "print(results[identifiers].value_counts())"
   ]
  },
  {
   "cell_type": "markdown",
   "id": "0a166ff9",
   "metadata": {
    "tags": []
   },
   "source": [
    "# Extract wepages holding signs for the Disqus commenting system in their HTML"
   ]
  },
  {
   "cell_type": "markdown",
   "id": "f9766d4a",
   "metadata": {},
   "source": [
    "The code bellow looks through a dataset for any indicators for the presence of the disqus commenting system. The input for ```filter_csv_content_regex``` is the desired dataset file, the regular expression and the chunksize."
   ]
  },
  {
   "cell_type": "code",
   "execution_count": 4,
   "id": "93892bf0",
   "metadata": {},
   "outputs": [
    {
     "name": "stdout",
     "output_type": "stream",
     "text": [
      "Embed hits:  2314\n"
     ]
    }
   ],
   "source": [
    "disqus_embed_df = ah.filter_csv_content_regex(dataset_location, \"(?i)disqus\\.com\\/embed\\.js\", chunksize)\n",
    "disqus_embed_df['disqus_embed']=True\n",
    "print(\"Embed hits: \", len(disqus_embed_df))"
   ]
  },
  {
   "cell_type": "code",
   "execution_count": 5,
   "id": "7dbec520-cef7-43f2-91c2-e150c3ca419d",
   "metadata": {},
   "outputs": [
    {
     "name": "stdout",
     "output_type": "stream",
     "text": [
      "Identifier hits:  2220\n"
     ]
    }
   ],
   "source": [
    "disqus_identifier_df = ah.filter_csv_content_regex(dataset_location, \"(?i)data-disqus-identifier\", chunksize)\n",
    "disqus_identifier_df['disqus_identifier']=True\n",
    "print(\"Identifier hits: \", len(disqus_identifier_df))"
   ]
  },
  {
   "cell_type": "code",
   "execution_count": 6,
   "id": "3ec46ab0-5da2-4309-92d4-fa600e17801d",
   "metadata": {},
   "outputs": [
    {
     "name": "stdout",
     "output_type": "stream",
     "text": [
      "thread hits:  4952\n"
     ]
    }
   ],
   "source": [
    "disqus_thread = ah.filter_csv_content_regex(dataset_location, \"(?i)disqus_thread\", chunksize)\n",
    "disqus_thread['disqus_thread']=True\n",
    "print(\"thread hits: \", len(disqus_thread))"
   ]
  },
  {
   "cell_type": "markdown",
   "id": "073bb14f-93a5-45bb-b72f-b3edfca5e9cc",
   "metadata": {
    "tags": []
   },
   "source": [
    "Only use domains within the research scope"
   ]
  },
  {
   "cell_type": "code",
   "execution_count": 7,
   "id": "b106cfe3-609f-4f79-b284-f55349ce10ea",
   "metadata": {},
   "outputs": [],
   "source": [
    "if (Dataset == \"World\"):\n",
    "    domains_in_scope = [\"https://cnn.com\",\"https://www.nytimes.com/\",\"https://www.theguardian.com/\",\"https://www.indiatimes.com/\",\"https://www.foxnews.com/\",\"https://www.washingtonpost.com/\",\"https://usatoday.com\",\"https://www.cnbc.com\",\"http://www.chinadaily.com.cn/\",\"https://www.thehindu.com/\",\"https://www.wsj.com\",\"https://nypost.com/\",\"https://www.huffingtonpost.com\",\"https://abcnews.go.com/\",\"https://www.bbc.com/\",\"https://www.dailymail.co.uk/\",\"https://timesofindia.indiatimes.com/\",\"https://www.independent.co.uk/\",\"https://www.smh.com.au/\",\"https://www.telegraph.co.uk/\",\"https://www.latimes.com/\",\"https://www.sfgate.com/\",\"https://www.nbcnews.com/\",\"https://buzzfeednews.com\",\"https://aljazeera.com\",\"https://rt.com\",\"https://reuters.com\",\"https://npr.org\",\"https://sputniknews.com\",\"https://cbsnews.com\",\"https://cbc.ca\",\"https://abc.net.au\",\"https://time.com\",\"https://mirror.co.uk\",\"https://thesun.co.uk\",\"https://euronews.com\",\"https://ctvnews.ca\",\"https://vox.com\",\"https://scmp.com\",\"https://france24.com\",\"https://express.co.uk\",\"https://news.sky.com\",\"https://news24.com\",\"https://globalnews.ca\",\"https://channelnewsasia.com\",\"https://rawstory.com\",\"https://washingtontimes.com\",\"https://todayonline.com\",\"https://dailytelegraph.com.au\",\"https://csmonitor.com\"]\n",
    "elif (Dataset == \"German\"):\n",
    "    domains_in_scope = [\"https://www.bild.de\",\"https://www.waz.de\",\"https://www.zeit.de/\",\"https://www.sueddeutsche.de\",\"https://www.welt.de/\",\"https://rp-online.de/\",\"https://www.faz.net/\",\"https://www.augsburger-allgemeine.de/\",\"https://www.allgaeuer-zeitung.de/\",\"https://www.freiepresse.de\",\"https://www.merkur.de\",\"https://www.lvz.de\",\"https://www.mz.de\",\"https://www.wn.de\",\"https://www.hna.de\",\"https://www.rheinpfalz.de\",\"https://www.volksstimme.de\",\"https://www.handelsblatt.com\",\"https://taz.de\",\"https://www.nd-aktuell.de\",\"https://jungefreiheit.de\",\"https://www.freitag.de\",\"http://www.das-parlament.de\",\"https://www.juedische-allgemeine.de\",\"https://www.fr.de\",\"https://www.abendblatt.de\",\"https://www.morgenpost.de\",\"https://www.tagesspiegel.de\",\"https://www.bz-berlin.de\",\"https://www.ftd.de\",\"https://www.ksta.de/\",\"https://www.stuttgarter-zeitung.de\",\"https://www.badische-zeitung.de\",\"https://www.tz.de\",\"https://www.mopo.de\",\"https://www.berliner-zeitung.de\",\"https://www.haz.de\",\"https://www.stuttgarter-nachrichten.de\",\"http://www.spiegel.de/\",\"https://www.deutschlandfunk.de/\",\"https://www.focus.de/\",\"https://www.stern.de/\",\"https://www.zdf.de/\",\"https://wdr.de/\",\"https://www.ndr.de/\",\"https://www.br.de/\",\"https://www.swr.de/\",\"https://www.mainpost.de/\",\"https://www.nwzonline.de/\",\"https://mads.de/\"]\n",
    "elif (Dataset == \"Dutch\"):\n",
    "    domains_in_scope = [\"https://fd.nl/\",\"https://www.ad.nl\",\"https://www.nd.nl/\",\"https://www.nrc.nl/\",\"https://www.rd.nl/\",\"https://www.telegraaf.nl/\",\"https://www.trouw.nl\",\"https://www.volkskrant.nl/\",\"https://www.ewmagazine.nl/\",\"https://www.bd.nl\",\"https://www.bndestem.nl\",\"https://www.destentor.nl\",\"https://www.dvhn.nl\",\"https://www.ed.nl\",\"https://www.gelderlander.nl\",\"https://www.haarlemsdagblad.nl/\",\"https://www.lc.nl/\",\"https://www.leidschdagblad.nl/\",\"https://www.limburger.nl\",\"https://www.noordhollandsdagblad.nl\",\"https://www.parool.nl\",\"https://www.pzc.nl\",\"https://www.tubantia.nl\",\"https://jeugdjournaal.nl/\",\"https://nieuws.nl/\",\"https://nos.nl/\",\"https://www.1limburg.nl/\",\"https://www.businessinsider.nl/\",\"https://www.dutchnews.nl/\",\"https://www.ewmagazine.nl/\",\"https://www.geenstijl.nl/\",\"https://www.kliknieuws.nl/\",\"https://www.metronieuws.nl/\",\"https://www.nhnieuws.nl/\",\"https://www.ninefornews.nl/\",\"https://www.nu.nl/\",\"https://www.quotenet.nl\",\"https://www.rtlnieuws.nl\",\"https://www.tpo.nl\",\"https://www.welingelichtekringen.nl\",\"https://www.hartvannederland.nl/\",\"https://www.bnr.nl/\",\"https://www.dagelijksestandaard.nl/\",\"http://www.joop.nl/\",\"https://www.hpdetijd.nl/\",\"https://www.groene.nl/\",\"https://www.oneworld.nl/\",\"https://www.vn.nl/\",\"https://sargasso.nl/\",\"https://www.powned.tv/\"]\n",
    "\n",
    "domains_in_scope = list(map(ah.to_domain, domains_in_scope))\n",
    "disqus_embed_df = ah.filter_dataframe_domains(disqus_embed_df, domains_in_scope).reset_index(drop=True)\n",
    "disqus_identifier_df = ah.filter_dataframe_domains(disqus_identifier_df, domains_in_scope).reset_index(drop=True)\n",
    "disqus_thread = ah.filter_dataframe_domains(disqus_thread, domains_in_scope).reset_index(drop=True)"
   ]
  },
  {
   "cell_type": "code",
   "execution_count": 8,
   "id": "fb112704-d153-40a4-abb0-767c35a2aac5",
   "metadata": {},
   "outputs": [
    {
     "name": "stdout",
     "output_type": "stream",
     "text": [
      "Embed hits:  2223\n",
      "Identifier hits:  2186\n",
      "thread hits:  4742\n"
     ]
    }
   ],
   "source": [
    "print(\"Embed hits: \", len(disqus_embed_df))\n",
    "print(\"Identifier hits: \", len(disqus_identifier_df))\n",
    "print(\"thread hits: \", len(disqus_thread))"
   ]
  },
  {
   "cell_type": "markdown",
   "id": "8f2a1e5d-cdfa-422f-b85d-a055a48650a7",
   "metadata": {},
   "source": [
    "Merge individual searches"
   ]
  },
  {
   "cell_type": "code",
   "execution_count": 9,
   "id": "e760790a-2ac3-4b0b-81f1-74d6535c112e",
   "metadata": {},
   "outputs": [
    {
     "data": {
      "text/html": [
       "<div>\n",
       "<style scoped>\n",
       "    .dataframe tbody tr th:only-of-type {\n",
       "        vertical-align: middle;\n",
       "    }\n",
       "\n",
       "    .dataframe tbody tr th {\n",
       "        vertical-align: top;\n",
       "    }\n",
       "\n",
       "    .dataframe thead th {\n",
       "        text-align: right;\n",
       "    }\n",
       "</style>\n",
       "<table border=\"1\" class=\"dataframe\">\n",
       "  <thead>\n",
       "    <tr style=\"text-align: right;\">\n",
       "      <th></th>\n",
       "      <th>crawl_date</th>\n",
       "      <th>url</th>\n",
       "      <th>filename</th>\n",
       "      <th>extension</th>\n",
       "      <th>mime_type_web_server</th>\n",
       "      <th>mime_type_tika</th>\n",
       "      <th>md5</th>\n",
       "      <th>sha1</th>\n",
       "      <th>content</th>\n",
       "      <th>disqus_embed</th>\n",
       "      <th>disqus_identifier</th>\n",
       "      <th>disqus_thread</th>\n",
       "    </tr>\n",
       "  </thead>\n",
       "  <tbody>\n",
       "    <tr>\n",
       "      <th>0</th>\n",
       "      <td>20120206</td>\n",
       "      <td>http://www.noordhollandsdagblad.nl/nieuws/econ...</td>\n",
       "      <td>Beurzen-omlaag-door-zorgen-eurocrisis</td>\n",
       "      <td>xhtml</td>\n",
       "      <td>text/html</td>\n",
       "      <td>application/xhtml+xml</td>\n",
       "      <td>b9b10e9eca24f0329de1d7cb4c3fffa8</td>\n",
       "      <td>12f313ba32f370f412c0c4c7617b06afe1f9d223</td>\n",
       "      <td>&lt;!DOCTYPE html PUBLIC \"-//W3C//DTD XHTML 1.0 S...</td>\n",
       "      <td>True</td>\n",
       "      <td>True</td>\n",
       "      <td>True</td>\n",
       "    </tr>\n",
       "    <tr>\n",
       "      <th>1</th>\n",
       "      <td>20120204</td>\n",
       "      <td>http://www.noordhollandsdagblad.nl/nieuws/econ...</td>\n",
       "      <td>Beurzen-omlaag-door-zorgen-eurocrisis</td>\n",
       "      <td>xhtml</td>\n",
       "      <td>text/html</td>\n",
       "      <td>application/xhtml+xml</td>\n",
       "      <td>188d13258e259435e1b2750a02dda384</td>\n",
       "      <td>6749339a84c9186f595e30270b6a5ead3e10ee57</td>\n",
       "      <td>&lt;!DOCTYPE html PUBLIC \"-//W3C//DTD XHTML 1.0 S...</td>\n",
       "      <td>True</td>\n",
       "      <td>True</td>\n",
       "      <td>True</td>\n",
       "    </tr>\n",
       "    <tr>\n",
       "      <th>2</th>\n",
       "      <td>20120205</td>\n",
       "      <td>http://www.noordhollandsdagblad.nl/nieuws/spor...</td>\n",
       "      <td>Wozniacki-in-tranen-door-polsblessure</td>\n",
       "      <td>xhtml</td>\n",
       "      <td>text/html</td>\n",
       "      <td>application/xhtml+xml</td>\n",
       "      <td>f261eca98ba0940997a6baaaf47a08ad</td>\n",
       "      <td>3d171a3453aeea3cf9e1805c2636e914be9f8771</td>\n",
       "      <td>&lt;!DOCTYPE html PUBLIC \"-//W3C//DTD XHTML 1.0 S...</td>\n",
       "      <td>True</td>\n",
       "      <td>True</td>\n",
       "      <td>True</td>\n",
       "    </tr>\n",
       "    <tr>\n",
       "      <th>3</th>\n",
       "      <td>20120202</td>\n",
       "      <td>http://www.noordhollandsdagblad.nl/nieuws/spor...</td>\n",
       "      <td>Wozniacki-in-tranen-door-polsblessure</td>\n",
       "      <td>xhtml</td>\n",
       "      <td>text/html</td>\n",
       "      <td>application/xhtml+xml</td>\n",
       "      <td>c36adfe393ce032d0811983d58bfb182</td>\n",
       "      <td>b9d9291aaa684a928ae6d1f00dc80dfe6e6c8bf4</td>\n",
       "      <td>&lt;!DOCTYPE html PUBLIC \"-//W3C//DTD XHTML 1.0 S...</td>\n",
       "      <td>True</td>\n",
       "      <td>True</td>\n",
       "      <td>True</td>\n",
       "    </tr>\n",
       "    <tr>\n",
       "      <th>4</th>\n",
       "      <td>20120205</td>\n",
       "      <td>http://www.noordhollandsdagblad.nl/nieuws/spor...</td>\n",
       "      <td>Turnsters-grijpen-naast-teamticket-Spelen</td>\n",
       "      <td>xhtml</td>\n",
       "      <td>text/html</td>\n",
       "      <td>application/xhtml+xml</td>\n",
       "      <td>087c4585080ab94be031d1db5301c02d</td>\n",
       "      <td>7ff02aba73b2e97ff3cd25ac189089f06b69976e</td>\n",
       "      <td>&lt;!DOCTYPE html PUBLIC \"-//W3C//DTD XHTML 1.0 S...</td>\n",
       "      <td>True</td>\n",
       "      <td>True</td>\n",
       "      <td>True</td>\n",
       "    </tr>\n",
       "    <tr>\n",
       "      <th>...</th>\n",
       "      <td>...</td>\n",
       "      <td>...</td>\n",
       "      <td>...</td>\n",
       "      <td>...</td>\n",
       "      <td>...</td>\n",
       "      <td>...</td>\n",
       "      <td>...</td>\n",
       "      <td>...</td>\n",
       "      <td>...</td>\n",
       "      <td>...</td>\n",
       "      <td>...</td>\n",
       "      <td>...</td>\n",
       "    </tr>\n",
       "    <tr>\n",
       "      <th>4738</th>\n",
       "      <td>20120225</td>\n",
       "      <td>http://www.vn.nl/boeken/schrijver/de-giftige-w...</td>\n",
       "      <td>NaN</td>\n",
       "      <td>html</td>\n",
       "      <td>text/html</td>\n",
       "      <td>text/html</td>\n",
       "      <td>361938b309a683eb920f4cbce3537595</td>\n",
       "      <td>1b5fbe72d6931a04351dca483944385fcdf8017e</td>\n",
       "      <td>&lt;!DOCTYPE html&gt;\\n\\n&lt;!--[if lt IE 7 ]&gt; &lt;html cl...</td>\n",
       "      <td>NaN</td>\n",
       "      <td>NaN</td>\n",
       "      <td>True</td>\n",
       "    </tr>\n",
       "    <tr>\n",
       "      <th>4739</th>\n",
       "      <td>20130311</td>\n",
       "      <td>http://www.vn.nl/boeken/schrijver/ramsey-nasr-...</td>\n",
       "      <td>NaN</td>\n",
       "      <td>html</td>\n",
       "      <td>text/html</td>\n",
       "      <td>text/html</td>\n",
       "      <td>38e6efdf68f6736a3c5fdbd69620ba52</td>\n",
       "      <td>5450e586db039893a8baf7759758335e156ddab1</td>\n",
       "      <td>&lt;!DOCTYPE html&gt;\\n\\n&lt;!--[if lt IE 7 ]&gt; &lt;html cl...</td>\n",
       "      <td>NaN</td>\n",
       "      <td>NaN</td>\n",
       "      <td>True</td>\n",
       "    </tr>\n",
       "    <tr>\n",
       "      <th>4740</th>\n",
       "      <td>20120512</td>\n",
       "      <td>http://www.vn.nl/boeken/theater-2/actrice-anni...</td>\n",
       "      <td>NaN</td>\n",
       "      <td>html</td>\n",
       "      <td>text/html</td>\n",
       "      <td>text/html</td>\n",
       "      <td>eac516c29ce5b2023d5c0601c9c572c1</td>\n",
       "      <td>6ba7b047ab7578a7a533a63691e819e1fe952d27</td>\n",
       "      <td>&lt;!DOCTYPE html&gt;\\n\\n&lt;!--[if lt IE 7 ]&gt; &lt;html cl...</td>\n",
       "      <td>NaN</td>\n",
       "      <td>NaN</td>\n",
       "      <td>True</td>\n",
       "    </tr>\n",
       "    <tr>\n",
       "      <th>4741</th>\n",
       "      <td>20120512</td>\n",
       "      <td>http://www.vn.nl/boeken/theater-2/wij-zijn-all...</td>\n",
       "      <td>NaN</td>\n",
       "      <td>html</td>\n",
       "      <td>text/html</td>\n",
       "      <td>text/html</td>\n",
       "      <td>8693694157e079bc8dd6daa6c03c2460</td>\n",
       "      <td>550d7f1232ba618de845f64ac6b5888f142f41fa</td>\n",
       "      <td>&lt;!DOCTYPE html&gt;\\n\\n&lt;!--[if lt IE 7 ]&gt; &lt;html cl...</td>\n",
       "      <td>NaN</td>\n",
       "      <td>NaN</td>\n",
       "      <td>True</td>\n",
       "    </tr>\n",
       "    <tr>\n",
       "      <th>4742</th>\n",
       "      <td>20111212</td>\n",
       "      <td>http://www.vn.nl/Dossiers/Meer-dossiers/Crime/...</td>\n",
       "      <td>De-codetaal-van-de-joegomaffia.htm</td>\n",
       "      <td>htm</td>\n",
       "      <td>text/html</td>\n",
       "      <td>text/html</td>\n",
       "      <td>30f875472f3916493a1324021863e040</td>\n",
       "      <td>2d21854968ae9fa72afc0a90988161e377a4b83a</td>\n",
       "      <td>&lt;!doctype html&gt;\\n&lt;!--[if IE]&gt;&lt;![endif]--&gt;\\n&lt;!-...</td>\n",
       "      <td>NaN</td>\n",
       "      <td>NaN</td>\n",
       "      <td>True</td>\n",
       "    </tr>\n",
       "  </tbody>\n",
       "</table>\n",
       "<p>4743 rows × 12 columns</p>\n",
       "</div>"
      ],
      "text/plain": [
       "      crawl_date                                                url  \\\n",
       "0       20120206  http://www.noordhollandsdagblad.nl/nieuws/econ...   \n",
       "1       20120204  http://www.noordhollandsdagblad.nl/nieuws/econ...   \n",
       "2       20120205  http://www.noordhollandsdagblad.nl/nieuws/spor...   \n",
       "3       20120202  http://www.noordhollandsdagblad.nl/nieuws/spor...   \n",
       "4       20120205  http://www.noordhollandsdagblad.nl/nieuws/spor...   \n",
       "...          ...                                                ...   \n",
       "4738    20120225  http://www.vn.nl/boeken/schrijver/de-giftige-w...   \n",
       "4739    20130311  http://www.vn.nl/boeken/schrijver/ramsey-nasr-...   \n",
       "4740    20120512  http://www.vn.nl/boeken/theater-2/actrice-anni...   \n",
       "4741    20120512  http://www.vn.nl/boeken/theater-2/wij-zijn-all...   \n",
       "4742    20111212  http://www.vn.nl/Dossiers/Meer-dossiers/Crime/...   \n",
       "\n",
       "                                       filename extension  \\\n",
       "0         Beurzen-omlaag-door-zorgen-eurocrisis     xhtml   \n",
       "1         Beurzen-omlaag-door-zorgen-eurocrisis     xhtml   \n",
       "2         Wozniacki-in-tranen-door-polsblessure     xhtml   \n",
       "3         Wozniacki-in-tranen-door-polsblessure     xhtml   \n",
       "4     Turnsters-grijpen-naast-teamticket-Spelen     xhtml   \n",
       "...                                         ...       ...   \n",
       "4738                                        NaN      html   \n",
       "4739                                        NaN      html   \n",
       "4740                                        NaN      html   \n",
       "4741                                        NaN      html   \n",
       "4742         De-codetaal-van-de-joegomaffia.htm       htm   \n",
       "\n",
       "     mime_type_web_server         mime_type_tika  \\\n",
       "0               text/html  application/xhtml+xml   \n",
       "1               text/html  application/xhtml+xml   \n",
       "2               text/html  application/xhtml+xml   \n",
       "3               text/html  application/xhtml+xml   \n",
       "4               text/html  application/xhtml+xml   \n",
       "...                   ...                    ...   \n",
       "4738            text/html              text/html   \n",
       "4739            text/html              text/html   \n",
       "4740            text/html              text/html   \n",
       "4741            text/html              text/html   \n",
       "4742            text/html              text/html   \n",
       "\n",
       "                                   md5  \\\n",
       "0     b9b10e9eca24f0329de1d7cb4c3fffa8   \n",
       "1     188d13258e259435e1b2750a02dda384   \n",
       "2     f261eca98ba0940997a6baaaf47a08ad   \n",
       "3     c36adfe393ce032d0811983d58bfb182   \n",
       "4     087c4585080ab94be031d1db5301c02d   \n",
       "...                                ...   \n",
       "4738  361938b309a683eb920f4cbce3537595   \n",
       "4739  38e6efdf68f6736a3c5fdbd69620ba52   \n",
       "4740  eac516c29ce5b2023d5c0601c9c572c1   \n",
       "4741  8693694157e079bc8dd6daa6c03c2460   \n",
       "4742  30f875472f3916493a1324021863e040   \n",
       "\n",
       "                                          sha1  \\\n",
       "0     12f313ba32f370f412c0c4c7617b06afe1f9d223   \n",
       "1     6749339a84c9186f595e30270b6a5ead3e10ee57   \n",
       "2     3d171a3453aeea3cf9e1805c2636e914be9f8771   \n",
       "3     b9d9291aaa684a928ae6d1f00dc80dfe6e6c8bf4   \n",
       "4     7ff02aba73b2e97ff3cd25ac189089f06b69976e   \n",
       "...                                        ...   \n",
       "4738  1b5fbe72d6931a04351dca483944385fcdf8017e   \n",
       "4739  5450e586db039893a8baf7759758335e156ddab1   \n",
       "4740  6ba7b047ab7578a7a533a63691e819e1fe952d27   \n",
       "4741  550d7f1232ba618de845f64ac6b5888f142f41fa   \n",
       "4742  2d21854968ae9fa72afc0a90988161e377a4b83a   \n",
       "\n",
       "                                                content disqus_embed  \\\n",
       "0     <!DOCTYPE html PUBLIC \"-//W3C//DTD XHTML 1.0 S...         True   \n",
       "1     <!DOCTYPE html PUBLIC \"-//W3C//DTD XHTML 1.0 S...         True   \n",
       "2     <!DOCTYPE html PUBLIC \"-//W3C//DTD XHTML 1.0 S...         True   \n",
       "3     <!DOCTYPE html PUBLIC \"-//W3C//DTD XHTML 1.0 S...         True   \n",
       "4     <!DOCTYPE html PUBLIC \"-//W3C//DTD XHTML 1.0 S...         True   \n",
       "...                                                 ...          ...   \n",
       "4738  <!DOCTYPE html>\\n\\n<!--[if lt IE 7 ]> <html cl...          NaN   \n",
       "4739  <!DOCTYPE html>\\n\\n<!--[if lt IE 7 ]> <html cl...          NaN   \n",
       "4740  <!DOCTYPE html>\\n\\n<!--[if lt IE 7 ]> <html cl...          NaN   \n",
       "4741  <!DOCTYPE html>\\n\\n<!--[if lt IE 7 ]> <html cl...          NaN   \n",
       "4742  <!doctype html>\\n<!--[if IE]><![endif]-->\\n<!-...          NaN   \n",
       "\n",
       "     disqus_identifier disqus_thread  \n",
       "0                 True          True  \n",
       "1                 True          True  \n",
       "2                 True          True  \n",
       "3                 True          True  \n",
       "4                 True          True  \n",
       "...                ...           ...  \n",
       "4738               NaN          True  \n",
       "4739               NaN          True  \n",
       "4740               NaN          True  \n",
       "4741               NaN          True  \n",
       "4742               NaN          True  \n",
       "\n",
       "[4743 rows x 12 columns]"
      ]
     },
     "execution_count": 9,
     "metadata": {},
     "output_type": "execute_result"
    }
   ],
   "source": [
    "disqus_df = disqus_embed_df.merge(disqus_identifier_df, on=[\"crawl_date\",\"url\",\"filename\",\"extension\",\"mime_type_web_server\",\"mime_type_tika\",\"md5\", \"sha1\",\"content\"], how='outer')\n",
    "disqus_df = disqus_df.merge(disqus_thread, on=[\"crawl_date\",\"url\",\"filename\",\"extension\",\"mime_type_web_server\",\"mime_type_tika\",\"md5\", \"sha1\",\"content\"], how='outer')\n",
    "disqus_df"
   ]
  },
  {
   "cell_type": "markdown",
   "id": "89d52738-e746-4109-8888-f020609a041f",
   "metadata": {
    "tags": []
   },
   "source": [
    "Fill in the NaN hits caused by the merging of the results."
   ]
  },
  {
   "cell_type": "code",
   "execution_count": 10,
   "id": "debc1511-4d6d-4289-b13e-5bb86be84805",
   "metadata": {},
   "outputs": [],
   "source": [
    "disqus_df = disqus_df.fillna(False)"
   ]
  },
  {
   "cell_type": "markdown",
   "id": "6bb3b942-d0a5-4157-a1dc-49c21c9ec616",
   "metadata": {},
   "source": [
    "Count the pages with Disqus in their HTML"
   ]
  },
  {
   "cell_type": "code",
   "execution_count": 11,
   "id": "f575b650-f771-40a7-8d8d-c753bc549595",
   "metadata": {},
   "outputs": [
    {
     "data": {
      "text/plain": [
       "4743"
      ]
     },
     "execution_count": 11,
     "metadata": {},
     "output_type": "execute_result"
    }
   ],
   "source": [
    "len(disqus_df)"
   ]
  },
  {
   "cell_type": "markdown",
   "id": "7ef06e55",
   "metadata": {},
   "source": [
    "Note that this finds more hits than grep. It seems the csv file is too large for grep. the same query in awk does give the expected number of results\n",
    "\n",
    "```grep -i -n 'disqus\\.js' C/Users/rjans/Desktop/ARCH/Data/disqus.csv```  \n",
    "vs  \n",
    "```awk -e '/disqus\\.js/ {print $0}' C/Users/rjans/Desktop/ARCH/Data/html-file-information-German.csv```"
   ]
  },
  {
   "cell_type": "markdown",
   "id": "5cde1c43-e9d7-47a8-bc1e-aea6a3270ac1",
   "metadata": {},
   "source": [
    "Show the unique domains"
   ]
  },
  {
   "cell_type": "code",
   "execution_count": 12,
   "id": "d0170c5a",
   "metadata": {
    "scrolled": true,
    "tags": []
   },
   "outputs": [
    {
     "name": "stdout",
     "output_type": "stream",
     "text": [
      "['noordhollandsdagblad.nl' 'nos.nl' 'dutchnews.nl' 'leidschdagblad.nl'\n",
      " 'nieuws.nl' 'haarlemsdagblad.nl' 'hpdetijd.nl' 'vn.nl'\n",
      " 'welingelichtekringen.nl' 'quotenet.nl' 'oneworld.nl' 'ninefornews.nl'\n",
      " 'nrc.nl' 'sargasso.nl']\n"
     ]
    }
   ],
   "source": [
    "print(disqus_df['url'].apply(ah.to_domain).unique())"
   ]
  },
  {
   "cell_type": "markdown",
   "id": "bdfcbc08-1ef0-4c91-abff-73d0c9bd89b5",
   "metadata": {},
   "source": [
    "# Display results"
   ]
  },
  {
   "cell_type": "markdown",
   "id": "3f79223c-61bd-47fa-b79a-e32731ccec63",
   "metadata": {},
   "source": [
    "Add year and domain collumns"
   ]
  },
  {
   "cell_type": "code",
   "execution_count": 13,
   "id": "90d97436-27fc-4621-8ef8-d1cc6a3efd1d",
   "metadata": {},
   "outputs": [],
   "source": [
    "disqus_df[\"year\"] = disqus_df[\"crawl_date\"].div(10000).round().astype(int)\n",
    "disqus_df[\"domain\"] = disqus_df['url'].apply(ah.to_domain)"
   ]
  },
  {
   "cell_type": "markdown",
   "id": "148b4d57-6390-4f85-85b0-5df1f1b96304",
   "metadata": {},
   "source": [
    "Display value_counts as dataframe"
   ]
  },
  {
   "cell_type": "code",
   "execution_count": 14,
   "id": "04ab0c9f-b170-4d28-a938-dc8837d20941",
   "metadata": {},
   "outputs": [
    {
     "data": {
      "text/html": [
       "<div>\n",
       "<style scoped>\n",
       "    .dataframe tbody tr th:only-of-type {\n",
       "        vertical-align: middle;\n",
       "    }\n",
       "\n",
       "    .dataframe tbody tr th {\n",
       "        vertical-align: top;\n",
       "    }\n",
       "\n",
       "    .dataframe thead th {\n",
       "        text-align: right;\n",
       "    }\n",
       "</style>\n",
       "<table border=\"1\" class=\"dataframe\">\n",
       "  <thead>\n",
       "    <tr style=\"text-align: right;\">\n",
       "      <th></th>\n",
       "      <th>year</th>\n",
       "      <th>domain</th>\n",
       "      <th>disqus_embed</th>\n",
       "      <th>disqus_identifier</th>\n",
       "      <th>disqus_thread</th>\n",
       "      <th>count</th>\n",
       "    </tr>\n",
       "  </thead>\n",
       "  <tbody>\n",
       "    <tr>\n",
       "      <th>0</th>\n",
       "      <td>2011</td>\n",
       "      <td>haarlemsdagblad.nl</td>\n",
       "      <td>False</td>\n",
       "      <td>True</td>\n",
       "      <td>True</td>\n",
       "      <td>53</td>\n",
       "    </tr>\n",
       "    <tr>\n",
       "      <th>1</th>\n",
       "      <td>2011</td>\n",
       "      <td>nrc.nl</td>\n",
       "      <td>False</td>\n",
       "      <td>False</td>\n",
       "      <td>True</td>\n",
       "      <td>6</td>\n",
       "    </tr>\n",
       "    <tr>\n",
       "      <th>2</th>\n",
       "      <td>2011</td>\n",
       "      <td>vn.nl</td>\n",
       "      <td>False</td>\n",
       "      <td>False</td>\n",
       "      <td>True</td>\n",
       "      <td>14</td>\n",
       "    </tr>\n",
       "    <tr>\n",
       "      <th>3</th>\n",
       "      <td>2011</td>\n",
       "      <td>vn.nl</td>\n",
       "      <td>False</td>\n",
       "      <td>True</td>\n",
       "      <td>True</td>\n",
       "      <td>11</td>\n",
       "    </tr>\n",
       "    <tr>\n",
       "      <th>4</th>\n",
       "      <td>2011</td>\n",
       "      <td>vn.nl</td>\n",
       "      <td>True</td>\n",
       "      <td>False</td>\n",
       "      <td>True</td>\n",
       "      <td>17</td>\n",
       "    </tr>\n",
       "    <tr>\n",
       "      <th>...</th>\n",
       "      <td>...</td>\n",
       "      <td>...</td>\n",
       "      <td>...</td>\n",
       "      <td>...</td>\n",
       "      <td>...</td>\n",
       "      <td>...</td>\n",
       "    </tr>\n",
       "    <tr>\n",
       "      <th>103</th>\n",
       "      <td>2019</td>\n",
       "      <td>nrc.nl</td>\n",
       "      <td>False</td>\n",
       "      <td>False</td>\n",
       "      <td>True</td>\n",
       "      <td>5</td>\n",
       "    </tr>\n",
       "    <tr>\n",
       "      <th>104</th>\n",
       "      <td>2019</td>\n",
       "      <td>welingelichtekringen.nl</td>\n",
       "      <td>False</td>\n",
       "      <td>True</td>\n",
       "      <td>True</td>\n",
       "      <td>188</td>\n",
       "    </tr>\n",
       "    <tr>\n",
       "      <th>105</th>\n",
       "      <td>2019</td>\n",
       "      <td>welingelichtekringen.nl</td>\n",
       "      <td>True</td>\n",
       "      <td>True</td>\n",
       "      <td>True</td>\n",
       "      <td>1</td>\n",
       "    </tr>\n",
       "    <tr>\n",
       "      <th>106</th>\n",
       "      <td>2020</td>\n",
       "      <td>nieuws.nl</td>\n",
       "      <td>False</td>\n",
       "      <td>False</td>\n",
       "      <td>True</td>\n",
       "      <td>59</td>\n",
       "    </tr>\n",
       "    <tr>\n",
       "      <th>107</th>\n",
       "      <td>2021</td>\n",
       "      <td>nieuws.nl</td>\n",
       "      <td>False</td>\n",
       "      <td>False</td>\n",
       "      <td>True</td>\n",
       "      <td>8</td>\n",
       "    </tr>\n",
       "  </tbody>\n",
       "</table>\n",
       "<p>108 rows × 6 columns</p>\n",
       "</div>"
      ],
      "text/plain": [
       "     year                   domain  disqus_embed  disqus_identifier  \\\n",
       "0    2011       haarlemsdagblad.nl         False               True   \n",
       "1    2011                   nrc.nl         False              False   \n",
       "2    2011                    vn.nl         False              False   \n",
       "3    2011                    vn.nl         False               True   \n",
       "4    2011                    vn.nl          True              False   \n",
       "..    ...                      ...           ...                ...   \n",
       "103  2019                   nrc.nl         False              False   \n",
       "104  2019  welingelichtekringen.nl         False               True   \n",
       "105  2019  welingelichtekringen.nl          True               True   \n",
       "106  2020                nieuws.nl         False              False   \n",
       "107  2021                nieuws.nl         False              False   \n",
       "\n",
       "     disqus_thread  count  \n",
       "0             True     53  \n",
       "1             True      6  \n",
       "2             True     14  \n",
       "3             True     11  \n",
       "4             True     17  \n",
       "..             ...    ...  \n",
       "103           True      5  \n",
       "104           True    188  \n",
       "105           True      1  \n",
       "106           True     59  \n",
       "107           True      8  \n",
       "\n",
       "[108 rows x 6 columns]"
      ]
     },
     "execution_count": 14,
     "metadata": {},
     "output_type": "execute_result"
    }
   ],
   "source": [
    "#pd.set_option('display.max_rows', 500)\n",
    "results = pd.DataFrame(disqus_df[['year','domain','disqus_embed','disqus_identifier','disqus_thread']].value_counts().sort_index()).reset_index()\n",
    "results.rename(columns={0:'count'}, inplace=True)\n",
    "results"
   ]
  },
  {
   "cell_type": "code",
   "execution_count": 15,
   "id": "cdf6c3db-13ca-4614-b4be-ba6124c28a3a",
   "metadata": {},
   "outputs": [
    {
     "name": "stdout",
     "output_type": "stream",
     "text": [
      "disqus_embed_hits:  45\n",
      "disqus_identifier_hits:  54\n",
      "disqus_thread_hits:  107\n",
      "disqus_embed_and_identifier_hits:  25\n",
      "disqus_embed_and_thread_hits:  45\n",
      "disqus_identifier_and_thread_hits:  54\n"
     ]
    }
   ],
   "source": [
    "disqus_embed_hits = results[results.disqus_embed == True]\n",
    "disqus_identifier_hits = results[results.disqus_identifier == True]\n",
    "disqus_thread_hits = results[results.disqus_thread == True]\n",
    "\n",
    "disqus_embed_and_identifier_hits = ah.dataframe_intersection(disqus_embed_hits,disqus_identifier_hits)\n",
    "disqus_embed_and_thread_hits = ah.dataframe_intersection(disqus_embed_hits,disqus_thread_hits)\n",
    "disqus_identifier_and_thread_hits = ah.dataframe_intersection(disqus_identifier_hits,disqus_identifier_hits)\n",
    "\n",
    "print(\"disqus_embed_hits: \", len(disqus_embed_hits))\n",
    "print(\"disqus_identifier_hits: \", len(disqus_identifier_hits))\n",
    "print(\"disqus_thread_hits: \", len(disqus_thread_hits))\n",
    "\n",
    "print(\"disqus_embed_and_identifier_hits: \", len(disqus_embed_and_identifier_hits))\n",
    "print(\"disqus_embed_and_thread_hits: \", len(disqus_embed_and_thread_hits))\n",
    "print(\"disqus_identifier_and_thread_hits: \", len(disqus_identifier_and_thread_hits))"
   ]
  },
  {
   "cell_type": "markdown",
   "id": "4d3a7c5b-d413-49fb-8322-9096678ad27d",
   "metadata": {},
   "source": [
    "Display presence of Disqus per domain per year"
   ]
  },
  {
   "cell_type": "code",
   "execution_count": 16,
   "id": "7ea9ea31-7930-486a-967d-bbce1773e70f",
   "metadata": {},
   "outputs": [
    {
     "name": "stdout",
     "output_type": "stream",
     "text": [
      "haarlemsdagblad.nl uses Disqus is in: [2011, 2012, 2013, 2014]\n",
      "nrc.nl uses Disqus is in: [2011, 2012, 2013, 2014, 2015, 2016, 2017, 2019]\n",
      "vn.nl uses Disqus is in: [2011, 2012, 2013, 2014, 2015]\n",
      "leidschdagblad.nl uses Disqus is in: [2012, 2013, 2014, 2015]\n",
      "noordhollandsdagblad.nl uses Disqus is in: [2012, 2013, 2014, 2015, 2016]\n",
      "nos.nl uses Disqus is in: [2012, 2013, 2014]\n",
      "dutchnews.nl uses Disqus is in: [2013, 2014, 2015, 2016, 2017, 2019]\n",
      "hpdetijd.nl uses Disqus is in: [2013, 2014, 2015, 2016]\n",
      "quotenet.nl uses Disqus is in: [2013, 2014, 2015, 2016, 2017]\n",
      "welingelichtekringen.nl uses Disqus is in: [2013, 2014, 2015, 2016, 2017, 2018, 2019]\n",
      "nieuws.nl uses Disqus is in: [2014, 2016, 2017, 2018, 2019, 2020, 2021]\n",
      "oneworld.nl uses Disqus is in: [2014, 2015, 2016, 2017]\n",
      "sargasso.nl uses Disqus is in: [2017]\n",
      "ninefornews.nl uses Disqus is in: [2019]\n"
     ]
    }
   ],
   "source": [
    "domains = list(results.domain.unique())\n",
    "\n",
    "for domain in domains:\n",
    "    years = list(results[results.domain == domain].year.unique())\n",
    "    print(domain, \"uses Disqus is in:\", years)"
   ]
  },
  {
   "cell_type": "markdown",
   "id": "c748e154-9cf2-444c-a50e-3df7b2401d61",
   "metadata": {},
   "source": [
    "Display number of uniqe sites per year that use Disqus"
   ]
  },
  {
   "cell_type": "code",
   "execution_count": 17,
   "id": "a08fd0df-3443-4156-bcbe-6c790b432578",
   "metadata": {},
   "outputs": [
    {
     "data": {
      "text/html": [
       "<div>\n",
       "<style scoped>\n",
       "    .dataframe tbody tr th:only-of-type {\n",
       "        vertical-align: middle;\n",
       "    }\n",
       "\n",
       "    .dataframe tbody tr th {\n",
       "        vertical-align: top;\n",
       "    }\n",
       "\n",
       "    .dataframe thead th {\n",
       "        text-align: right;\n",
       "    }\n",
       "</style>\n",
       "<table border=\"1\" class=\"dataframe\">\n",
       "  <thead>\n",
       "    <tr style=\"text-align: right;\">\n",
       "      <th></th>\n",
       "      <th>year</th>\n",
       "      <th>sites</th>\n",
       "    </tr>\n",
       "  </thead>\n",
       "  <tbody>\n",
       "    <tr>\n",
       "      <th>0</th>\n",
       "      <td>2011</td>\n",
       "      <td>3</td>\n",
       "    </tr>\n",
       "    <tr>\n",
       "      <th>1</th>\n",
       "      <td>2012</td>\n",
       "      <td>6</td>\n",
       "    </tr>\n",
       "    <tr>\n",
       "      <th>2</th>\n",
       "      <td>2013</td>\n",
       "      <td>10</td>\n",
       "    </tr>\n",
       "    <tr>\n",
       "      <th>3</th>\n",
       "      <td>2014</td>\n",
       "      <td>12</td>\n",
       "    </tr>\n",
       "    <tr>\n",
       "      <th>4</th>\n",
       "      <td>2015</td>\n",
       "      <td>9</td>\n",
       "    </tr>\n",
       "    <tr>\n",
       "      <th>5</th>\n",
       "      <td>2016</td>\n",
       "      <td>8</td>\n",
       "    </tr>\n",
       "    <tr>\n",
       "      <th>6</th>\n",
       "      <td>2017</td>\n",
       "      <td>7</td>\n",
       "    </tr>\n",
       "    <tr>\n",
       "      <th>7</th>\n",
       "      <td>2018</td>\n",
       "      <td>2</td>\n",
       "    </tr>\n",
       "    <tr>\n",
       "      <th>8</th>\n",
       "      <td>2019</td>\n",
       "      <td>5</td>\n",
       "    </tr>\n",
       "    <tr>\n",
       "      <th>9</th>\n",
       "      <td>2020</td>\n",
       "      <td>1</td>\n",
       "    </tr>\n",
       "    <tr>\n",
       "      <th>10</th>\n",
       "      <td>2021</td>\n",
       "      <td>1</td>\n",
       "    </tr>\n",
       "  </tbody>\n",
       "</table>\n",
       "</div>"
      ],
      "text/plain": [
       "    year  sites\n",
       "0   2011      3\n",
       "1   2012      6\n",
       "2   2013     10\n",
       "3   2014     12\n",
       "4   2015      9\n",
       "5   2016      8\n",
       "6   2017      7\n",
       "7   2018      2\n",
       "8   2019      5\n",
       "9   2020      1\n",
       "10  2021      1"
      ]
     },
     "execution_count": 17,
     "metadata": {},
     "output_type": "execute_result"
    }
   ],
   "source": [
    "sites_per_year = pd.DataFrame(results[[\"year\", \"domain\"]].drop_duplicates()[\"year\"].value_counts().sort_index()).reset_index()\n",
    "sites_per_year.columns = [\"year\", \"sites\"]\n",
    "sites_per_year"
   ]
  },
  {
   "cell_type": "markdown",
   "id": "b0dd05ef",
   "metadata": {
    "tags": []
   },
   "source": [
    "Save the results in a seperate CSV (only needs to be done once)"
   ]
  },
  {
   "cell_type": "code",
   "execution_count": 18,
   "id": "ccb954b5",
   "metadata": {},
   "outputs": [],
   "source": [
    "#disqus_df.to_csv(\"disqus.csv\")"
   ]
  },
  {
   "cell_type": "markdown",
   "id": "39a04515",
   "metadata": {},
   "source": [
    "Convert **content** column to single line."
   ]
  },
  {
   "cell_type": "code",
   "execution_count": 19,
   "id": "bcaa1ee3",
   "metadata": {},
   "outputs": [],
   "source": [
    "for line in disqus_df.content:\n",
    "    disqus_df.content = disqus_df.content.replace(line, \" \".join(line.splitlines()))"
   ]
  },
  {
   "cell_type": "markdown",
   "id": "412449fe",
   "metadata": {},
   "source": [
    "Save as single line content in a seperate CSV (only needs to be done once)"
   ]
  },
  {
   "cell_type": "code",
   "execution_count": 20,
   "id": "63ea37d6",
   "metadata": {},
   "outputs": [],
   "source": [
    "#disqus_df.to_csv(\"disqus_single_line.csv\")"
   ]
  },
  {
   "cell_type": "markdown",
   "id": "8250400c",
   "metadata": {},
   "source": [
    "# For the found pages extract the comment structure"
   ]
  },
  {
   "cell_type": "markdown",
   "id": "6f00a560",
   "metadata": {},
   "source": [
    "Extract the disqus comments from the div tag with ```id=\"disqus_thread\"```"
   ]
  },
  {
   "cell_type": "code",
   "execution_count": 21,
   "id": "0fafe251",
   "metadata": {
    "tags": []
   },
   "outputs": [],
   "source": [
    "comments = []\n",
    "for line in disqus_df.content:\n",
    "    soup = BeautifulSoup(line, 'html.parser')\n",
    "    try:\n",
    "        comments.append(soup.find('div', attrs={'id': 'disqus_thread'}).prettify()) # .prettify() makes the HTML of the comments more human readable\n",
    "    except AttributeError:\n",
    "        comments.append(\"\")\n",
    "        \n",
    "disqus_df['comments'] = comments"
   ]
  },
  {
   "cell_type": "code",
   "execution_count": 22,
   "id": "da28729a",
   "metadata": {},
   "outputs": [
    {
     "data": {
      "text/html": [
       "<div>\n",
       "<style scoped>\n",
       "    .dataframe tbody tr th:only-of-type {\n",
       "        vertical-align: middle;\n",
       "    }\n",
       "\n",
       "    .dataframe tbody tr th {\n",
       "        vertical-align: top;\n",
       "    }\n",
       "\n",
       "    .dataframe thead th {\n",
       "        text-align: right;\n",
       "    }\n",
       "</style>\n",
       "<table border=\"1\" class=\"dataframe\">\n",
       "  <thead>\n",
       "    <tr style=\"text-align: right;\">\n",
       "      <th></th>\n",
       "      <th>crawl_date</th>\n",
       "      <th>url</th>\n",
       "      <th>comments</th>\n",
       "    </tr>\n",
       "  </thead>\n",
       "  <tbody>\n",
       "    <tr>\n",
       "      <th>0</th>\n",
       "      <td>20120206</td>\n",
       "      <td>http://www.noordhollandsdagblad.nl/nieuws/econ...</td>\n",
       "      <td>&lt;div id=\"disqus_thread\"&gt;\\n&lt;/div&gt;\\n</td>\n",
       "    </tr>\n",
       "    <tr>\n",
       "      <th>1</th>\n",
       "      <td>20120204</td>\n",
       "      <td>http://www.noordhollandsdagblad.nl/nieuws/econ...</td>\n",
       "      <td>&lt;div id=\"disqus_thread\"&gt;\\n&lt;/div&gt;\\n</td>\n",
       "    </tr>\n",
       "    <tr>\n",
       "      <th>2</th>\n",
       "      <td>20120205</td>\n",
       "      <td>http://www.noordhollandsdagblad.nl/nieuws/spor...</td>\n",
       "      <td>&lt;div id=\"disqus_thread\"&gt;\\n&lt;/div&gt;\\n</td>\n",
       "    </tr>\n",
       "    <tr>\n",
       "      <th>3</th>\n",
       "      <td>20120202</td>\n",
       "      <td>http://www.noordhollandsdagblad.nl/nieuws/spor...</td>\n",
       "      <td>&lt;div id=\"disqus_thread\"&gt;\\n&lt;/div&gt;\\n</td>\n",
       "    </tr>\n",
       "    <tr>\n",
       "      <th>4</th>\n",
       "      <td>20120205</td>\n",
       "      <td>http://www.noordhollandsdagblad.nl/nieuws/spor...</td>\n",
       "      <td>&lt;div id=\"disqus_thread\"&gt;\\n&lt;/div&gt;\\n</td>\n",
       "    </tr>\n",
       "    <tr>\n",
       "      <th>...</th>\n",
       "      <td>...</td>\n",
       "      <td>...</td>\n",
       "      <td>...</td>\n",
       "    </tr>\n",
       "    <tr>\n",
       "      <th>4738</th>\n",
       "      <td>20120225</td>\n",
       "      <td>http://www.vn.nl/boeken/schrijver/de-giftige-w...</td>\n",
       "      <td>&lt;div id=\"disqus_thread\"&gt;\\n&lt;/div&gt;\\n</td>\n",
       "    </tr>\n",
       "    <tr>\n",
       "      <th>4739</th>\n",
       "      <td>20130311</td>\n",
       "      <td>http://www.vn.nl/boeken/schrijver/ramsey-nasr-...</td>\n",
       "      <td>&lt;div id=\"disqus_thread\"&gt;\\n &lt;div id=\"dsq-conten...</td>\n",
       "    </tr>\n",
       "    <tr>\n",
       "      <th>4740</th>\n",
       "      <td>20120512</td>\n",
       "      <td>http://www.vn.nl/boeken/theater-2/actrice-anni...</td>\n",
       "      <td>&lt;div id=\"disqus_thread\"&gt;\\n&lt;/div&gt;\\n</td>\n",
       "    </tr>\n",
       "    <tr>\n",
       "      <th>4741</th>\n",
       "      <td>20120512</td>\n",
       "      <td>http://www.vn.nl/boeken/theater-2/wij-zijn-all...</td>\n",
       "      <td>&lt;div id=\"disqus_thread\"&gt;\\n&lt;/div&gt;\\n</td>\n",
       "    </tr>\n",
       "    <tr>\n",
       "      <th>4742</th>\n",
       "      <td>20111212</td>\n",
       "      <td>http://www.vn.nl/Dossiers/Meer-dossiers/Crime/...</td>\n",
       "      <td>&lt;div id=\"disqus_thread\"&gt;\\n&lt;/div&gt;\\n</td>\n",
       "    </tr>\n",
       "  </tbody>\n",
       "</table>\n",
       "<p>4743 rows × 3 columns</p>\n",
       "</div>"
      ],
      "text/plain": [
       "      crawl_date                                                url  \\\n",
       "0       20120206  http://www.noordhollandsdagblad.nl/nieuws/econ...   \n",
       "1       20120204  http://www.noordhollandsdagblad.nl/nieuws/econ...   \n",
       "2       20120205  http://www.noordhollandsdagblad.nl/nieuws/spor...   \n",
       "3       20120202  http://www.noordhollandsdagblad.nl/nieuws/spor...   \n",
       "4       20120205  http://www.noordhollandsdagblad.nl/nieuws/spor...   \n",
       "...          ...                                                ...   \n",
       "4738    20120225  http://www.vn.nl/boeken/schrijver/de-giftige-w...   \n",
       "4739    20130311  http://www.vn.nl/boeken/schrijver/ramsey-nasr-...   \n",
       "4740    20120512  http://www.vn.nl/boeken/theater-2/actrice-anni...   \n",
       "4741    20120512  http://www.vn.nl/boeken/theater-2/wij-zijn-all...   \n",
       "4742    20111212  http://www.vn.nl/Dossiers/Meer-dossiers/Crime/...   \n",
       "\n",
       "                                               comments  \n",
       "0                    <div id=\"disqus_thread\">\\n</div>\\n  \n",
       "1                    <div id=\"disqus_thread\">\\n</div>\\n  \n",
       "2                    <div id=\"disqus_thread\">\\n</div>\\n  \n",
       "3                    <div id=\"disqus_thread\">\\n</div>\\n  \n",
       "4                    <div id=\"disqus_thread\">\\n</div>\\n  \n",
       "...                                                 ...  \n",
       "4738                 <div id=\"disqus_thread\">\\n</div>\\n  \n",
       "4739  <div id=\"disqus_thread\">\\n <div id=\"dsq-conten...  \n",
       "4740                 <div id=\"disqus_thread\">\\n</div>\\n  \n",
       "4741                 <div id=\"disqus_thread\">\\n</div>\\n  \n",
       "4742                 <div id=\"disqus_thread\">\\n</div>\\n  \n",
       "\n",
       "[4743 rows x 3 columns]"
      ]
     },
     "execution_count": 22,
     "metadata": {},
     "output_type": "execute_result"
    }
   ],
   "source": [
    "#pd.set_option('display.max_colwidth', 500) \n",
    "disqus_df[['crawl_date','url','comments']]"
   ]
  },
  {
   "cell_type": "markdown",
   "id": "eea198f9-e4da-42e0-b35f-55d73ca7065e",
   "metadata": {},
   "source": [
    "# Add an internet archive URL to the dataframe"
   ]
  },
  {
   "cell_type": "code",
   "execution_count": 23,
   "id": "eb52f5ba",
   "metadata": {},
   "outputs": [],
   "source": [
    "ah.add_ia_url(disqus_df)"
   ]
  },
  {
   "cell_type": "markdown",
   "id": "1948144a",
   "metadata": {},
   "source": [
    "Filter out comment fields that are so short that they do net contain comments (based on the length).  \n",
    "32 characters is currently the shortest "
   ]
  },
  {
   "cell_type": "code",
   "execution_count": 24,
   "id": "9dcaebce",
   "metadata": {},
   "outputs": [
    {
     "data": {
      "text/html": [
       "<div>\n",
       "<style scoped>\n",
       "    .dataframe tbody tr th:only-of-type {\n",
       "        vertical-align: middle;\n",
       "    }\n",
       "\n",
       "    .dataframe tbody tr th {\n",
       "        vertical-align: top;\n",
       "    }\n",
       "\n",
       "    .dataframe thead th {\n",
       "        text-align: right;\n",
       "    }\n",
       "</style>\n",
       "<table border=\"1\" class=\"dataframe\">\n",
       "  <thead>\n",
       "    <tr style=\"text-align: right;\">\n",
       "      <th></th>\n",
       "      <th>comments</th>\n",
       "      <th>IA_url</th>\n",
       "    </tr>\n",
       "  </thead>\n",
       "  <tbody>\n",
       "    <tr>\n",
       "      <th>983</th>\n",
       "      <td>&lt;div id=\"disqus_thread\"&gt;\\n &lt;div id=\"dsq-conten...</td>\n",
       "      <td>https://web.archive.org/web/20150110/http://ww...</td>\n",
       "    </tr>\n",
       "    <tr>\n",
       "      <th>984</th>\n",
       "      <td>&lt;div id=\"disqus_thread\"&gt;\\n &lt;div id=\"dsq-conten...</td>\n",
       "      <td>https://web.archive.org/web/20150111/http://ww...</td>\n",
       "    </tr>\n",
       "    <tr>\n",
       "      <th>985</th>\n",
       "      <td>&lt;div id=\"disqus_thread\"&gt;\\n &lt;div id=\"dsq-conten...</td>\n",
       "      <td>https://web.archive.org/web/20160202/http://ww...</td>\n",
       "    </tr>\n",
       "    <tr>\n",
       "      <th>986</th>\n",
       "      <td>&lt;div id=\"disqus_thread\"&gt;\\n &lt;div id=\"dsq-conten...</td>\n",
       "      <td>https://web.archive.org/web/20150112/http://ww...</td>\n",
       "    </tr>\n",
       "    <tr>\n",
       "      <th>987</th>\n",
       "      <td>&lt;div id=\"disqus_thread\"&gt;\\n &lt;div id=\"dsq-conten...</td>\n",
       "      <td>https://web.archive.org/web/20160914/http://ww...</td>\n",
       "    </tr>\n",
       "    <tr>\n",
       "      <th>...</th>\n",
       "      <td>...</td>\n",
       "      <td>...</td>\n",
       "    </tr>\n",
       "    <tr>\n",
       "      <th>4646</th>\n",
       "      <td>&lt;div id=\"disqus_thread\"&gt;\\n &lt;noscript&gt;\\n  &lt;p&gt;\\n...</td>\n",
       "      <td>https://web.archive.org/web/20151011/http://ww...</td>\n",
       "    </tr>\n",
       "    <tr>\n",
       "      <th>4714</th>\n",
       "      <td>&lt;div id=\"disqus_thread\"&gt;\\n &lt;div id=\"dsq-conten...</td>\n",
       "      <td>https://web.archive.org/web/20120512/http://ww...</td>\n",
       "    </tr>\n",
       "    <tr>\n",
       "      <th>4716</th>\n",
       "      <td>&lt;div id=\"disqus_thread\"&gt;\\n &lt;div id=\"dsq-conten...</td>\n",
       "      <td>https://web.archive.org/web/20120420/http://ww...</td>\n",
       "    </tr>\n",
       "    <tr>\n",
       "      <th>4723</th>\n",
       "      <td>&lt;div id=\"disqus_thread\"&gt;\\n &lt;div id=\"dsq-conten...</td>\n",
       "      <td>https://web.archive.org/web/20120420/http://ww...</td>\n",
       "    </tr>\n",
       "    <tr>\n",
       "      <th>4739</th>\n",
       "      <td>&lt;div id=\"disqus_thread\"&gt;\\n &lt;div id=\"dsq-conten...</td>\n",
       "      <td>https://web.archive.org/web/20130311/http://ww...</td>\n",
       "    </tr>\n",
       "  </tbody>\n",
       "</table>\n",
       "<p>777 rows × 2 columns</p>\n",
       "</div>"
      ],
      "text/plain": [
       "                                               comments  \\\n",
       "983   <div id=\"disqus_thread\">\\n <div id=\"dsq-conten...   \n",
       "984   <div id=\"disqus_thread\">\\n <div id=\"dsq-conten...   \n",
       "985   <div id=\"disqus_thread\">\\n <div id=\"dsq-conten...   \n",
       "986   <div id=\"disqus_thread\">\\n <div id=\"dsq-conten...   \n",
       "987   <div id=\"disqus_thread\">\\n <div id=\"dsq-conten...   \n",
       "...                                                 ...   \n",
       "4646  <div id=\"disqus_thread\">\\n <noscript>\\n  <p>\\n...   \n",
       "4714  <div id=\"disqus_thread\">\\n <div id=\"dsq-conten...   \n",
       "4716  <div id=\"disqus_thread\">\\n <div id=\"dsq-conten...   \n",
       "4723  <div id=\"disqus_thread\">\\n <div id=\"dsq-conten...   \n",
       "4739  <div id=\"disqus_thread\">\\n <div id=\"dsq-conten...   \n",
       "\n",
       "                                                 IA_url  \n",
       "983   https://web.archive.org/web/20150110/http://ww...  \n",
       "984   https://web.archive.org/web/20150111/http://ww...  \n",
       "985   https://web.archive.org/web/20160202/http://ww...  \n",
       "986   https://web.archive.org/web/20150112/http://ww...  \n",
       "987   https://web.archive.org/web/20160914/http://ww...  \n",
       "...                                                 ...  \n",
       "4646  https://web.archive.org/web/20151011/http://ww...  \n",
       "4714  https://web.archive.org/web/20120512/http://ww...  \n",
       "4716  https://web.archive.org/web/20120420/http://ww...  \n",
       "4723  https://web.archive.org/web/20120420/http://ww...  \n",
       "4739  https://web.archive.org/web/20130311/http://ww...  \n",
       "\n",
       "[777 rows x 2 columns]"
      ]
     },
     "execution_count": 24,
     "metadata": {},
     "output_type": "execute_result"
    }
   ],
   "source": [
    "#pd.set_option('display.max_colwidth', 50)\n",
    "disqus_df[disqus_df['comments'].apply(lambda x: len(x)>32)][['comments','IA_url']]"
   ]
  },
  {
   "cell_type": "raw",
   "id": "e29b5c5e-f303-4fe3-a9e5-94f69c5ca671",
   "metadata": {},
   "source": []
  },
  {
   "cell_type": "markdown",
   "id": "51e8bbf3-2aab-4834-b47b-b6dc68c96091",
   "metadata": {},
   "source": [
    "Display a specific comment"
   ]
  },
  {
   "cell_type": "code",
   "execution_count": 25,
   "id": "3561edde",
   "metadata": {},
   "outputs": [
    {
     "name": "stdout",
     "output_type": "stream",
     "text": [
      "<div id=\"disqus_thread\">\n",
      "</div>\n",
      "\n"
     ]
    }
   ],
   "source": [
    "ah.display_comment(disqus_df, 0)"
   ]
  },
  {
   "cell_type": "markdown",
   "id": "6937ee4c-accc-4884-9d85-f16949253615",
   "metadata": {},
   "source": [
    "# Comparing dataframes"
   ]
  },
  {
   "cell_type": "markdown",
   "id": "b294e8d2-adc3-45ec-8635-0663b070e8d5",
   "metadata": {},
   "source": [
    "Creates a second dataframe with a different regex query "
   ]
  },
  {
   "cell_type": "code",
   "execution_count": 26,
   "id": "f46fa4ce-138a-4b89-8cea-b2562323d5ca",
   "metadata": {},
   "outputs": [],
   "source": [
    "#disqus_df_2 = ah.filter_csv_content_regex(\"data/World/html-file-information.csv\", \"(?i)disqus\\.js\", 10000)"
   ]
  },
  {
   "cell_type": "markdown",
   "id": "726b6811-cda7-46a5-a874-bb76fbee9cfa",
   "metadata": {},
   "source": [
    "Show the overlap of two dataframes"
   ]
  },
  {
   "cell_type": "code",
   "execution_count": 27,
   "id": "b2f07cdf-497c-4bff-8b3b-11d9cb2fb5cd",
   "metadata": {},
   "outputs": [],
   "source": [
    "#ah.dataframe_intersection(disqus_df[['crawl_date','url']],disqus_df_2[['crawl_date','url']])"
   ]
  },
  {
   "cell_type": "markdown",
   "id": "b3881b85-838c-4868-bf10-3fa6ffe5efc6",
   "metadata": {},
   "source": [
    "Show the difference between the two datasets. So only shows results that are in one dataset but not in both."
   ]
  },
  {
   "cell_type": "code",
   "execution_count": 28,
   "id": "c918052c-6f87-4029-93ec-9cac545d3d31",
   "metadata": {},
   "outputs": [],
   "source": [
    "#ah.dataframe_difference(disqus_df[['crawl_date','url']],disqus_df_2[['crawl_date','url']])"
   ]
  },
  {
   "cell_type": "markdown",
   "id": "06a58be6-832c-4274-9322-ac15ec59025f",
   "metadata": {},
   "source": [
    "# Testing scratchbook"
   ]
  },
  {
   "cell_type": "markdown",
   "id": "4a694134-f588-457f-bcf8-49837cfafd2d",
   "metadata": {},
   "source": [
    "Reloads the ARCH Helper module after update.  \n",
    "Normally this would be done with autoreload Ipython magic, but for some reason it does not work. "
   ]
  },
  {
   "cell_type": "code",
   "execution_count": 29,
   "id": "67dd3f88-1185-48a5-8b8b-f54ff57d6be9",
   "metadata": {},
   "outputs": [],
   "source": [
    "import importlib\n",
    "importlib.reload(ah)\n",
    "import ARCH_Helper as ah"
   ]
  },
  {
   "cell_type": "code",
   "execution_count": null,
   "id": "81319a25-3022-4a00-9641-c1df0e90d62c",
   "metadata": {},
   "outputs": [],
   "source": [
    "\n"
   ]
  },
  {
   "cell_type": "code",
   "execution_count": null,
   "id": "f4aae937-4242-437d-8467-c652a5c5f300",
   "metadata": {},
   "outputs": [],
   "source": []
  },
  {
   "cell_type": "code",
   "execution_count": null,
   "id": "eb0c76bb-149c-4c36-ae3a-d13a3059b57a",
   "metadata": {},
   "outputs": [],
   "source": []
  },
  {
   "cell_type": "code",
   "execution_count": null,
   "id": "3b55786b-f921-4b40-b4fe-545b9471a690",
   "metadata": {},
   "outputs": [],
   "source": []
  },
  {
   "cell_type": "code",
   "execution_count": null,
   "id": "f34f2c49-59a5-4866-9c84-92bad237d3f7",
   "metadata": {},
   "outputs": [],
   "source": []
  },
  {
   "cell_type": "code",
   "execution_count": null,
   "id": "c37f673a-3b72-46cb-ad91-85741da6e19e",
   "metadata": {},
   "outputs": [],
   "source": []
  }
 ],
 "metadata": {
  "kernelspec": {
   "display_name": "Python 3 (ipykernel)",
   "language": "python",
   "name": "python3"
  },
  "language_info": {
   "codemirror_mode": {
    "name": "ipython",
    "version": 3
   },
   "file_extension": ".py",
   "mimetype": "text/x-python",
   "name": "python",
   "nbconvert_exporter": "python",
   "pygments_lexer": "ipython3",
   "version": "3.8.10"
  }
 },
 "nbformat": 4,
 "nbformat_minor": 5
}
