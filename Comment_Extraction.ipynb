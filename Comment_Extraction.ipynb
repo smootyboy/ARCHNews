{
 "cells": [
  {
   "cell_type": "markdown",
   "id": "d4f92976-d0a6-46d6-8efb-0b8820ce1eb1",
   "metadata": {
    "tags": []
   },
   "source": [
    "# Imports"
   ]
  },
  {
   "cell_type": "markdown",
   "id": "8a7982f4-4991-4978-9e48-0303e6a60f44",
   "metadata": {
    "tags": []
   },
   "source": [
    "The required packages to run this notebook.  \n",
    "If any are missing use ``!{sys.executable} -m pip install <package>`` to install the package in the notebook environment"
   ]
  },
  {
   "cell_type": "code",
   "execution_count": 1,
   "id": "e6264b40-b8b1-4c48-bb3b-94febfa79113",
   "metadata": {
    "tags": []
   },
   "outputs": [],
   "source": [
    "import os.path\n",
    "import gc \n",
    "import pandas as pd\n",
    "import csv\n",
    "import sys\n",
    "from ctypes import cdll, CDLL\n",
    "from urllib import parse\n",
    "#!{sys.executable} -m pip install beautifulsoup4\n",
    "from bs4 import BeautifulSoup\n",
    "#!{sys.executable} -m pip install nbimporter\n",
    "import nbimporter\n",
    "import ARCH_Helper as ah"
   ]
  },
  {
   "cell_type": "markdown",
   "id": "348e893b-e773-4e96-956d-74e6fd110ef4",
   "metadata": {
    "tags": []
   },
   "source": [
    "# Download an archive\n",
    "The script below makes a data folder with a subfolder for the dataset. Dataset option are \"World\", \"German\" or \"Dutch\", select these by altering the ``dataset`` variable. The script wil skip files that are already present on the system. If you want to redownload the files first remove the old files manually.  \n",
    "If the download fails due to connection errors, rerun the script and will will notice that he file did not decompress and try again.  \n",
    "Note: The html-file-information.csv can be very large and take several hours and fail. Consider putting the code below code in a loop if you want to run it over night, if the download fails it will try again and if successfull it will say it already has the desired file."
   ]
  },
  {
   "cell_type": "code",
   "execution_count": 2,
   "id": "77006d6e-6e30-43b3-9353-37de21a7e004",
   "metadata": {},
   "outputs": [
    {
     "name": "stdout",
     "output_type": "stream",
     "text": [
      "mkdir: cannot create directory ‘data’: File exists\n",
      "mkdir: cannot create directory ‘data/World’: File exists\n",
      "domain-frequency.csv already exists\n",
      "domain-frequency.csv already exists\n",
      "css-file-information.csv already exists\n",
      "js-file-information.csv already exists\n",
      "html-file-information.csv already exists\n"
     ]
    }
   ],
   "source": [
    "# Dataset option are \"World\", \"German\" or \"Dutch\"\n",
    "Dataset = \"World\"\n",
    "\n",
    "!mkdir data\n",
    "!mkdir data/{Dataset}\n",
    "\n",
    "if Dataset == \"German\":\n",
    "    if not os.path.exists(\"data/German/domain-frequency.csv\"):\n",
    "        print(\"domain-frequency.csv is not present\")\n",
    "        !curl \"https://webdata.archive-it.org/ait/arch:cohort.helmond/research_services/download/SPECIAL-germanNews_1st-in-month_1-hop_unique-EXTRACTION-20210818232425/DomainFrequencyExtraction/domain-frequency.csv.gz?access=VRQ4COI5RFEB6XTJZNQTBRLEZTTHJERL\" --output data/German/domain-frequency.csv.gz\n",
    "        print(\"domain-frequency.csv has been downloaded\")\n",
    "    else:\n",
    "        print(\"domain-frequency.csv already exists\")\n",
    "\n",
    "    if not os.path.exists(\"data/German/domain-graph.csv\"):\n",
    "        print(\"domain-graph.csv is not present\")\n",
    "        !curl \"https://webdata.archive-it.org/ait/arch:cohort.helmond/research_services/download/SPECIAL-germanNews_1st-in-month_1-hop_unique-EXTRACTION-20210818232425/DomainGraphExtraction/domain-graph.csv.gz?access=JKEPGQ6MUC72JQB23IXOC4KOLGJYDSMN\" --output data/German/domain-graph.csv.gz\n",
    "        print(\"domain-graph.csv has been downloaded\")\n",
    "    else:\n",
    "        print(\"domain-frequency.csv already exists\")\n",
    "\n",
    "    if not os.path.exists(\"data/German/css-file-information.csv\"):\n",
    "        print(\"css-file-information.csv is not present\")\n",
    "        !curl \"https://webdata.archive-it.org/ait/arch:cohort.helmond/research_services/download/SPECIAL-germanNews_1st-in-month_1-hop_unique-EXTRACTION-20210818232425/TextFilesInformationExtraction/css-file-information.csv.gz?access=I2WP4REJA3NOBU3TCAAL3OIGJKNXM46R\" --output data/German/css-file-information.csv.gz\n",
    "        print(\"css-file-information.csv has been downloaded\")\n",
    "    else:\n",
    "        print(\"css-file-information.csv already exists\")\n",
    "\n",
    "    if not os.path.exists(\"data/German/js-file-information.csv\"):\n",
    "        print(\"js-file-information.csv is not present\")\n",
    "        !curl \"https://webdata.archive-it.org/ait/arch:cohort.helmond/research_services/download/SPECIAL-germanNews_1st-in-month_1-hop_unique-EXTRACTION-20210818232425/TextFilesInformationExtraction/js-file-information.csv.gz?access=M3QSMFPLEHPZPWZIFSMZ6CT2OO7WYQ4M\" --output data/German/js-file-information.csv.gz\n",
    "        print(\"css-file-information.csv has been downloaded\")\n",
    "    else:\n",
    "        print(\"js-file-information.csv already exists\")\n",
    "        \n",
    "    if not os.path.exists(\"data/German/html-file-information.csv\"):\n",
    "        print(\"html-file-information.csv is not present\")\n",
    "        !curl \"https://webdata.archive-it.org/ait/arch:cohort.helmond/research_services/download/SPECIAL-germanNews_1st-in-month_1-hop_unique-EXTRACTION-20210818232425/TextFilesInformationExtraction/html-file-information.csv.gz?access=E3BUHKL5P4Q3TD4LGXZV2AOMERYQ3GWL\" --output data/German/html-file-information.csv.gz\n",
    "        print(\"html-file-information.csv has been downloaded\")\n",
    "    else:\n",
    "        print(\"html-file-information.csv already exists\")\n",
    "        \n",
    "if Dataset == \"World\":\n",
    "    if not os.path.exists(\"data/World/domain-frequency.csv\"):\n",
    "        print(\"domain-frequency.csv is not present\")\n",
    "        !curl \"https://webdata.archive-it.org/ait/arch:cohort.helmond/research_services/download/SPECIAL-worldNews_1st-in-month_1-hop_unique-EXTRACTION-20210818232425/DomainFrequencyExtraction/domain-frequency.csv.gz?access=SMSQY3G6IGKGRWVLGCWMA7DMCHBCKQ4K\" --output data/World/domain-frequency.csv.gz\n",
    "        print(\"domain-frequency.csv has been downloaded\")\n",
    "    else:\n",
    "        print(\"domain-frequency.csv already exists\")\n",
    "\n",
    "    if not os.path.exists(\"data/World/domain-graph.csv\"):\n",
    "        print(\"domain-graph.csv is not present\")\n",
    "        !curl \"https://webdata.archive-it.org/ait/arch:cohort.helmond/research_services/download/SPECIAL-worldNews_1st-in-month_1-hop_unique-EXTRACTION-20210818232425/DomainGraphExtraction/domain-graph.csv.gz?sample=true&access=BZTA7LW5LUNMPGKWQMLKAUAXBV2E2AEC\" --output data/World/domain-graph.csv.gz\n",
    "        print(\"domain-graph.csv has been downloaded\")\n",
    "    else:\n",
    "        print(\"domain-frequency.csv already exists\")\n",
    "\n",
    "    if not os.path.exists(\"data/World/css-file-information.csv\"):\n",
    "        print(\"css-file-information.csv is not present\")\n",
    "        !curl \"https://webdata.archive-it.org/ait/arch:cohort.helmond/research_services/download/SPECIAL-worldNews_1st-in-month_1-hop_unique-EXTRACTION-20210818232425/TextFilesInformationExtraction/css-file-information.csv.gz?access=UZ4PWVRXXWPF53BHM7TTYNK24P7YAIXQ\" --output data/World/css-file-information.csv.gz\n",
    "        print(\"css-file-information.csv has been downloaded\")\n",
    "    else:\n",
    "        print(\"css-file-information.csv already exists\")\n",
    "\n",
    "    if not os.path.exists(\"data/World/js-file-information.csv\"):\n",
    "        print(\"js-file-information.csv is not present\")\n",
    "        !curl \"https://webdata.archive-it.org/ait/arch:cohort.helmond/research_services/download/SPECIAL-worldNews_1st-in-month_1-hop_unique-EXTRACTION-20210818232425/TextFilesInformationExtraction/js-file-information.csv.gz?access=54X7IV7QOOAJWGHKPRGDI7HIR6W6GKPI\" --output data/World/js-file-information.csv.gz\n",
    "        print(\"css-file-information.csv has been downloaded\")\n",
    "    else:\n",
    "        print(\"js-file-information.csv already exists\")\n",
    "    \n",
    "    if not os.path.exists(\"data/World/html-file-information.csv\"):\n",
    "        print(\"html-file-information.csv is not present\")\n",
    "        !curl \"https://webdata.archive-it.org/ait/arch:cohort.helmond/research_services/download/SPECIAL-worldNews_1st-in-month_1-hop_unique-EXTRACTION-20210818232425/TextFilesInformationExtraction/html-file-information.csv.gz?access=JQEDT3PRXOS6OXZ7LA5EC55HQJVUASDX\" --output data/World/html-file-information.csv.gz\n",
    "        print(\"html-file-information.csv has been downloaded\")\n",
    "    else:\n",
    "        print(\"html-file-information.csv already exists\")\n",
    "\n",
    "if Dataset == \"Dutch\":\n",
    "    if not os.path.exists(\"data/Dutch/domain-frequency.csv\"):\n",
    "        print(\"domain-frequency.csv is not present\")\n",
    "        !curl \"https://webdata.archive-it.org/ait/arch:cohort.helmond/research_services/download/SPECIAL-dutchNews_1st-in-month_1-hop_unique-EXTRACTION-20210916172606/DomainFrequencyExtraction/domain-frequency.csv.gz?access=QUQTRHVNIDKXN62S4D62XFHCFI7VDSH7\" --output data/Dutch/domain-frequency.csv.gz\n",
    "        print(\"domain-frequency.csv has been downloaded\")\n",
    "    else:\n",
    "        print(\"domain-frequency.csv already exists\")\n",
    "\n",
    "    if not os.path.exists(\"data/Dutch/domain-graph.csv\"):\n",
    "        print(\"domain-graph.csv is not present\")\n",
    "        !curl \"https://webdata.archive-it.org/ait/arch:cohort.helmond/research_services/download/SPECIAL-dutchNews_1st-in-month_1-hop_unique-EXTRACTION-20210916172606/DomainGraphExtraction/domain-graph.csv.gz?access=JUNESOMDTBYDNCCGVJI5MJHW45KHAIJZ\" --output data/Dutch/domain-graph.csv.gz\n",
    "        print(\"domain-graph.csv has been downloaded\")\n",
    "    else:\n",
    "        print(\"domain-frequency.csv already exists\")\n",
    "\n",
    "    if not os.path.exists(\"data/Dutch/css-file-information.csv\"):\n",
    "        print(\"css-file-information.csv is not present\")\n",
    "        !curl \"https://webdata.archive-it.org/ait/arch:cohort.helmond/research_services/download/SPECIAL-dutchNews_1st-in-month_1-hop_unique-EXTRACTION-20210916172606/TextFilesInformationExtraction/css-file-information.csv.gz?access=IGBKSGXJBL3L4IJ2LXS5NPJTOY77JCT5\" --output data/Dutch/css-file-information.csv.gz\n",
    "        print(\"css-file-information.csv has been downloaded\")\n",
    "    else:\n",
    "        print(\"css-file-information.csv already exists\")\n",
    "\n",
    "    if not os.path.exists(\"data/Dutch/js-file-information.csv\"):\n",
    "        print(\"js-file-information.csv is not present\")\n",
    "        !curl \"https://webdata.archive-it.org/ait/arch:cohort.helmond/research_services/download/SPECIAL-dutchNews_1st-in-month_1-hop_unique-EXTRACTION-20210916172606/TextFilesInformationExtraction/js-file-information.csv.gz?access=RPZKGWUTWJBIRKOKKHGECB7W4OHUATMO\" --output data/Dutch/js-file-information.csv.gz\n",
    "        print(\"css-file-information.csv has been downloaded\")\n",
    "    else:\n",
    "        print(\"js-file-information.csv already exists\")\n",
    "    \n",
    "    if not os.path.exists(\"data/Dutch/html-file-information.csv\"):\n",
    "        print(\"html-file-information.csv is not present\")\n",
    "        !curl \"https://webdata.archive-it.org/ait/arch:cohort.helmond/research_services/download/SPECIAL-dutchNews_1st-in-month_1-hop_unique-EXTRACTION-20210916172606/TextFilesInformationExtraction/html-file-information.csv.gz?access=52ZOSNQQMFWKW42WMQPNMGKYLEVUQHUC\" --output data/Dutch/html-file-information.csv.gz\n",
    "        print(\"html-file-information.csv has been downloaded\")\n",
    "    else:\n",
    "        print(\"html-file-information.csv already exists\")\n",
    "\n",
    "unzip = \"find data/\" +Dataset +\" -name '*.gz' -exec gunzip {} \\;\"\n",
    "!{unzip}"
   ]
  },
  {
   "cell_type": "markdown",
   "id": "0a166ff9",
   "metadata": {
    "tags": []
   },
   "source": [
    "# Extract wepages holding signs for the Disqus commenting system in their HTML"
   ]
  },
  {
   "cell_type": "markdown",
   "id": "f9766d4a",
   "metadata": {},
   "source": [
    "The code bellow looks through a dataset for any indicators for the presence of the disqus commenting system. The input for ```filter_csv_content_regex``` is the desired dataset file, the regular expression and the chunksize."
   ]
  },
  {
   "cell_type": "code",
   "execution_count": 3,
   "id": "bd94b784-6035-4e51-b146-e30c3c60439d",
   "metadata": {},
   "outputs": [],
   "source": [
    "# Options are \"data/German/html-file-information.csv\" \"data/World/html-file-information.csv\" and \"data/Dutch/html-file-information.csv\"\n",
    "# or any other dataset on the system.\n",
    "dataset = \"data/World/html-file-information.csv\"\n",
    "chunksize = 10000"
   ]
  },
  {
   "cell_type": "code",
   "execution_count": 4,
   "id": "93892bf0",
   "metadata": {},
   "outputs": [
    {
     "name": "stdout",
     "output_type": "stream",
     "text": [
      "Embed hits:  6840\n"
     ]
    }
   ],
   "source": [
    "disqus_embed_df = ah.filter_csv_content_regex(dataset, \"(?i)disqus\\.com\\/embed\\.js\", chunksize)\n",
    "disqus_embed_df['disqus_embed']=True\n",
    "print(\"Embed hits: \", len(disqus_embed_df))"
   ]
  },
  {
   "cell_type": "code",
   "execution_count": 5,
   "id": "7dbec520-cef7-43f2-91c2-e150c3ca419d",
   "metadata": {},
   "outputs": [
    {
     "name": "stdout",
     "output_type": "stream",
     "text": [
      "Identifier hits:  10156\n"
     ]
    }
   ],
   "source": [
    "disqus_identifier_df = ah.filter_csv_content_regex(dataset, \"(?i)data-disqus-identifier\", chunksize)\n",
    "disqus_identifier_df['disqus_identifier']=True\n",
    "print(\"Identifier hits: \", len(disqus_identifier_df))"
   ]
  },
  {
   "cell_type": "code",
   "execution_count": 6,
   "id": "3ec46ab0-5da2-4309-92d4-fa600e17801d",
   "metadata": {},
   "outputs": [
    {
     "name": "stdout",
     "output_type": "stream",
     "text": [
      "thread hits:  21143\n"
     ]
    }
   ],
   "source": [
    "disqus_thread = ah.filter_csv_content_regex(dataset, \"(?i)disqus_thread\", chunksize)\n",
    "disqus_thread['disqus_thread']=True\n",
    "print(\"thread hits: \", len(disqus_thread))"
   ]
  },
  {
   "cell_type": "code",
   "execution_count": null,
   "id": "721cbede-87c3-4c12-b599-04e5eebc18e5",
   "metadata": {
    "tags": []
   },
   "outputs": [],
   "source": []
  },
  {
   "cell_type": "code",
   "execution_count": 7,
   "id": "e760790a-2ac3-4b0b-81f1-74d6535c112e",
   "metadata": {},
   "outputs": [
    {
     "data": {
      "text/html": [
       "<div>\n",
       "<style scoped>\n",
       "    .dataframe tbody tr th:only-of-type {\n",
       "        vertical-align: middle;\n",
       "    }\n",
       "\n",
       "    .dataframe tbody tr th {\n",
       "        vertical-align: top;\n",
       "    }\n",
       "\n",
       "    .dataframe thead th {\n",
       "        text-align: right;\n",
       "    }\n",
       "</style>\n",
       "<table border=\"1\" class=\"dataframe\">\n",
       "  <thead>\n",
       "    <tr style=\"text-align: right;\">\n",
       "      <th></th>\n",
       "      <th>crawl_date</th>\n",
       "      <th>url</th>\n",
       "      <th>filename</th>\n",
       "      <th>extension</th>\n",
       "      <th>mime_type_web_server</th>\n",
       "      <th>mime_type_tika</th>\n",
       "      <th>md5</th>\n",
       "      <th>sha1</th>\n",
       "      <th>content</th>\n",
       "      <th>disqus_embed</th>\n",
       "      <th>disqus_identifier</th>\n",
       "      <th>disqus_thread</th>\n",
       "    </tr>\n",
       "  </thead>\n",
       "  <tbody>\n",
       "    <tr>\n",
       "      <th>0</th>\n",
       "      <td>20140502</td>\n",
       "      <td>http://www.aljazeera.com/news/middleeast/2014/...</td>\n",
       "      <td>deadly-airstrike-hits-aleppo-school-2014430154...</td>\n",
       "      <td>xhtml</td>\n",
       "      <td>text/html</td>\n",
       "      <td>application/xhtml+xml</td>\n",
       "      <td>97f75c11640780e79baa7cbb8607ef51</td>\n",
       "      <td>12388fe00bc982f7a6e31214ed2c571cbd638af3</td>\n",
       "      <td>&lt;!DOCTYPE html PUBLIC \"-//W3C//DTD XHTML 1.0 T...</td>\n",
       "      <td>True</td>\n",
       "      <td>NaN</td>\n",
       "      <td>True</td>\n",
       "    </tr>\n",
       "    <tr>\n",
       "      <th>1</th>\n",
       "      <td>20140501</td>\n",
       "      <td>http://www.aljazeera.com/news/middleeast/2014/...</td>\n",
       "      <td>invasion-kassab-were-evicted-20144271355531702...</td>\n",
       "      <td>xhtml</td>\n",
       "      <td>text/html</td>\n",
       "      <td>application/xhtml+xml</td>\n",
       "      <td>0e2b97df26e0f9f031a26a98ebb8d92d</td>\n",
       "      <td>8a64ff502bd8f2bbe40d557ebffb89f8cc700fcb</td>\n",
       "      <td>&lt;!DOCTYPE html PUBLIC \"-//W3C//DTD XHTML 1.0 T...</td>\n",
       "      <td>True</td>\n",
       "      <td>NaN</td>\n",
       "      <td>True</td>\n",
       "    </tr>\n",
       "    <tr>\n",
       "      <th>2</th>\n",
       "      <td>20140502</td>\n",
       "      <td>http://www.aljazeera.com/news/middleeast/2014/...</td>\n",
       "      <td>iraq-security-forces-ambush-syria-fuel-convoy-...</td>\n",
       "      <td>xhtml</td>\n",
       "      <td>text/html</td>\n",
       "      <td>application/xhtml+xml</td>\n",
       "      <td>faee2d99cf89e66433c825116183a493</td>\n",
       "      <td>eb61533d434ae9a654d0937ebdcb6ee2cb231e2a</td>\n",
       "      <td>&lt;!DOCTYPE html PUBLIC \"-//W3C//DTD XHTML 1.0 T...</td>\n",
       "      <td>True</td>\n",
       "      <td>NaN</td>\n",
       "      <td>True</td>\n",
       "    </tr>\n",
       "    <tr>\n",
       "      <th>3</th>\n",
       "      <td>20140531</td>\n",
       "      <td>http://www.aljazeera.com/news/middleeast/2014/...</td>\n",
       "      <td>israel-suspends-peace-talks-with-palestinians-...</td>\n",
       "      <td>xhtml</td>\n",
       "      <td>text/html</td>\n",
       "      <td>application/xhtml+xml</td>\n",
       "      <td>a8d7c5f0e3770c4adc2b6f50c235376b</td>\n",
       "      <td>97580ae0e5cb309c05f07c8895285739b944db2c</td>\n",
       "      <td>&lt;!DOCTYPE html PUBLIC \"-//W3C//DTD XHTML 1.0 T...</td>\n",
       "      <td>True</td>\n",
       "      <td>NaN</td>\n",
       "      <td>True</td>\n",
       "    </tr>\n",
       "    <tr>\n",
       "      <th>4</th>\n",
       "      <td>20150102</td>\n",
       "      <td>http://www.aljazeera.com/news/middleeast/2014/...</td>\n",
       "      <td>child-soldiers-recruited-syria-war-20141231204...</td>\n",
       "      <td>xhtml</td>\n",
       "      <td>text/html</td>\n",
       "      <td>application/xhtml+xml</td>\n",
       "      <td>035019bdf7658ac317902ccaf66af542</td>\n",
       "      <td>eee01070ccab6143b60e72b69fd246750b99763e</td>\n",
       "      <td>&lt;!DOCTYPE html PUBLIC \"-//W3C//DTD XHTML 1.0 T...</td>\n",
       "      <td>True</td>\n",
       "      <td>NaN</td>\n",
       "      <td>True</td>\n",
       "    </tr>\n",
       "    <tr>\n",
       "      <th>...</th>\n",
       "      <td>...</td>\n",
       "      <td>...</td>\n",
       "      <td>...</td>\n",
       "      <td>...</td>\n",
       "      <td>...</td>\n",
       "      <td>...</td>\n",
       "      <td>...</td>\n",
       "      <td>...</td>\n",
       "      <td>...</td>\n",
       "      <td>...</td>\n",
       "      <td>...</td>\n",
       "      <td>...</td>\n",
       "    </tr>\n",
       "    <tr>\n",
       "      <th>22736</th>\n",
       "      <td>20120104</td>\n",
       "      <td>http://www.independent.co.uk/news/media/online...</td>\n",
       "      <td>article6259894.ece</td>\n",
       "      <td>xhtml</td>\n",
       "      <td>text/html</td>\n",
       "      <td>application/xhtml+xml</td>\n",
       "      <td>7ff5bb0105edc9839419e1f0ecd916eb</td>\n",
       "      <td>dc7363e1eb19844a145895755b3efe46fdba06a2</td>\n",
       "      <td>&lt;!DOCTYPE html &gt;\\n&lt;html xmlns=\"http://www.w3.o...</td>\n",
       "      <td>NaN</td>\n",
       "      <td>NaN</td>\n",
       "      <td>True</td>\n",
       "    </tr>\n",
       "    <tr>\n",
       "      <th>22737</th>\n",
       "      <td>20120201</td>\n",
       "      <td>http://www.independent.co.uk/news/media/online...</td>\n",
       "      <td>free-trial-for-the-independents-new-ipad-app-6...</td>\n",
       "      <td>xhtml</td>\n",
       "      <td>text/html</td>\n",
       "      <td>application/xhtml+xml</td>\n",
       "      <td>94dddf8eeb231bb2422b781769817e52</td>\n",
       "      <td>0a23a4972a6692258f35ecdef9732822f9c76c52</td>\n",
       "      <td>&lt;!DOCTYPE html &gt;\\n&lt;html xmlns=\"http://www.w3.o...</td>\n",
       "      <td>NaN</td>\n",
       "      <td>NaN</td>\n",
       "      <td>True</td>\n",
       "    </tr>\n",
       "    <tr>\n",
       "      <th>22738</th>\n",
       "      <td>20110911</td>\n",
       "      <td>http://www.independent.co.uk/arts-entertainmen...</td>\n",
       "      <td>read-em-and-weep-the-literary-masters-of-miser...</td>\n",
       "      <td>xhtml</td>\n",
       "      <td>text/html</td>\n",
       "      <td>application/xhtml+xml</td>\n",
       "      <td>356648f2119ed7d0187b4bd2688d8734</td>\n",
       "      <td>b9ea600c69d7cf3b97329254afa255b5bbb9af9b</td>\n",
       "      <td>&lt;!DOCTYPE html PUBLIC \"-//W3C//DTD XHTML 1.0 S...</td>\n",
       "      <td>NaN</td>\n",
       "      <td>NaN</td>\n",
       "      <td>True</td>\n",
       "    </tr>\n",
       "    <tr>\n",
       "      <th>22739</th>\n",
       "      <td>20110409</td>\n",
       "      <td>http://www.independent.co.uk/environment/clima...</td>\n",
       "      <td>solution-to-the-carbon-problem-could-be-under-...</td>\n",
       "      <td>xhtml</td>\n",
       "      <td>text/html</td>\n",
       "      <td>application/xhtml+xml</td>\n",
       "      <td>bc3276e25be1ea7154626afce7216fb7</td>\n",
       "      <td>a5445dfe83e845d430af9720e9d6f50bce6c9e1d</td>\n",
       "      <td>&lt;!DOCTYPE html PUBLIC \"-//W3C//DTD XHTML 1.0 S...</td>\n",
       "      <td>NaN</td>\n",
       "      <td>NaN</td>\n",
       "      <td>True</td>\n",
       "    </tr>\n",
       "    <tr>\n",
       "      <th>22740</th>\n",
       "      <td>20111028</td>\n",
       "      <td>http://www.independent.co.uk/extras/indybest/f...</td>\n",
       "      <td>the-50-best-bars-1676748.html</td>\n",
       "      <td>xhtml</td>\n",
       "      <td>text/html</td>\n",
       "      <td>application/xhtml+xml</td>\n",
       "      <td>e1b67b48b1fb825c616e4c2f6e8ade98</td>\n",
       "      <td>44a7f6b91f53eeb0f370d9c2ebd336cf3d73a8a3</td>\n",
       "      <td>&lt;!DOCTYPE html PUBLIC \"-//W3C//DTD XHTML 1.0 S...</td>\n",
       "      <td>NaN</td>\n",
       "      <td>NaN</td>\n",
       "      <td>True</td>\n",
       "    </tr>\n",
       "  </tbody>\n",
       "</table>\n",
       "<p>22741 rows × 12 columns</p>\n",
       "</div>"
      ],
      "text/plain": [
       "       crawl_date                                                url  \\\n",
       "0        20140502  http://www.aljazeera.com/news/middleeast/2014/...   \n",
       "1        20140501  http://www.aljazeera.com/news/middleeast/2014/...   \n",
       "2        20140502  http://www.aljazeera.com/news/middleeast/2014/...   \n",
       "3        20140531  http://www.aljazeera.com/news/middleeast/2014/...   \n",
       "4        20150102  http://www.aljazeera.com/news/middleeast/2014/...   \n",
       "...           ...                                                ...   \n",
       "22736    20120104  http://www.independent.co.uk/news/media/online...   \n",
       "22737    20120201  http://www.independent.co.uk/news/media/online...   \n",
       "22738    20110911  http://www.independent.co.uk/arts-entertainmen...   \n",
       "22739    20110409  http://www.independent.co.uk/environment/clima...   \n",
       "22740    20111028  http://www.independent.co.uk/extras/indybest/f...   \n",
       "\n",
       "                                                filename extension  \\\n",
       "0      deadly-airstrike-hits-aleppo-school-2014430154...     xhtml   \n",
       "1      invasion-kassab-were-evicted-20144271355531702...     xhtml   \n",
       "2      iraq-security-forces-ambush-syria-fuel-convoy-...     xhtml   \n",
       "3      israel-suspends-peace-talks-with-palestinians-...     xhtml   \n",
       "4      child-soldiers-recruited-syria-war-20141231204...     xhtml   \n",
       "...                                                  ...       ...   \n",
       "22736                                 article6259894.ece     xhtml   \n",
       "22737  free-trial-for-the-independents-new-ipad-app-6...     xhtml   \n",
       "22738  read-em-and-weep-the-literary-masters-of-miser...     xhtml   \n",
       "22739  solution-to-the-carbon-problem-could-be-under-...     xhtml   \n",
       "22740                      the-50-best-bars-1676748.html     xhtml   \n",
       "\n",
       "      mime_type_web_server         mime_type_tika  \\\n",
       "0                text/html  application/xhtml+xml   \n",
       "1                text/html  application/xhtml+xml   \n",
       "2                text/html  application/xhtml+xml   \n",
       "3                text/html  application/xhtml+xml   \n",
       "4                text/html  application/xhtml+xml   \n",
       "...                    ...                    ...   \n",
       "22736            text/html  application/xhtml+xml   \n",
       "22737            text/html  application/xhtml+xml   \n",
       "22738            text/html  application/xhtml+xml   \n",
       "22739            text/html  application/xhtml+xml   \n",
       "22740            text/html  application/xhtml+xml   \n",
       "\n",
       "                                    md5  \\\n",
       "0      97f75c11640780e79baa7cbb8607ef51   \n",
       "1      0e2b97df26e0f9f031a26a98ebb8d92d   \n",
       "2      faee2d99cf89e66433c825116183a493   \n",
       "3      a8d7c5f0e3770c4adc2b6f50c235376b   \n",
       "4      035019bdf7658ac317902ccaf66af542   \n",
       "...                                 ...   \n",
       "22736  7ff5bb0105edc9839419e1f0ecd916eb   \n",
       "22737  94dddf8eeb231bb2422b781769817e52   \n",
       "22738  356648f2119ed7d0187b4bd2688d8734   \n",
       "22739  bc3276e25be1ea7154626afce7216fb7   \n",
       "22740  e1b67b48b1fb825c616e4c2f6e8ade98   \n",
       "\n",
       "                                           sha1  \\\n",
       "0      12388fe00bc982f7a6e31214ed2c571cbd638af3   \n",
       "1      8a64ff502bd8f2bbe40d557ebffb89f8cc700fcb   \n",
       "2      eb61533d434ae9a654d0937ebdcb6ee2cb231e2a   \n",
       "3      97580ae0e5cb309c05f07c8895285739b944db2c   \n",
       "4      eee01070ccab6143b60e72b69fd246750b99763e   \n",
       "...                                         ...   \n",
       "22736  dc7363e1eb19844a145895755b3efe46fdba06a2   \n",
       "22737  0a23a4972a6692258f35ecdef9732822f9c76c52   \n",
       "22738  b9ea600c69d7cf3b97329254afa255b5bbb9af9b   \n",
       "22739  a5445dfe83e845d430af9720e9d6f50bce6c9e1d   \n",
       "22740  44a7f6b91f53eeb0f370d9c2ebd336cf3d73a8a3   \n",
       "\n",
       "                                                 content disqus_embed  \\\n",
       "0      <!DOCTYPE html PUBLIC \"-//W3C//DTD XHTML 1.0 T...         True   \n",
       "1      <!DOCTYPE html PUBLIC \"-//W3C//DTD XHTML 1.0 T...         True   \n",
       "2      <!DOCTYPE html PUBLIC \"-//W3C//DTD XHTML 1.0 T...         True   \n",
       "3      <!DOCTYPE html PUBLIC \"-//W3C//DTD XHTML 1.0 T...         True   \n",
       "4      <!DOCTYPE html PUBLIC \"-//W3C//DTD XHTML 1.0 T...         True   \n",
       "...                                                  ...          ...   \n",
       "22736  <!DOCTYPE html >\\n<html xmlns=\"http://www.w3.o...          NaN   \n",
       "22737  <!DOCTYPE html >\\n<html xmlns=\"http://www.w3.o...          NaN   \n",
       "22738  <!DOCTYPE html PUBLIC \"-//W3C//DTD XHTML 1.0 S...          NaN   \n",
       "22739  <!DOCTYPE html PUBLIC \"-//W3C//DTD XHTML 1.0 S...          NaN   \n",
       "22740  <!DOCTYPE html PUBLIC \"-//W3C//DTD XHTML 1.0 S...          NaN   \n",
       "\n",
       "      disqus_identifier disqus_thread  \n",
       "0                   NaN          True  \n",
       "1                   NaN          True  \n",
       "2                   NaN          True  \n",
       "3                   NaN          True  \n",
       "4                   NaN          True  \n",
       "...                 ...           ...  \n",
       "22736               NaN          True  \n",
       "22737               NaN          True  \n",
       "22738               NaN          True  \n",
       "22739               NaN          True  \n",
       "22740               NaN          True  \n",
       "\n",
       "[22741 rows x 12 columns]"
      ]
     },
     "execution_count": 7,
     "metadata": {},
     "output_type": "execute_result"
    }
   ],
   "source": [
    "disqus_df = disqus_embed_df.merge(disqus_identifier_df, on=[\"crawl_date\",\"url\",\"filename\",\"extension\",\"mime_type_web_server\",\"mime_type_tika\",\"md5\", \"sha1\",\"content\"], how='outer')\n",
    "disqus_df = disqus_df.merge(disqus_thread, on=[\"crawl_date\",\"url\",\"filename\",\"extension\",\"mime_type_web_server\",\"mime_type_tika\",\"md5\", \"sha1\",\"content\"], how='outer')\n",
    "disqus_df"
   ]
  },
  {
   "cell_type": "markdown",
   "id": "89d52738-e746-4109-8888-f020609a041f",
   "metadata": {},
   "source": [
    "Fill in the NaN hits caused by the merging of the results."
   ]
  },
  {
   "cell_type": "code",
   "execution_count": 8,
   "id": "debc1511-4d6d-4289-b13e-5bb86be84805",
   "metadata": {},
   "outputs": [],
   "source": [
    "disqus_df = disqus_df.fillna(False)"
   ]
  },
  {
   "cell_type": "markdown",
   "id": "6bb3b942-d0a5-4157-a1dc-49c21c9ec616",
   "metadata": {},
   "source": [
    "Count the pages with Disqus in their HTML"
   ]
  },
  {
   "cell_type": "code",
   "execution_count": 9,
   "id": "f575b650-f771-40a7-8d8d-c753bc549595",
   "metadata": {},
   "outputs": [
    {
     "data": {
      "text/plain": [
       "22741"
      ]
     },
     "execution_count": 9,
     "metadata": {},
     "output_type": "execute_result"
    }
   ],
   "source": [
    "len(disqus_df)"
   ]
  },
  {
   "cell_type": "markdown",
   "id": "7ef06e55",
   "metadata": {},
   "source": [
    "Note that this finds more hits than grep. It seems the csv file is too large for grep. the same query in awk does give the expected number of results\n",
    "\n",
    "```grep -i -n 'disqus\\.js' C/Users/rjans/Desktop/ARCH/Data/disqus.csv```  \n",
    "vs  \n",
    "```awk -e '/disqus\\.js/ {print $0}' C/Users/rjans/Desktop/ARCH/Data/html-file-information-German.csv```"
   ]
  },
  {
   "cell_type": "markdown",
   "id": "5cde1c43-e9d7-47a8-bc1e-aea6a3270ac1",
   "metadata": {},
   "source": [
    "Show the unique domains"
   ]
  },
  {
   "cell_type": "code",
   "execution_count": 10,
   "id": "d0170c5a",
   "metadata": {
    "scrolled": true,
    "tags": []
   },
   "outputs": [
    {
     "name": "stdout",
     "output_type": "stream",
     "text": [
      "['aljazeera.com' 'blogs.aljazeera.com' 'men.24.com' 'blogs.abcnews.com'\n",
      " 'bloomberg.com' 'popwatch.ew.com' 'cnn.com' 'abcnews.go.com'\n",
      " 'liveshots.blogs.foxnews.com' 'magazine.foxnews.com'\n",
      " 'gretawire.foxnewsinsider.com' 'csmonitor.com' 'photos.essence.com'\n",
      " 'myfoxchicago.com' 'myfoxla.com' 'myfoxmemphis.com' 'myfoxorlando.com'\n",
      " 'mercurynews.com' 'spokesman.com' 'sfist.com' 'blogs.sfweekly.com'\n",
      " 'tpmmuckraker.talkingpointsmemo.com' 'topgear.com' 'mirror.co.uk'\n",
      " 'fashion.telegraph.co.uk' 'mweb.co.za' 'sagoodnews.co.za'\n",
      " 'independent.co.uk' 'telegraph.co.uk' 'rawstory.com' 'pcmag.com'\n",
      " 'politico.com' 'voices.news24.com' 'newser.com' 'newsmax.com'\n",
      " 'english.aljazeera.net' 'lazygamer.net' 'washingtontimes.com'\n",
      " 'communities.washingtontimes.com' 'propublica.org' 'scpr.org'\n",
      " 'allthemoms.com' 'globalnews.ca' 'cnbc.com' 'blogs.kidspot.com.au'\n",
      " 'video.cnbc.com' 'crooksandliars.com' 'politics.blogs.foxnews.com'\n",
      " 'heatst.com' 'ew.com' 'jackandjillpolitics.com' 'thehill.com' 'tmz.com'\n",
      " 'sports.usatoday.com' 'blogs.independent.co.uk' 'reviewed.com'\n",
      " 'cameras.reviewed.com' 'dishwashers.reviewed.com' 'laptops.reviewed.com'\n",
      " 'laundry.reviewed.com' 'ovens.reviewed.com' 'smarthome.reviewed.com'\n",
      " 'smartphones.reviewed.com' 'vacuums.reviewed.com' 'blogs.aljazeera.net'\n",
      " 'alternet.org' 'mindshift.kqed.org' 'kutnews.org' 'wired.com' 'wbur.org'\n",
      " 'stream.aljazeera.com' 'allthingsd.com' 'bandwidthblog.com'\n",
      " 'aintitcool.com' 'news.whistleout.com.au' 'foxnews.com' 'foxbusiness.com'\n",
      " 'money.cnn.com' 'buzz.money.cnn.com' 'cnngo.com' 'latino.foxnews.com'\n",
      " 'smallbusiness.foxbusiness.com' 'oneclick.indiatimes.com' 'mnn.com'\n",
      " 'motherjones.com' 'huffingtonpost.com' 'time.com'\n",
      " 'washingtonexaminer.com' 'blogs.telegraph.co.uk'\n",
      " 'refrigerators.reviewed.com' 'roadwarriorvoices.com' 'rollingstone.com'\n",
      " 'blogs.reuters.com' 'people.com' 'politicalwire.com' 'blogs.sacbee.com'\n",
      " 'sfexaminer.com' 'npr.org' 'wonkette.com']\n"
     ]
    }
   ],
   "source": [
    "print(disqus_df['url'].apply(ah.to_domain).unique())"
   ]
  },
  {
   "cell_type": "markdown",
   "id": "bdfcbc08-1ef0-4c91-abff-73d0c9bd89b5",
   "metadata": {},
   "source": [
    "# Display results"
   ]
  },
  {
   "cell_type": "markdown",
   "id": "3f79223c-61bd-47fa-b79a-e32731ccec63",
   "metadata": {},
   "source": [
    "Add year and domain collumns"
   ]
  },
  {
   "cell_type": "code",
   "execution_count": 11,
   "id": "90d97436-27fc-4621-8ef8-d1cc6a3efd1d",
   "metadata": {},
   "outputs": [],
   "source": [
    "disqus_df[\"year\"] = disqus_df[\"crawl_date\"].div(10000).round().astype(int)\n",
    "disqus_df[\"domain\"] = disqus_df['url'].apply(ah.to_domain)"
   ]
  },
  {
   "cell_type": "markdown",
   "id": "148b4d57-6390-4f85-85b0-5df1f1b96304",
   "metadata": {},
   "source": [
    "Display value_counts as dataframe"
   ]
  },
  {
   "cell_type": "code",
   "execution_count": 12,
   "id": "04ab0c9f-b170-4d28-a938-dc8837d20941",
   "metadata": {},
   "outputs": [
    {
     "data": {
      "text/html": [
       "<div>\n",
       "<style scoped>\n",
       "    .dataframe tbody tr th:only-of-type {\n",
       "        vertical-align: middle;\n",
       "    }\n",
       "\n",
       "    .dataframe tbody tr th {\n",
       "        vertical-align: top;\n",
       "    }\n",
       "\n",
       "    .dataframe thead th {\n",
       "        text-align: right;\n",
       "    }\n",
       "</style>\n",
       "<table border=\"1\" class=\"dataframe\">\n",
       "  <thead>\n",
       "    <tr style=\"text-align: right;\">\n",
       "      <th></th>\n",
       "      <th>year</th>\n",
       "      <th>domain</th>\n",
       "      <th>disqus_embed</th>\n",
       "      <th>disqus_identifier</th>\n",
       "      <th>disqus_thread</th>\n",
       "      <th>count</th>\n",
       "    </tr>\n",
       "  </thead>\n",
       "  <tbody>\n",
       "    <tr>\n",
       "      <th>0</th>\n",
       "      <td>2010</td>\n",
       "      <td>cnn.com</td>\n",
       "      <td>True</td>\n",
       "      <td>False</td>\n",
       "      <td>True</td>\n",
       "      <td>60</td>\n",
       "    </tr>\n",
       "    <tr>\n",
       "      <th>1</th>\n",
       "      <td>2010</td>\n",
       "      <td>csmonitor.com</td>\n",
       "      <td>True</td>\n",
       "      <td>False</td>\n",
       "      <td>True</td>\n",
       "      <td>1</td>\n",
       "    </tr>\n",
       "    <tr>\n",
       "      <th>2</th>\n",
       "      <td>2010</td>\n",
       "      <td>foxnews.com</td>\n",
       "      <td>False</td>\n",
       "      <td>False</td>\n",
       "      <td>True</td>\n",
       "      <td>3</td>\n",
       "    </tr>\n",
       "    <tr>\n",
       "      <th>3</th>\n",
       "      <td>2010</td>\n",
       "      <td>independent.co.uk</td>\n",
       "      <td>False</td>\n",
       "      <td>False</td>\n",
       "      <td>True</td>\n",
       "      <td>3</td>\n",
       "    </tr>\n",
       "    <tr>\n",
       "      <th>4</th>\n",
       "      <td>2010</td>\n",
       "      <td>oneclick.indiatimes.com</td>\n",
       "      <td>False</td>\n",
       "      <td>False</td>\n",
       "      <td>True</td>\n",
       "      <td>3</td>\n",
       "    </tr>\n",
       "    <tr>\n",
       "      <th>...</th>\n",
       "      <td>...</td>\n",
       "      <td>...</td>\n",
       "      <td>...</td>\n",
       "      <td>...</td>\n",
       "      <td>...</td>\n",
       "      <td>...</td>\n",
       "    </tr>\n",
       "    <tr>\n",
       "      <th>297</th>\n",
       "      <td>2020</td>\n",
       "      <td>tmz.com</td>\n",
       "      <td>False</td>\n",
       "      <td>False</td>\n",
       "      <td>True</td>\n",
       "      <td>3</td>\n",
       "    </tr>\n",
       "    <tr>\n",
       "      <th>298</th>\n",
       "      <td>2020</td>\n",
       "      <td>topgear.com</td>\n",
       "      <td>True</td>\n",
       "      <td>True</td>\n",
       "      <td>False</td>\n",
       "      <td>1</td>\n",
       "    </tr>\n",
       "    <tr>\n",
       "      <th>299</th>\n",
       "      <td>2021</td>\n",
       "      <td>abcnews.go.com</td>\n",
       "      <td>False</td>\n",
       "      <td>True</td>\n",
       "      <td>False</td>\n",
       "      <td>282</td>\n",
       "    </tr>\n",
       "    <tr>\n",
       "      <th>300</th>\n",
       "      <td>2021</td>\n",
       "      <td>mweb.co.za</td>\n",
       "      <td>True</td>\n",
       "      <td>True</td>\n",
       "      <td>True</td>\n",
       "      <td>1</td>\n",
       "    </tr>\n",
       "    <tr>\n",
       "      <th>301</th>\n",
       "      <td>2021</td>\n",
       "      <td>rawstory.com</td>\n",
       "      <td>True</td>\n",
       "      <td>False</td>\n",
       "      <td>True</td>\n",
       "      <td>353</td>\n",
       "    </tr>\n",
       "  </tbody>\n",
       "</table>\n",
       "<p>302 rows × 6 columns</p>\n",
       "</div>"
      ],
      "text/plain": [
       "     year                   domain  disqus_embed  disqus_identifier  \\\n",
       "0    2010                  cnn.com          True              False   \n",
       "1    2010            csmonitor.com          True              False   \n",
       "2    2010              foxnews.com         False              False   \n",
       "3    2010        independent.co.uk         False              False   \n",
       "4    2010  oneclick.indiatimes.com         False              False   \n",
       "..    ...                      ...           ...                ...   \n",
       "297  2020                  tmz.com         False              False   \n",
       "298  2020              topgear.com          True               True   \n",
       "299  2021           abcnews.go.com         False               True   \n",
       "300  2021               mweb.co.za          True               True   \n",
       "301  2021             rawstory.com          True              False   \n",
       "\n",
       "     disqus_thread  count  \n",
       "0             True     60  \n",
       "1             True      1  \n",
       "2             True      3  \n",
       "3             True      3  \n",
       "4             True      3  \n",
       "..             ...    ...  \n",
       "297           True      3  \n",
       "298          False      1  \n",
       "299          False    282  \n",
       "300           True      1  \n",
       "301           True    353  \n",
       "\n",
       "[302 rows x 6 columns]"
      ]
     },
     "execution_count": 12,
     "metadata": {},
     "output_type": "execute_result"
    }
   ],
   "source": [
    "#pd.set_option('display.max_rows', 500)\n",
    "results = pd.DataFrame(disqus_df[['year','domain','disqus_embed','disqus_identifier','disqus_thread']].value_counts().sort_index()).reset_index()\n",
    "results.rename(columns={0:'count'}, inplace=True)\n",
    "results"
   ]
  },
  {
   "cell_type": "code",
   "execution_count": 13,
   "id": "cdf6c3db-13ca-4614-b4be-ba6124c28a3a",
   "metadata": {},
   "outputs": [
    {
     "name": "stdout",
     "output_type": "stream",
     "text": [
      "disqus_embed_hits:  114\n",
      "disqus_identifier_hits:  114\n",
      "disqus_thread_hits:  290\n",
      "disqus_embed_and_identifier_hits:  40\n",
      "disqus_embed_and_thread_hits:  113\n",
      "disqus_identifier_and_thread_hits:  114\n"
     ]
    }
   ],
   "source": [
    "disqus_embed_hits = results[results.disqus_embed == True]\n",
    "disqus_identifier_hits = results[results.disqus_identifier == True]\n",
    "disqus_thread_hits = results[results.disqus_thread == True]\n",
    "\n",
    "disqus_embed_and_identifier_hits = ah.dataframe_intersection(disqus_embed_hits,disqus_identifier_hits)\n",
    "disqus_embed_and_thread_hits = ah.dataframe_intersection(disqus_embed_hits,disqus_thread_hits)\n",
    "disqus_identifier_and_thread_hits = ah.dataframe_intersection(disqus_identifier_hits,disqus_identifier_hits)\n",
    "\n",
    "print(\"disqus_embed_hits: \", len(disqus_embed_hits))\n",
    "print(\"disqus_identifier_hits: \", len(disqus_identifier_hits))\n",
    "print(\"disqus_thread_hits: \", len(disqus_thread_hits))\n",
    "\n",
    "print(\"disqus_embed_and_identifier_hits: \", len(disqus_embed_and_identifier_hits))\n",
    "print(\"disqus_embed_and_thread_hits: \", len(disqus_embed_and_thread_hits))\n",
    "print(\"disqus_identifier_and_thread_hits: \", len(disqus_identifier_and_thread_hits))"
   ]
  },
  {
   "cell_type": "markdown",
   "id": "b0dd05ef",
   "metadata": {
    "tags": []
   },
   "source": [
    "Save the results in a seperate CSV (only needs to be done once)"
   ]
  },
  {
   "cell_type": "code",
   "execution_count": 14,
   "id": "ccb954b5",
   "metadata": {},
   "outputs": [],
   "source": [
    "#disqus_df.to_csv(\"disqus.csv\")"
   ]
  },
  {
   "cell_type": "markdown",
   "id": "39a04515",
   "metadata": {},
   "source": [
    "Convert **content** column to single line."
   ]
  },
  {
   "cell_type": "code",
   "execution_count": 15,
   "id": "bcaa1ee3",
   "metadata": {},
   "outputs": [],
   "source": [
    "for line in disqus_df.content:\n",
    "    disqus_df.content = disqus_df.content.replace(line, \" \".join(line.splitlines()))"
   ]
  },
  {
   "cell_type": "markdown",
   "id": "412449fe",
   "metadata": {},
   "source": [
    "Save as single line content in a seperate CSV (only needs to be done once)"
   ]
  },
  {
   "cell_type": "code",
   "execution_count": 16,
   "id": "63ea37d6",
   "metadata": {},
   "outputs": [],
   "source": [
    "#disqus_df.to_csv(\"disqus_single_line.csv\")"
   ]
  },
  {
   "cell_type": "markdown",
   "id": "8250400c",
   "metadata": {},
   "source": [
    "# For the found pages extract the comment structure"
   ]
  },
  {
   "cell_type": "markdown",
   "id": "6f00a560",
   "metadata": {},
   "source": [
    "Extract the disqus comments from the div tag with ```id=\"disqus_thread\"```"
   ]
  },
  {
   "cell_type": "code",
   "execution_count": null,
   "id": "0fafe251",
   "metadata": {
    "tags": []
   },
   "outputs": [],
   "source": [
    "comments = []\n",
    "for line in disqus_df.content:\n",
    "    soup = BeautifulSoup(line, 'html.parser')\n",
    "    try:\n",
    "        comments.append(soup.find('div', attrs={'id': 'disqus_thread'}).prettify()) # .prettify() makes the HTML of the comments more human readable\n",
    "    except AttributeError:\n",
    "        comments.append(\"\")\n",
    "        \n",
    "disqus_df['comments'] = comments"
   ]
  },
  {
   "cell_type": "code",
   "execution_count": null,
   "id": "da28729a",
   "metadata": {},
   "outputs": [],
   "source": [
    "#pd.set_option('display.max_colwidth', 500) \n",
    "disqus_df[['crawl_date','url','comments']]"
   ]
  },
  {
   "cell_type": "markdown",
   "id": "eea198f9-e4da-42e0-b35f-55d73ca7065e",
   "metadata": {},
   "source": [
    "# Add an internet archive URL to the dataframe"
   ]
  },
  {
   "cell_type": "code",
   "execution_count": null,
   "id": "eb52f5ba",
   "metadata": {},
   "outputs": [],
   "source": [
    "ah.add_ia_url(disqus_df)"
   ]
  },
  {
   "cell_type": "markdown",
   "id": "1948144a",
   "metadata": {},
   "source": [
    "Filter out comment fields that are so short that they do net contain comments (based on the length).  \n",
    "32 characters is currently the shortest "
   ]
  },
  {
   "cell_type": "code",
   "execution_count": null,
   "id": "9dcaebce",
   "metadata": {},
   "outputs": [],
   "source": [
    "#pd.set_option('display.max_colwidth', 50)\n",
    "disqus_df[disqus_df['comments'].apply(lambda x: len(x)>32)][['comments','IA_url']]"
   ]
  },
  {
   "cell_type": "raw",
   "id": "e29b5c5e-f303-4fe3-a9e5-94f69c5ca671",
   "metadata": {},
   "source": []
  },
  {
   "cell_type": "markdown",
   "id": "51e8bbf3-2aab-4834-b47b-b6dc68c96091",
   "metadata": {},
   "source": [
    "Display a specific comment"
   ]
  },
  {
   "cell_type": "code",
   "execution_count": null,
   "id": "3561edde",
   "metadata": {},
   "outputs": [],
   "source": [
    "ah.display_comment(disqus_df, 0)"
   ]
  },
  {
   "cell_type": "markdown",
   "id": "6937ee4c-accc-4884-9d85-f16949253615",
   "metadata": {},
   "source": [
    "# Comparing dataframes"
   ]
  },
  {
   "cell_type": "markdown",
   "id": "b294e8d2-adc3-45ec-8635-0663b070e8d5",
   "metadata": {},
   "source": [
    "Creates a second dataframe with a different regex query "
   ]
  },
  {
   "cell_type": "code",
   "execution_count": null,
   "id": "f46fa4ce-138a-4b89-8cea-b2562323d5ca",
   "metadata": {},
   "outputs": [],
   "source": [
    "#disqus_df_2 = ah.filter_csv_content_regex(\"data/World/html-file-information.csv\", \"(?i)disqus\\.js\", 10000)"
   ]
  },
  {
   "cell_type": "markdown",
   "id": "726b6811-cda7-46a5-a874-bb76fbee9cfa",
   "metadata": {},
   "source": [
    "Show the overlap of two dataframes"
   ]
  },
  {
   "cell_type": "code",
   "execution_count": null,
   "id": "b2f07cdf-497c-4bff-8b3b-11d9cb2fb5cd",
   "metadata": {},
   "outputs": [],
   "source": [
    "#ah.dataframe_intersection(disqus_df[['crawl_date','url']],disqus_df_2[['crawl_date','url']])"
   ]
  },
  {
   "cell_type": "markdown",
   "id": "b3881b85-838c-4868-bf10-3fa6ffe5efc6",
   "metadata": {},
   "source": [
    "Show the difference between the two datasets. So only shows results that are in one dataset but not in both."
   ]
  },
  {
   "cell_type": "code",
   "execution_count": null,
   "id": "c918052c-6f87-4029-93ec-9cac545d3d31",
   "metadata": {},
   "outputs": [],
   "source": [
    "#ah.dataframe_difference(disqus_df[['crawl_date','url']],disqus_df_2[['crawl_date','url']])"
   ]
  },
  {
   "cell_type": "markdown",
   "id": "06a58be6-832c-4274-9322-ac15ec59025f",
   "metadata": {},
   "source": [
    "# Testing scratchbook"
   ]
  },
  {
   "cell_type": "markdown",
   "id": "4a694134-f588-457f-bcf8-49837cfafd2d",
   "metadata": {},
   "source": [
    "Reloads the ARCH Helper module after update.  \n",
    "Normally this would be done with autoreload Ipython magic, but for some reason it does not work. "
   ]
  },
  {
   "cell_type": "code",
   "execution_count": null,
   "id": "67dd3f88-1185-48a5-8b8b-f54ff57d6be9",
   "metadata": {},
   "outputs": [],
   "source": [
    "import importlib\n",
    "importlib.reload(ah)\n",
    "import ARCH_Helper as ah"
   ]
  },
  {
   "cell_type": "code",
   "execution_count": null,
   "id": "60189828-c2b4-4bfc-aeef-41c57eda3f23",
   "metadata": {},
   "outputs": [],
   "source": [
    "print(len(disqus_embed_df), len(disqus_identifier_df), len(disqus_thread))"
   ]
  },
  {
   "cell_type": "code",
   "execution_count": null,
   "id": "91db5239-5561-426d-90e7-a94c373df28c",
   "metadata": {},
   "outputs": [],
   "source": [
    "ah.dataframe_intersection(disqus_embed_df[['crawl_date','url']],disqus_identifier_df[['crawl_date','url']])"
   ]
  },
  {
   "cell_type": "code",
   "execution_count": null,
   "id": "940eb950-0a44-4f9c-ae8f-32f84abd3f41",
   "metadata": {},
   "outputs": [],
   "source": []
  }
 ],
 "metadata": {
  "kernelspec": {
   "display_name": "Python 3 (ipykernel)",
   "language": "python",
   "name": "python3"
  },
  "language_info": {
   "codemirror_mode": {
    "name": "ipython",
    "version": 3
   },
   "file_extension": ".py",
   "mimetype": "text/x-python",
   "name": "python",
   "nbconvert_exporter": "python",
   "pygments_lexer": "ipython3",
   "version": "3.8.10"
  }
 },
 "nbformat": 4,
 "nbformat_minor": 5
}
