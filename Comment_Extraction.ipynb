{
 "cells": [
  {
   "cell_type": "markdown",
   "id": "d4f92976-d0a6-46d6-8efb-0b8820ce1eb1",
   "metadata": {
    "tags": []
   },
   "source": [
    "# Imports"
   ]
  },
  {
   "cell_type": "markdown",
   "id": "8a7982f4-4991-4978-9e48-0303e6a60f44",
   "metadata": {
    "tags": []
   },
   "source": [
    "The required packages to run this notebook.  \n",
    "If any are missing use ``!{sys.executable} -m pip install <package>`` to install the package in the notebook environment"
   ]
  },
  {
   "cell_type": "code",
   "execution_count": 1,
   "id": "e6264b40-b8b1-4c48-bb3b-94febfa79113",
   "metadata": {
    "tags": []
   },
   "outputs": [],
   "source": [
    "import os.path\n",
    "import gc \n",
    "import pandas as pd\n",
    "import csv\n",
    "import sys\n",
    "from ctypes import cdll, CDLL\n",
    "from urllib import parse\n",
    "#!{sys.executable} -m pip install beautifulsoup4\n",
    "from bs4 import BeautifulSoup\n",
    "#!{sys.executable} -m pip install nbimporter\n",
    "import nbimporter\n",
    "import ARCH_Helper as ah"
   ]
  },
  {
   "cell_type": "markdown",
   "id": "348e893b-e773-4e96-956d-74e6fd110ef4",
   "metadata": {
    "tags": []
   },
   "source": [
    "# Download an archive\n",
    "The script below makes a data folder with a subfolder for the dataset. Dataset option are \"World\", \"German\" or \"Dutch\", select these by altering the ``dataset`` variable. The script wil skip files that are already present on the system. If you want to redownload the files first remove the old files manually.  \n",
    "If the download fails due to connection errors, rerun the script and will will notice that he file did not decompress and try again.  \n",
    "Note: The html-file-information.csv can be very large and take several hours and fail. Consider putting the code below code in a loop if you want to run it over night, if the download fails it will try again and if successfull it will say it already has the desired file."
   ]
  },
  {
   "cell_type": "code",
   "execution_count": 2,
   "id": "77006d6e-6e30-43b3-9353-37de21a7e004",
   "metadata": {},
   "outputs": [
    {
     "name": "stdout",
     "output_type": "stream",
     "text": [
      "mkdir: cannot create directory ‘data’: File exists\n",
      "mkdir: cannot create directory ‘data/World’: File exists\n",
      "domain-frequency.csv already exists\n",
      "domain-frequency.csv already exists\n",
      "css-file-information.csv already exists\n",
      "js-file-information.csv already exists\n",
      "html-file-information.csv already exists\n"
     ]
    }
   ],
   "source": [
    "# Dataset option are \"World\", \"German\" or \"Dutch\"\n",
    "Dataset = \"World\"\n",
    "\n",
    "!mkdir data\n",
    "!mkdir data/{Dataset}\n",
    "\n",
    "if Dataset == \"German\":\n",
    "    if not os.path.exists(\"data/German/domain-frequency.csv\"):\n",
    "        print(\"domain-frequency.csv is not present\")\n",
    "        !curl \"https://webdata.archive-it.org/ait/arch:cohort.helmond/research_services/download/SPECIAL-germanNews_1st-in-month_1-hop_unique-EXTRACTION-20210818232425/DomainFrequencyExtraction/domain-frequency.csv.gz?access=VRQ4COI5RFEB6XTJZNQTBRLEZTTHJERL\" --output data/German/domain-frequency.csv.gz\n",
    "        print(\"domain-frequency.csv has been downloaded\")\n",
    "    else:\n",
    "        print(\"domain-frequency.csv already exists\")\n",
    "\n",
    "    if not os.path.exists(\"data/German/domain-graph.csv\"):\n",
    "        print(\"domain-graph.csv is not present\")\n",
    "        !curl \"https://webdata.archive-it.org/ait/arch:cohort.helmond/research_services/download/SPECIAL-germanNews_1st-in-month_1-hop_unique-EXTRACTION-20210818232425/DomainGraphExtraction/domain-graph.csv.gz?access=JKEPGQ6MUC72JQB23IXOC4KOLGJYDSMN\" --output data/German/domain-graph.csv.gz\n",
    "        print(\"domain-graph.csv has been downloaded\")\n",
    "    else:\n",
    "        print(\"domain-frequency.csv already exists\")\n",
    "\n",
    "    if not os.path.exists(\"data/German/css-file-information.csv\"):\n",
    "        print(\"css-file-information.csv is not present\")\n",
    "        !curl \"https://webdata.archive-it.org/ait/arch:cohort.helmond/research_services/download/SPECIAL-germanNews_1st-in-month_1-hop_unique-EXTRACTION-20210818232425/TextFilesInformationExtraction/css-file-information.csv.gz?access=I2WP4REJA3NOBU3TCAAL3OIGJKNXM46R\" --output data/German/css-file-information.csv.gz\n",
    "        print(\"css-file-information.csv has been downloaded\")\n",
    "    else:\n",
    "        print(\"css-file-information.csv already exists\")\n",
    "\n",
    "    if not os.path.exists(\"data/German/js-file-information.csv\"):\n",
    "        print(\"js-file-information.csv is not present\")\n",
    "        !curl \"https://webdata.archive-it.org/ait/arch:cohort.helmond/research_services/download/SPECIAL-germanNews_1st-in-month_1-hop_unique-EXTRACTION-20210818232425/TextFilesInformationExtraction/js-file-information.csv.gz?access=M3QSMFPLEHPZPWZIFSMZ6CT2OO7WYQ4M\" --output data/German/js-file-information.csv.gz\n",
    "        print(\"css-file-information.csv has been downloaded\")\n",
    "    else:\n",
    "        print(\"js-file-information.csv already exists\")\n",
    "        \n",
    "    if not os.path.exists(\"data/German/html-file-information.csv\"):\n",
    "        print(\"html-file-information.csv is not present\")\n",
    "        !curl \"https://webdata.archive-it.org/ait/arch:cohort.helmond/research_services/download/SPECIAL-germanNews_1st-in-month_1-hop_unique-EXTRACTION-20210818232425/TextFilesInformationExtraction/html-file-information.csv.gz?access=E3BUHKL5P4Q3TD4LGXZV2AOMERYQ3GWL\" --output data/German/html-file-information.csv.gz\n",
    "        print(\"html-file-information.csv has been downloaded\")\n",
    "    else:\n",
    "        print(\"html-file-information.csv already exists\")\n",
    "        \n",
    "if Dataset == \"World\":\n",
    "    if not os.path.exists(\"data/World/domain-frequency.csv\"):\n",
    "        print(\"domain-frequency.csv is not present\")\n",
    "        !curl \"https://webdata.archive-it.org/ait/arch:cohort.helmond/research_services/download/SPECIAL-worldNews_1st-in-month_1-hop_unique-EXTRACTION-20210818232425/DomainFrequencyExtraction/domain-frequency.csv.gz?access=SMSQY3G6IGKGRWVLGCWMA7DMCHBCKQ4K\" --output data/World/domain-frequency.csv.gz\n",
    "        print(\"domain-frequency.csv has been downloaded\")\n",
    "    else:\n",
    "        print(\"domain-frequency.csv already exists\")\n",
    "\n",
    "    if not os.path.exists(\"data/World/domain-graph.csv\"):\n",
    "        print(\"domain-graph.csv is not present\")\n",
    "        !curl \"https://webdata.archive-it.org/ait/arch:cohort.helmond/research_services/download/SPECIAL-worldNews_1st-in-month_1-hop_unique-EXTRACTION-20210818232425/DomainGraphExtraction/domain-graph.csv.gz?sample=true&access=BZTA7LW5LUNMPGKWQMLKAUAXBV2E2AEC\" --output data/World/domain-graph.csv.gz\n",
    "        print(\"domain-graph.csv has been downloaded\")\n",
    "    else:\n",
    "        print(\"domain-frequency.csv already exists\")\n",
    "\n",
    "    if not os.path.exists(\"data/World/css-file-information.csv\"):\n",
    "        print(\"css-file-information.csv is not present\")\n",
    "        !curl \"https://webdata.archive-it.org/ait/arch:cohort.helmond/research_services/download/SPECIAL-worldNews_1st-in-month_1-hop_unique-EXTRACTION-20210818232425/TextFilesInformationExtraction/css-file-information.csv.gz?access=UZ4PWVRXXWPF53BHM7TTYNK24P7YAIXQ\" --output data/World/css-file-information.csv.gz\n",
    "        print(\"css-file-information.csv has been downloaded\")\n",
    "    else:\n",
    "        print(\"css-file-information.csv already exists\")\n",
    "\n",
    "    if not os.path.exists(\"data/World/js-file-information.csv\"):\n",
    "        print(\"js-file-information.csv is not present\")\n",
    "        !curl \"https://webdata.archive-it.org/ait/arch:cohort.helmond/research_services/download/SPECIAL-worldNews_1st-in-month_1-hop_unique-EXTRACTION-20210818232425/TextFilesInformationExtraction/js-file-information.csv.gz?access=54X7IV7QOOAJWGHKPRGDI7HIR6W6GKPI\" --output data/World/js-file-information.csv.gz\n",
    "        print(\"css-file-information.csv has been downloaded\")\n",
    "    else:\n",
    "        print(\"js-file-information.csv already exists\")\n",
    "    \n",
    "    if not os.path.exists(\"data/World/html-file-information.csv\"):\n",
    "        print(\"html-file-information.csv is not present\")\n",
    "        !curl \"https://webdata.archive-it.org/ait/arch:cohort.helmond/research_services/download/SPECIAL-worldNews_1st-in-month_1-hop_unique-EXTRACTION-20210818232425/TextFilesInformationExtraction/html-file-information.csv.gz?access=JQEDT3PRXOS6OXZ7LA5EC55HQJVUASDX\" --output data/World/html-file-information.csv.gz\n",
    "        print(\"html-file-information.csv has been downloaded\")\n",
    "    else:\n",
    "        print(\"html-file-information.csv already exists\")\n",
    "\n",
    "if Dataset == \"Dutch\":\n",
    "    if not os.path.exists(\"data/Dutch/domain-frequency.csv\"):\n",
    "        print(\"domain-frequency.csv is not present\")\n",
    "        !curl \"https://webdata.archive-it.org/ait/arch:cohort.helmond/research_services/download/SPECIAL-dutchNews_1st-in-month_1-hop_unique-EXTRACTION-20210916172606/DomainFrequencyExtraction/domain-frequency.csv.gz?access=QUQTRHVNIDKXN62S4D62XFHCFI7VDSH7\" --output data/Dutch/domain-frequency.csv.gz\n",
    "        print(\"domain-frequency.csv has been downloaded\")\n",
    "    else:\n",
    "        print(\"domain-frequency.csv already exists\")\n",
    "\n",
    "    if not os.path.exists(\"data/Dutch/domain-graph.csv\"):\n",
    "        print(\"domain-graph.csv is not present\")\n",
    "        !curl \"https://webdata.archive-it.org/ait/arch:cohort.helmond/research_services/download/SPECIAL-dutchNews_1st-in-month_1-hop_unique-EXTRACTION-20210916172606/DomainGraphExtraction/domain-graph.csv.gz?access=JUNESOMDTBYDNCCGVJI5MJHW45KHAIJZ\" --output data/Dutch/domain-graph.csv.gz\n",
    "        print(\"domain-graph.csv has been downloaded\")\n",
    "    else:\n",
    "        print(\"domain-frequency.csv already exists\")\n",
    "\n",
    "    if not os.path.exists(\"data/Dutch/css-file-information.csv\"):\n",
    "        print(\"css-file-information.csv is not present\")\n",
    "        !curl \"https://webdata.archive-it.org/ait/arch:cohort.helmond/research_services/download/SPECIAL-dutchNews_1st-in-month_1-hop_unique-EXTRACTION-20210916172606/TextFilesInformationExtraction/css-file-information.csv.gz?access=IGBKSGXJBL3L4IJ2LXS5NPJTOY77JCT5\" --output data/Dutch/css-file-information.csv.gz\n",
    "        print(\"css-file-information.csv has been downloaded\")\n",
    "    else:\n",
    "        print(\"css-file-information.csv already exists\")\n",
    "\n",
    "    if not os.path.exists(\"data/Dutch/js-file-information.csv\"):\n",
    "        print(\"js-file-information.csv is not present\")\n",
    "        !curl \"https://webdata.archive-it.org/ait/arch:cohort.helmond/research_services/download/SPECIAL-dutchNews_1st-in-month_1-hop_unique-EXTRACTION-20210916172606/TextFilesInformationExtraction/js-file-information.csv.gz?access=RPZKGWUTWJBIRKOKKHGECB7W4OHUATMO\" --output data/Dutch/js-file-information.csv.gz\n",
    "        print(\"css-file-information.csv has been downloaded\")\n",
    "    else:\n",
    "        print(\"js-file-information.csv already exists\")\n",
    "    \n",
    "    if not os.path.exists(\"data/Dutch/html-file-information.csv\"):\n",
    "        print(\"html-file-information.csv is not present\")\n",
    "        !curl \"https://webdata.archive-it.org/ait/arch:cohort.helmond/research_services/download/SPECIAL-dutchNews_1st-in-month_1-hop_unique-EXTRACTION-20210916172606/TextFilesInformationExtraction/html-file-information.csv.gz?access=52ZOSNQQMFWKW42WMQPNMGKYLEVUQHUC\" --output data/Dutch/html-file-information.csv.gz\n",
    "        print(\"html-file-information.csv has been downloaded\")\n",
    "    else:\n",
    "        print(\"html-file-information.csv already exists\")\n",
    "\n",
    "unzip = \"find data/\" +Dataset +\" -name '*.gz' -exec gunzip {} \\;\"\n",
    "!{unzip}"
   ]
  },
  {
   "cell_type": "markdown",
   "id": "0a166ff9",
   "metadata": {
    "tags": []
   },
   "source": [
    "# Extract wepages holding disqus.com/embed.js in their HTML"
   ]
  },
  {
   "cell_type": "markdown",
   "id": "f9766d4a",
   "metadata": {},
   "source": [
    "The code bellow looks through a dataset for any mention of disqus.js, an indicator of the presence of the disqus commenting system. The input for ```filter_csv_content_regex``` is the desired dataset file, the regular expression and the chunksize."
   ]
  },
  {
   "cell_type": "code",
   "execution_count": 3,
   "id": "93892bf0",
   "metadata": {},
   "outputs": [],
   "source": [
    "# Options are \"data/German/html-file-information.csv\" \"data/World/html-file-information.csv\" and \"data/Dutch/html-file-information.csv\"\n",
    "# or any other dataset on the system.\n",
    "disqus_df = ah.filter_csv_content_regex(\"data/World/html-file-information.csv\", \"(?i)disqus\\.com\\/embed\\.js\", 10000)"
   ]
  },
  {
   "cell_type": "markdown",
   "id": "6bb3b942-d0a5-4157-a1dc-49c21c9ec616",
   "metadata": {},
   "source": [
    "Count the pages with disqus.js in their HTML"
   ]
  },
  {
   "cell_type": "code",
   "execution_count": 4,
   "id": "f575b650-f771-40a7-8d8d-c753bc549595",
   "metadata": {},
   "outputs": [
    {
     "data": {
      "text/plain": [
       "6840"
      ]
     },
     "execution_count": 4,
     "metadata": {},
     "output_type": "execute_result"
    }
   ],
   "source": [
    "len(disqus_df)"
   ]
  },
  {
   "cell_type": "markdown",
   "id": "7ef06e55",
   "metadata": {},
   "source": [
    "Note that this finds more hits than grep. It seems the csv file is too large for grep. the same query in awk does give the expected number of results\n",
    "\n",
    "```grep -i -n 'disqus\\.js' C/Users/rjans/Desktop/ARCH/Data/disqus.csv```  \n",
    "vs  \n",
    "```awk -e '/disqus\\.js/ {print $0}' C/Users/rjans/Desktop/ARCH/Data/html-file-information-German.csv```"
   ]
  },
  {
   "cell_type": "markdown",
   "id": "5cde1c43-e9d7-47a8-bc1e-aea6a3270ac1",
   "metadata": {},
   "source": [
    "Show the unique domains"
   ]
  },
  {
   "cell_type": "code",
   "execution_count": 5,
   "id": "d0170c5a",
   "metadata": {
    "scrolled": true
   },
   "outputs": [
    {
     "name": "stdout",
     "output_type": "stream",
     "text": [
      "['aljazeera.com' 'blogs.aljazeera.com' 'men.24.com' 'blogs.abcnews.com'\n",
      " 'bloomberg.com' 'popwatch.ew.com' 'cnn.com' 'abcnews.go.com'\n",
      " 'liveshots.blogs.foxnews.com' 'magazine.foxnews.com'\n",
      " 'gretawire.foxnewsinsider.com' 'csmonitor.com' 'photos.essence.com'\n",
      " 'myfoxchicago.com' 'myfoxla.com' 'myfoxmemphis.com' 'myfoxorlando.com'\n",
      " 'mercurynews.com' 'spokesman.com' 'sfist.com' 'blogs.sfweekly.com'\n",
      " 'tpmmuckraker.talkingpointsmemo.com' 'topgear.com' 'mirror.co.uk'\n",
      " 'fashion.telegraph.co.uk' 'mweb.co.za' 'sagoodnews.co.za'\n",
      " 'independent.co.uk' 'telegraph.co.uk' 'rawstory.com' 'pcmag.com'\n",
      " 'politico.com' 'voices.news24.com' 'newser.com' 'newsmax.com'\n",
      " 'english.aljazeera.net' 'lazygamer.net' 'washingtontimes.com'\n",
      " 'communities.washingtontimes.com' 'propublica.org' 'scpr.org']\n"
     ]
    }
   ],
   "source": [
    "print(disqus_df['url'].apply(ah.to_domain).unique())"
   ]
  },
  {
   "cell_type": "markdown",
   "id": "b0dd05ef",
   "metadata": {
    "tags": []
   },
   "source": [
    "Save the results in a seperate CSV (only needs to be done once)"
   ]
  },
  {
   "cell_type": "code",
   "execution_count": 6,
   "id": "ccb954b5",
   "metadata": {},
   "outputs": [],
   "source": [
    "#disqus_df.to_csv(\"disqus.csv\")"
   ]
  },
  {
   "cell_type": "markdown",
   "id": "39a04515",
   "metadata": {},
   "source": [
    "Convert **content** column to single line."
   ]
  },
  {
   "cell_type": "code",
   "execution_count": 7,
   "id": "bcaa1ee3",
   "metadata": {},
   "outputs": [],
   "source": [
    "for line in disqus_df.content:\n",
    "    disqus_df.content = disqus_df.content.replace(line, \" \".join(line.splitlines()))"
   ]
  },
  {
   "cell_type": "markdown",
   "id": "412449fe",
   "metadata": {},
   "source": [
    "Save as single line content in a seperate CSV (only needs to be done once)"
   ]
  },
  {
   "cell_type": "code",
   "execution_count": 8,
   "id": "63ea37d6",
   "metadata": {},
   "outputs": [],
   "source": [
    "#disqus_df.to_csv(\"disqus_single_line.csv\")"
   ]
  },
  {
   "cell_type": "markdown",
   "id": "8250400c",
   "metadata": {},
   "source": [
    "# For the found pages extract the comment structure"
   ]
  },
  {
   "cell_type": "markdown",
   "id": "6f00a560",
   "metadata": {},
   "source": [
    "Extract the disqus comments from the div tag with ```id=\"disqus_thread\"```"
   ]
  },
  {
   "cell_type": "code",
   "execution_count": 9,
   "id": "0fafe251",
   "metadata": {
    "tags": []
   },
   "outputs": [],
   "source": [
    "comments = []\n",
    "for line in disqus_df.content:\n",
    "    soup = BeautifulSoup(line, 'html.parser')\n",
    "    try:\n",
    "        comments.append(soup.find('div', attrs={'id': 'disqus_thread'}).prettify()) # .prettify() makes the HTML of the comments more human readable\n",
    "    except AttributeError:\n",
    "        comments.append(\"\")\n",
    "        \n",
    "disqus_df['comments'] = comments"
   ]
  },
  {
   "cell_type": "code",
   "execution_count": 10,
   "id": "da28729a",
   "metadata": {},
   "outputs": [
    {
     "data": {
      "text/html": [
       "<div>\n",
       "<style scoped>\n",
       "    .dataframe tbody tr th:only-of-type {\n",
       "        vertical-align: middle;\n",
       "    }\n",
       "\n",
       "    .dataframe tbody tr th {\n",
       "        vertical-align: top;\n",
       "    }\n",
       "\n",
       "    .dataframe thead th {\n",
       "        text-align: right;\n",
       "    }\n",
       "</style>\n",
       "<table border=\"1\" class=\"dataframe\">\n",
       "  <thead>\n",
       "    <tr style=\"text-align: right;\">\n",
       "      <th></th>\n",
       "      <th>crawl_date</th>\n",
       "      <th>url</th>\n",
       "      <th>comments</th>\n",
       "    </tr>\n",
       "  </thead>\n",
       "  <tbody>\n",
       "    <tr>\n",
       "      <th>0</th>\n",
       "      <td>20140502</td>\n",
       "      <td>http://www.aljazeera.com/news/middleeast/2014/...</td>\n",
       "      <td>&lt;div id=\"disqus_thread\"&gt;\\n&lt;/div&gt;\\n</td>\n",
       "    </tr>\n",
       "    <tr>\n",
       "      <th>1</th>\n",
       "      <td>20140501</td>\n",
       "      <td>http://www.aljazeera.com/news/middleeast/2014/...</td>\n",
       "      <td>&lt;div id=\"disqus_thread\"&gt;\\n&lt;/div&gt;\\n</td>\n",
       "    </tr>\n",
       "    <tr>\n",
       "      <th>2</th>\n",
       "      <td>20140502</td>\n",
       "      <td>http://www.aljazeera.com/news/middleeast/2014/...</td>\n",
       "      <td>&lt;div id=\"disqus_thread\"&gt;\\n&lt;/div&gt;\\n</td>\n",
       "    </tr>\n",
       "    <tr>\n",
       "      <th>3</th>\n",
       "      <td>20140531</td>\n",
       "      <td>http://www.aljazeera.com/news/middleeast/2014/...</td>\n",
       "      <td>&lt;div id=\"disqus_thread\"&gt;\\n&lt;/div&gt;\\n</td>\n",
       "    </tr>\n",
       "    <tr>\n",
       "      <th>4</th>\n",
       "      <td>20150102</td>\n",
       "      <td>http://www.aljazeera.com/news/middleeast/2014/...</td>\n",
       "      <td>&lt;div id=\"disqus_thread\"&gt;\\n&lt;/div&gt;\\n</td>\n",
       "    </tr>\n",
       "    <tr>\n",
       "      <th>...</th>\n",
       "      <td>...</td>\n",
       "      <td>...</td>\n",
       "      <td>...</td>\n",
       "    </tr>\n",
       "    <tr>\n",
       "      <th>6835</th>\n",
       "      <td>20120105</td>\n",
       "      <td>http://www.independent.co.uk/environment/natur...</td>\n",
       "      <td>&lt;div id=\"disqus_thread\"&gt;\\n&lt;/div&gt;\\n</td>\n",
       "    </tr>\n",
       "    <tr>\n",
       "      <th>6836</th>\n",
       "      <td>20110301</td>\n",
       "      <td>http://www.independent.co.uk/environment/scien...</td>\n",
       "      <td>&lt;div id=\"disqus_thread\"&gt;\\n &lt;div class=\"clearfi...</td>\n",
       "    </tr>\n",
       "    <tr>\n",
       "      <th>6837</th>\n",
       "      <td>20120105</td>\n",
       "      <td>http://www.independent.co.uk/environment/the-1...</td>\n",
       "      <td>&lt;div id=\"disqus_thread\"&gt;\\n&lt;/div&gt;\\n</td>\n",
       "    </tr>\n",
       "    <tr>\n",
       "      <th>6838</th>\n",
       "      <td>20130502</td>\n",
       "      <td>http://www.independent.co.uk/extras/indybest/o...</td>\n",
       "      <td>&lt;div id=\"disqus_thread\"&gt;\\n&lt;/div&gt;\\n</td>\n",
       "    </tr>\n",
       "    <tr>\n",
       "      <th>6839</th>\n",
       "      <td>20120120</td>\n",
       "      <td>http://www.independent.co.uk/extras/puzzles-an...</td>\n",
       "      <td>&lt;div id=\"disqus_thread\"&gt;\\n&lt;/div&gt;\\n</td>\n",
       "    </tr>\n",
       "  </tbody>\n",
       "</table>\n",
       "<p>6840 rows × 3 columns</p>\n",
       "</div>"
      ],
      "text/plain": [
       "      crawl_date                                                url  \\\n",
       "0       20140502  http://www.aljazeera.com/news/middleeast/2014/...   \n",
       "1       20140501  http://www.aljazeera.com/news/middleeast/2014/...   \n",
       "2       20140502  http://www.aljazeera.com/news/middleeast/2014/...   \n",
       "3       20140531  http://www.aljazeera.com/news/middleeast/2014/...   \n",
       "4       20150102  http://www.aljazeera.com/news/middleeast/2014/...   \n",
       "...          ...                                                ...   \n",
       "6835    20120105  http://www.independent.co.uk/environment/natur...   \n",
       "6836    20110301  http://www.independent.co.uk/environment/scien...   \n",
       "6837    20120105  http://www.independent.co.uk/environment/the-1...   \n",
       "6838    20130502  http://www.independent.co.uk/extras/indybest/o...   \n",
       "6839    20120120  http://www.independent.co.uk/extras/puzzles-an...   \n",
       "\n",
       "                                               comments  \n",
       "0                    <div id=\"disqus_thread\">\\n</div>\\n  \n",
       "1                    <div id=\"disqus_thread\">\\n</div>\\n  \n",
       "2                    <div id=\"disqus_thread\">\\n</div>\\n  \n",
       "3                    <div id=\"disqus_thread\">\\n</div>\\n  \n",
       "4                    <div id=\"disqus_thread\">\\n</div>\\n  \n",
       "...                                                 ...  \n",
       "6835                 <div id=\"disqus_thread\">\\n</div>\\n  \n",
       "6836  <div id=\"disqus_thread\">\\n <div class=\"clearfi...  \n",
       "6837                 <div id=\"disqus_thread\">\\n</div>\\n  \n",
       "6838                 <div id=\"disqus_thread\">\\n</div>\\n  \n",
       "6839                 <div id=\"disqus_thread\">\\n</div>\\n  \n",
       "\n",
       "[6840 rows x 3 columns]"
      ]
     },
     "execution_count": 10,
     "metadata": {},
     "output_type": "execute_result"
    }
   ],
   "source": [
    "#pd.set_option('display.max_colwidth', 500) \n",
    "disqus_df[['crawl_date','url','comments']]"
   ]
  },
  {
   "cell_type": "markdown",
   "id": "eea198f9-e4da-42e0-b35f-55d73ca7065e",
   "metadata": {},
   "source": [
    "# Add an internet archive URL to the dataframe"
   ]
  },
  {
   "cell_type": "code",
   "execution_count": 11,
   "id": "eb52f5ba",
   "metadata": {},
   "outputs": [],
   "source": [
    "ah.add_ia_url(disqus_df)"
   ]
  },
  {
   "cell_type": "markdown",
   "id": "1948144a",
   "metadata": {},
   "source": [
    "Filter out comment fields that are so short that they do net contain comments (based on the length).  \n",
    "32 characters is currently the shortest "
   ]
  },
  {
   "cell_type": "code",
   "execution_count": 12,
   "id": "9dcaebce",
   "metadata": {},
   "outputs": [
    {
     "data": {
      "text/html": [
       "<div>\n",
       "<style scoped>\n",
       "    .dataframe tbody tr th:only-of-type {\n",
       "        vertical-align: middle;\n",
       "    }\n",
       "\n",
       "    .dataframe tbody tr th {\n",
       "        vertical-align: top;\n",
       "    }\n",
       "\n",
       "    .dataframe thead th {\n",
       "        text-align: right;\n",
       "    }\n",
       "</style>\n",
       "<table border=\"1\" class=\"dataframe\">\n",
       "  <thead>\n",
       "    <tr style=\"text-align: right;\">\n",
       "      <th></th>\n",
       "      <th>comments</th>\n",
       "      <th>IA_url</th>\n",
       "    </tr>\n",
       "  </thead>\n",
       "  <tbody>\n",
       "    <tr>\n",
       "      <th>235</th>\n",
       "      <td>&lt;div class=\"loading\" id=\"disqus_thread\"&gt;\\n&lt;/di...</td>\n",
       "      <td>https://web.archive.org/web/20150522/http://bl...</td>\n",
       "    </tr>\n",
       "    <tr>\n",
       "      <th>240</th>\n",
       "      <td>&lt;div class=\"loading\" id=\"disqus_thread\"&gt;\\n&lt;/di...</td>\n",
       "      <td>https://web.archive.org/web/20150511/http://bl...</td>\n",
       "    </tr>\n",
       "    <tr>\n",
       "      <th>248</th>\n",
       "      <td>&lt;div id=\"disqus_thread\"&gt;\\n &lt;script&gt;\\n  var dis...</td>\n",
       "      <td>https://web.archive.org/web/20150127/http://ww...</td>\n",
       "    </tr>\n",
       "    <tr>\n",
       "      <th>249</th>\n",
       "      <td>&lt;div id=\"disqus_thread\"&gt;\\n &lt;script&gt;\\n  var dis...</td>\n",
       "      <td>https://web.archive.org/web/20140301/http://ww...</td>\n",
       "    </tr>\n",
       "    <tr>\n",
       "      <th>734</th>\n",
       "      <td>&lt;div class=\"loading\" id=\"disqus_thread\"&gt;\\n&lt;/di...</td>\n",
       "      <td>https://web.archive.org/web/20150505/http://ab...</td>\n",
       "    </tr>\n",
       "    <tr>\n",
       "      <th>...</th>\n",
       "      <td>...</td>\n",
       "      <td>...</td>\n",
       "    </tr>\n",
       "    <tr>\n",
       "      <th>5529</th>\n",
       "      <td>&lt;div id=\"disqus_thread\"&gt;\\n &lt;div class=\"clearfi...</td>\n",
       "      <td>https://web.archive.org/web/20110412/http://ww...</td>\n",
       "    </tr>\n",
       "    <tr>\n",
       "      <th>5570</th>\n",
       "      <td>&lt;div class=\"\" id=\"disqus_thread\"&gt;\\n&lt;/div&gt;\\n</td>\n",
       "      <td>https://web.archive.org/web/20130304/http://ww...</td>\n",
       "    </tr>\n",
       "    <tr>\n",
       "      <th>6825</th>\n",
       "      <td>&lt;div id=\"disqus_thread\"&gt;\\n &lt;div class=\"clearfi...</td>\n",
       "      <td>https://web.archive.org/web/20110408/http://ww...</td>\n",
       "    </tr>\n",
       "    <tr>\n",
       "      <th>6828</th>\n",
       "      <td>&lt;div id=\"disqus_thread\"&gt;\\n &lt;div class=\"clearfi...</td>\n",
       "      <td>https://web.archive.org/web/20110927/http://ww...</td>\n",
       "    </tr>\n",
       "    <tr>\n",
       "      <th>6836</th>\n",
       "      <td>&lt;div id=\"disqus_thread\"&gt;\\n &lt;div class=\"clearfi...</td>\n",
       "      <td>https://web.archive.org/web/20110301/http://ww...</td>\n",
       "    </tr>\n",
       "  </tbody>\n",
       "</table>\n",
       "<p>572 rows × 2 columns</p>\n",
       "</div>"
      ],
      "text/plain": [
       "                                               comments  \\\n",
       "235   <div class=\"loading\" id=\"disqus_thread\">\\n</di...   \n",
       "240   <div class=\"loading\" id=\"disqus_thread\">\\n</di...   \n",
       "248   <div id=\"disqus_thread\">\\n <script>\\n  var dis...   \n",
       "249   <div id=\"disqus_thread\">\\n <script>\\n  var dis...   \n",
       "734   <div class=\"loading\" id=\"disqus_thread\">\\n</di...   \n",
       "...                                                 ...   \n",
       "5529  <div id=\"disqus_thread\">\\n <div class=\"clearfi...   \n",
       "5570        <div class=\"\" id=\"disqus_thread\">\\n</div>\\n   \n",
       "6825  <div id=\"disqus_thread\">\\n <div class=\"clearfi...   \n",
       "6828  <div id=\"disqus_thread\">\\n <div class=\"clearfi...   \n",
       "6836  <div id=\"disqus_thread\">\\n <div class=\"clearfi...   \n",
       "\n",
       "                                                 IA_url  \n",
       "235   https://web.archive.org/web/20150522/http://bl...  \n",
       "240   https://web.archive.org/web/20150511/http://bl...  \n",
       "248   https://web.archive.org/web/20150127/http://ww...  \n",
       "249   https://web.archive.org/web/20140301/http://ww...  \n",
       "734   https://web.archive.org/web/20150505/http://ab...  \n",
       "...                                                 ...  \n",
       "5529  https://web.archive.org/web/20110412/http://ww...  \n",
       "5570  https://web.archive.org/web/20130304/http://ww...  \n",
       "6825  https://web.archive.org/web/20110408/http://ww...  \n",
       "6828  https://web.archive.org/web/20110927/http://ww...  \n",
       "6836  https://web.archive.org/web/20110301/http://ww...  \n",
       "\n",
       "[572 rows x 2 columns]"
      ]
     },
     "execution_count": 12,
     "metadata": {},
     "output_type": "execute_result"
    }
   ],
   "source": [
    "#pd.set_option('display.max_colwidth', 50)\n",
    "disqus_df[disqus_df['comments'].apply(lambda x: len(x)>32)][['comments','IA_url']]"
   ]
  },
  {
   "cell_type": "markdown",
   "id": "51e8bbf3-2aab-4834-b47b-b6dc68c96091",
   "metadata": {},
   "source": [
    "Display a specific comment"
   ]
  },
  {
   "cell_type": "code",
   "execution_count": 13,
   "id": "3561edde",
   "metadata": {},
   "outputs": [
    {
     "name": "stdout",
     "output_type": "stream",
     "text": [
      "<div id=\"disqus_thread\">\n",
      "</div>\n",
      "\n"
     ]
    }
   ],
   "source": [
    "ah.display_comment(disqus_df, 0)"
   ]
  },
  {
   "cell_type": "markdown",
   "id": "6937ee4c-accc-4884-9d85-f16949253615",
   "metadata": {},
   "source": [
    "# Comparing dataframes"
   ]
  },
  {
   "cell_type": "markdown",
   "id": "b294e8d2-adc3-45ec-8635-0663b070e8d5",
   "metadata": {},
   "source": [
    "Creates a second dataframe with a different regex query "
   ]
  },
  {
   "cell_type": "code",
   "execution_count": 14,
   "id": "f46fa4ce-138a-4b89-8cea-b2562323d5ca",
   "metadata": {},
   "outputs": [],
   "source": [
    "#disqus_df_2 = ah.filter_csv_content_regex(\"data/World/html-file-information.csv\", \"(?i)disqus\\.js\", 10000)"
   ]
  },
  {
   "cell_type": "markdown",
   "id": "726b6811-cda7-46a5-a874-bb76fbee9cfa",
   "metadata": {},
   "source": [
    "Show the overlap of two dataframes"
   ]
  },
  {
   "cell_type": "code",
   "execution_count": 15,
   "id": "b2f07cdf-497c-4bff-8b3b-11d9cb2fb5cd",
   "metadata": {},
   "outputs": [],
   "source": [
    "#ah.dataframe_intersection(disqus_df[['crawl_date','url']],disqus_df_2[['crawl_date','url']])"
   ]
  },
  {
   "cell_type": "markdown",
   "id": "b3881b85-838c-4868-bf10-3fa6ffe5efc6",
   "metadata": {},
   "source": [
    "Show the difference between the two datasets. So only shows results that are in one dataset but not in both."
   ]
  },
  {
   "cell_type": "code",
   "execution_count": 16,
   "id": "c918052c-6f87-4029-93ec-9cac545d3d31",
   "metadata": {},
   "outputs": [],
   "source": [
    "#ah.dataframe_difference(disqus_df[['crawl_date','url']],disqus_df_2[['crawl_date','url']])"
   ]
  },
  {
   "cell_type": "markdown",
   "id": "06a58be6-832c-4274-9322-ac15ec59025f",
   "metadata": {},
   "source": [
    "# Testing scratchbook"
   ]
  },
  {
   "cell_type": "markdown",
   "id": "4a694134-f588-457f-bcf8-49837cfafd2d",
   "metadata": {},
   "source": [
    "Reloads the ARCH Helper module after update.  \n",
    "Normally this would be done with autoreload Ipython magic, but for some reason it does not work. "
   ]
  },
  {
   "cell_type": "code",
   "execution_count": 1,
   "id": "67dd3f88-1185-48a5-8b8b-f54ff57d6be9",
   "metadata": {},
   "outputs": [
    {
     "ename": "NameError",
     "evalue": "name 'ah' is not defined",
     "output_type": "error",
     "traceback": [
      "\u001b[0;31m---------------------------------------------------------------------------\u001b[0m",
      "\u001b[0;31mNameError\u001b[0m                                 Traceback (most recent call last)",
      "\u001b[0;32m/tmp/ipykernel_5224/4191232903.py\u001b[0m in \u001b[0;36m<module>\u001b[0;34m\u001b[0m\n\u001b[1;32m      1\u001b[0m \u001b[0;32mimport\u001b[0m \u001b[0mimportlib\u001b[0m\u001b[0;34m\u001b[0m\u001b[0;34m\u001b[0m\u001b[0m\n\u001b[0;32m----> 2\u001b[0;31m \u001b[0mimportlib\u001b[0m\u001b[0;34m.\u001b[0m\u001b[0mreload\u001b[0m\u001b[0;34m(\u001b[0m\u001b[0mah\u001b[0m\u001b[0;34m)\u001b[0m\u001b[0;34m\u001b[0m\u001b[0;34m\u001b[0m\u001b[0m\n\u001b[0m\u001b[1;32m      3\u001b[0m \u001b[0;32mimport\u001b[0m \u001b[0mARCH_Helper\u001b[0m \u001b[0;32mas\u001b[0m \u001b[0mah\u001b[0m\u001b[0;34m\u001b[0m\u001b[0;34m\u001b[0m\u001b[0m\n",
      "\u001b[0;31mNameError\u001b[0m: name 'ah' is not defined"
     ]
    }
   ],
   "source": [
    "import importlib\n",
    "importlib.reload(ah)\n",
    "import ARCH_Helper as ah"
   ]
  },
  {
   "cell_type": "code",
   "execution_count": 20,
   "id": "6162e7f4-8492-4189-a9e6-03f1c339d150",
   "metadata": {},
   "outputs": [],
   "source": [
    "diff = ah.dataframe_difference(disqus_df,ah.filter_df_content_regex(disqus_df, \"(?i)disqus_thread\"))\n"
   ]
  },
  {
   "cell_type": "code",
   "execution_count": null,
   "id": "60189828-c2b4-4bfc-aeef-41c57eda3f23",
   "metadata": {},
   "outputs": [],
   "source": []
  }
 ],
 "metadata": {
  "kernelspec": {
   "display_name": "Python 3 (ipykernel)",
   "language": "python",
   "name": "python3"
  },
  "language_info": {
   "codemirror_mode": {
    "name": "ipython",
    "version": 3
   },
   "file_extension": ".py",
   "mimetype": "text/x-python",
   "name": "python",
   "nbconvert_exporter": "python",
   "pygments_lexer": "ipython3",
   "version": "3.8.10"
  }
 },
 "nbformat": 4,
 "nbformat_minor": 5
}
