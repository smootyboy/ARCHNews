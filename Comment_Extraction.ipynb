{
 "cells": [
  {
   "cell_type": "markdown",
   "id": "d4f92976-d0a6-46d6-8efb-0b8820ce1eb1",
   "metadata": {
    "tags": []
   },
   "source": [
    "# Imports"
   ]
  },
  {
   "cell_type": "markdown",
   "id": "8a7982f4-4991-4978-9e48-0303e6a60f44",
   "metadata": {
    "tags": []
   },
   "source": [
    "The required packages to run this notebook.  \n",
    "If any are missing use ``!{sys.executable} -m pip install <package>`` to install the package in the notebook environment"
   ]
  },
  {
   "cell_type": "code",
   "execution_count": 1,
   "id": "e6264b40-b8b1-4c48-bb3b-94febfa79113",
   "metadata": {
    "tags": []
   },
   "outputs": [],
   "source": [
    "import os.path\n",
    "import gc \n",
    "import pandas as pd\n",
    "import csv\n",
    "import sys\n",
    "from ctypes import cdll, CDLL\n",
    "from urllib import parse\n",
    "#!{sys.executable} -m pip install beautifulsoup4\n",
    "from bs4 import BeautifulSoup\n",
    "#!{sys.executable} -m pip install nbimporter\n",
    "import nbimporter\n",
    "import ARCH_Helper as ah"
   ]
  },
  {
   "cell_type": "markdown",
   "id": "348e893b-e773-4e96-956d-74e6fd110ef4",
   "metadata": {
    "tags": []
   },
   "source": [
    "# Download an archive\n",
    "The script below makes a data folder with a subfolder for the dataset. Dataset option are \"World\", \"German\" or \"Dutch\", select these by altering the ``dataset`` variable. The script wil skip files that are already present on the system. If you want to redownload the files first remove the old files manually.  \n",
    "If the download fails due to connection errors, rerun the script and will will notice that he file did not decompress and try again.  \n",
    "Note: The html-file-information.csv can be very large and take several hours and fail. Consider putting the code below code in a loop if you want to run it over night, if the download fails it will try again and if successfull it will say it already has the desired file."
   ]
  },
  {
   "cell_type": "code",
   "execution_count": 2,
   "id": "77006d6e-6e30-43b3-9353-37de21a7e004",
   "metadata": {},
   "outputs": [
    {
     "name": "stdout",
     "output_type": "stream",
     "text": [
      "mkdir: cannot create directory ‘data’: File exists\n",
      "mkdir: cannot create directory ‘data/Dutch’: File exists\n",
      "mkdir: cannot create directory ‘data/Dutch/results’: File exists\n",
      "domain-frequency.csv already exists\n",
      "domain-frequency.csv already exists\n",
      "css-file-information.csv already exists\n",
      "js-file-information.csv already exists\n",
      "html-file-information.csv already exists\n"
     ]
    }
   ],
   "source": [
    "# Dataset option are \"World\", \"German\" or \"Dutch\"\n",
    "Dataset = \"Dutch\"\n",
    "\n",
    "!mkdir data\n",
    "!mkdir data/{Dataset}\n",
    "!mkdir data/{Dataset}/results\n",
    "\n",
    "if Dataset == \"German\":\n",
    "    if not os.path.exists(\"data/German/domain-frequency.csv\"):\n",
    "        print(\"domain-frequency.csv is not present\")\n",
    "        !curl \"https://webdata.archive-it.org/ait/arch:cohort.helmond/research_services/download/SPECIAL-germanNews_1st-in-month_1-hop_unique-EXTRACTION-20210818232425/DomainFrequencyExtraction/domain-frequency.csv.gz?access=VRQ4COI5RFEB6XTJZNQTBRLEZTTHJERL\" --output data/German/domain-frequency.csv.gz\n",
    "        print(\"domain-frequency.csv has been downloaded\")\n",
    "    else:\n",
    "        print(\"domain-frequency.csv already exists\")\n",
    "\n",
    "    if not os.path.exists(\"data/German/domain-graph.csv\"):\n",
    "        print(\"domain-graph.csv is not present\")\n",
    "        !curl \"https://webdata.archive-it.org/ait/arch:cohort.helmond/research_services/download/SPECIAL-germanNews_1st-in-month_1-hop_unique-EXTRACTION-20210818232425/DomainGraphExtraction/domain-graph.csv.gz?access=JKEPGQ6MUC72JQB23IXOC4KOLGJYDSMN\" --output data/German/domain-graph.csv.gz\n",
    "        print(\"domain-graph.csv has been downloaded\")\n",
    "    else:\n",
    "        print(\"domain-frequency.csv already exists\")\n",
    "\n",
    "    if not os.path.exists(\"data/German/css-file-information.csv\"):\n",
    "        print(\"css-file-information.csv is not present\")\n",
    "        !curl \"https://webdata.archive-it.org/ait/arch:cohort.helmond/research_services/download/SPECIAL-germanNews_1st-in-month_1-hop_unique-EXTRACTION-20210818232425/TextFilesInformationExtraction/css-file-information.csv.gz?access=I2WP4REJA3NOBU3TCAAL3OIGJKNXM46R\" --output data/German/css-file-information.csv.gz\n",
    "        print(\"css-file-information.csv has been downloaded\")\n",
    "    else:\n",
    "        print(\"css-file-information.csv already exists\")\n",
    "\n",
    "    if not os.path.exists(\"data/German/js-file-information.csv\"):\n",
    "        print(\"js-file-information.csv is not present\")\n",
    "        !curl \"https://webdata.archive-it.org/ait/arch:cohort.helmond/research_services/download/SPECIAL-germanNews_1st-in-month_1-hop_unique-EXTRACTION-20210818232425/TextFilesInformationExtraction/js-file-information.csv.gz?access=M3QSMFPLEHPZPWZIFSMZ6CT2OO7WYQ4M\" --output data/German/js-file-information.csv.gz\n",
    "        print(\"css-file-information.csv has been downloaded\")\n",
    "    else:\n",
    "        print(\"js-file-information.csv already exists\")\n",
    "        \n",
    "    if not os.path.exists(\"data/German/html-file-information.csv\"):\n",
    "        print(\"html-file-information.csv is not present\")\n",
    "        !curl \"https://webdata.archive-it.org/ait/arch:cohort.helmond/research_services/download/SPECIAL-germanNews_1st-in-month_1-hop_unique-EXTRACTION-20210818232425/TextFilesInformationExtraction/html-file-information.csv.gz?access=E3BUHKL5P4Q3TD4LGXZV2AOMERYQ3GWL\" --output data/German/html-file-information.csv.gz\n",
    "        print(\"html-file-information.csv has been downloaded\")\n",
    "    else:\n",
    "        print(\"html-file-information.csv already exists\")\n",
    "        \n",
    "if Dataset == \"World\":\n",
    "    if not os.path.exists(\"data/World/domain-frequency.csv\"):\n",
    "        print(\"domain-frequency.csv is not present\")\n",
    "        !curl \"https://webdata.archive-it.org/ait/arch:cohort.helmond/research_services/download/SPECIAL-worldNews_1st-in-month_1-hop_unique-EXTRACTION-20210818232425/DomainFrequencyExtraction/domain-frequency.csv.gz?access=SMSQY3G6IGKGRWVLGCWMA7DMCHBCKQ4K\" --output data/World/domain-frequency.csv.gz\n",
    "        print(\"domain-frequency.csv has been downloaded\")\n",
    "    else:\n",
    "        print(\"domain-frequency.csv already exists\")\n",
    "\n",
    "    if not os.path.exists(\"data/World/domain-graph.csv\"):\n",
    "        print(\"domain-graph.csv is not present\")\n",
    "        !curl \"https://webdata.archive-it.org/ait/arch:cohort.helmond/research_services/download/SPECIAL-worldNews_1st-in-month_1-hop_unique-EXTRACTION-20210818232425/DomainGraphExtraction/domain-graph.csv.gz?sample=true&access=BZTA7LW5LUNMPGKWQMLKAUAXBV2E2AEC\" --output data/World/domain-graph.csv.gz\n",
    "        print(\"domain-graph.csv has been downloaded\")\n",
    "    else:\n",
    "        print(\"domain-frequency.csv already exists\")\n",
    "\n",
    "    if not os.path.exists(\"data/World/css-file-information.csv\"):\n",
    "        print(\"css-file-information.csv is not present\")\n",
    "        !curl \"https://webdata.archive-it.org/ait/arch:cohort.helmond/research_services/download/SPECIAL-worldNews_1st-in-month_1-hop_unique-EXTRACTION-20210818232425/TextFilesInformationExtraction/css-file-information.csv.gz?access=UZ4PWVRXXWPF53BHM7TTYNK24P7YAIXQ\" --output data/World/css-file-information.csv.gz\n",
    "        print(\"css-file-information.csv has been downloaded\")\n",
    "    else:\n",
    "        print(\"css-file-information.csv already exists\")\n",
    "\n",
    "    if not os.path.exists(\"data/World/js-file-information.csv\"):\n",
    "        print(\"js-file-information.csv is not present\")\n",
    "        !curl \"https://webdata.archive-it.org/ait/arch:cohort.helmond/research_services/download/SPECIAL-worldNews_1st-in-month_1-hop_unique-EXTRACTION-20210818232425/TextFilesInformationExtraction/js-file-information.csv.gz?access=54X7IV7QOOAJWGHKPRGDI7HIR6W6GKPI\" --output data/World/js-file-information.csv.gz\n",
    "        print(\"css-file-information.csv has been downloaded\")\n",
    "    else:\n",
    "        print(\"js-file-information.csv already exists\")\n",
    "    \n",
    "    if not os.path.exists(\"data/World/html-file-information.csv\"):\n",
    "        print(\"html-file-information.csv is not present\")\n",
    "        !curl \"https://webdata.archive-it.org/ait/arch:cohort.helmond/research_services/download/SPECIAL-worldNews_1st-in-month_1-hop_unique-EXTRACTION-20210818232425/TextFilesInformationExtraction/html-file-information.csv.gz?access=JQEDT3PRXOS6OXZ7LA5EC55HQJVUASDX\" --output data/World/html-file-information.csv.gz\n",
    "        print(\"html-file-information.csv has been downloaded\")\n",
    "    else:\n",
    "        print(\"html-file-information.csv already exists\")\n",
    "\n",
    "if Dataset == \"Dutch\":\n",
    "    if not os.path.exists(\"data/Dutch/domain-frequency.csv\"):\n",
    "        print(\"domain-frequency.csv is not present\")\n",
    "        !curl \"https://webdata.archive-it.org/ait/arch:cohort.helmond/research_services/download/SPECIAL-dutchNews_1st-in-month_1-hop_unique-EXTRACTION-20210916172606/DomainFrequencyExtraction/domain-frequency.csv.gz?access=QUQTRHVNIDKXN62S4D62XFHCFI7VDSH7\" --output data/Dutch/domain-frequency.csv.gz\n",
    "        print(\"domain-frequency.csv has been downloaded\")\n",
    "    else:\n",
    "        print(\"domain-frequency.csv already exists\")\n",
    "\n",
    "    if not os.path.exists(\"data/Dutch/domain-graph.csv\"):\n",
    "        print(\"domain-graph.csv is not present\")\n",
    "        !curl \"https://webdata.archive-it.org/ait/arch:cohort.helmond/research_services/download/SPECIAL-dutchNews_1st-in-month_1-hop_unique-EXTRACTION-20210916172606/DomainGraphExtraction/domain-graph.csv.gz?access=JUNESOMDTBYDNCCGVJI5MJHW45KHAIJZ\" --output data/Dutch/domain-graph.csv.gz\n",
    "        print(\"domain-graph.csv has been downloaded\")\n",
    "    else:\n",
    "        print(\"domain-frequency.csv already exists\")\n",
    "\n",
    "    if not os.path.exists(\"data/Dutch/css-file-information.csv\"):\n",
    "        print(\"css-file-information.csv is not present\")\n",
    "        !curl \"https://webdata.archive-it.org/ait/arch:cohort.helmond/research_services/download/SPECIAL-dutchNews_1st-in-month_1-hop_unique-EXTRACTION-20210916172606/TextFilesInformationExtraction/css-file-information.csv.gz?access=IGBKSGXJBL3L4IJ2LXS5NPJTOY77JCT5\" --output data/Dutch/css-file-information.csv.gz\n",
    "        print(\"css-file-information.csv has been downloaded\")\n",
    "    else:\n",
    "        print(\"css-file-information.csv already exists\")\n",
    "\n",
    "    if not os.path.exists(\"data/Dutch/js-file-information.csv\"):\n",
    "        print(\"js-file-information.csv is not present\")\n",
    "        !curl \"https://webdata.archive-it.org/ait/arch:cohort.helmond/research_services/download/SPECIAL-dutchNews_1st-in-month_1-hop_unique-EXTRACTION-20210916172606/TextFilesInformationExtraction/js-file-information.csv.gz?access=RPZKGWUTWJBIRKOKKHGECB7W4OHUATMO\" --output data/Dutch/js-file-information.csv.gz\n",
    "        print(\"css-file-information.csv has been downloaded\")\n",
    "    else:\n",
    "        print(\"js-file-information.csv already exists\")\n",
    "    \n",
    "    if not os.path.exists(\"data/Dutch/html-file-information.csv\"):\n",
    "        print(\"html-file-information.csv is not present\")\n",
    "        !curl \"https://webdata.archive-it.org/ait/arch:cohort.helmond/research_services/download/SPECIAL-dutchNews_1st-in-month_1-hop_unique-EXTRACTION-20210916172606/TextFilesInformationExtraction/html-file-information.csv.gz?access=52ZOSNQQMFWKW42WMQPNMGKYLEVUQHUC\" --output data/Dutch/html-file-information.csv.gz\n",
    "        print(\"html-file-information.csv has been downloaded\")\n",
    "    else:\n",
    "        print(\"html-file-information.csv already exists\")\n",
    "\n",
    "unzip = \"find data/\" +Dataset +\" -name '*.gz' -exec gunzip {} \\;\"\n",
    "!{unzip}"
   ]
  },
  {
   "cell_type": "markdown",
   "id": "3b0f5252-fa8b-4a22-89bb-e3ccecb9d7f1",
   "metadata": {},
   "source": [
    "Reduce the total dataset to only the domains that fit the research scope\n",
    "\n",
    "The ``chunksize`` variable determines how much memory is used. A larger chunksize allows for faster computation, but will crash when RAM is full. If the computation crashes try restarting the kernel and/or a lower chunksize. A chunksize of 1000 should be fine for most machines."
   ]
  },
  {
   "cell_type": "code",
   "execution_count": 3,
   "id": "aceafa6b-cc50-4439-b736-a0ab91216be6",
   "metadata": {},
   "outputs": [],
   "source": [
    "chunksize = 10000\n",
    "dataset_location = \"data/\"+Dataset +\"/html-file-information.csv\"\n",
    "dataset_in_scope_location = dataset_location[:-4]+\"-in-scope.csv\"\n",
    "\n",
    "if not os.path.exists(dataset_in_scope_location):\n",
    "    if Dataset == \"Dutch\":\n",
    "        domains_in_scope = [\"https://fd.nl/\",\"https://www.ad.nl\",\"https://www.nd.nl/\",\"https://www.nrc.nl/\",\"https://www.rd.nl/\",\"https://www.telegraaf.nl/\",\"https://www.trouw.nl\",\"https://www.volkskrant.nl/\",\"https://www.ewmagazine.nl/\",\"https://www.bd.nl\",\"https://www.bndestem.nl\",\"https://www.destentor.nl\",\"https://www.dvhn.nl\",\"https://www.ed.nl\",\"https://www.gelderlander.nl\",\"https://www.haarlemsdagblad.nl/\",\"https://www.lc.nl/\",\"https://www.leidschdagblad.nl/\",\"https://www.limburger.nl\",\"https://www.noordhollandsdagblad.nl\",\"https://www.parool.nl\",\"https://www.pzc.nl\",\"https://www.tubantia.nl\",\"https://jeugdjournaal.nl/\",\"https://nieuws.nl/\",\"https://nos.nl/\",\"https://www.1limburg.nl/\",\"https://www.businessinsider.nl/\",\"https://www.dutchnews.nl/\",\"https://www.ewmagazine.nl/\",\"https://www.geenstijl.nl/\",\"https://www.kliknieuws.nl/\",\"https://www.metronieuws.nl/\",\"https://www.nhnieuws.nl/\",\"https://www.ninefornews.nl/\",\"https://www.nu.nl/\",\"https://www.quotenet.nl\",\"https://www.rtlnieuws.nl\",\"https://www.tpo.nl\",\"https://www.welingelichtekringen.nl\",\"https://www.hartvannederland.nl/\",\"https://www.bnr.nl/\",\"https://www.dagelijksestandaard.nl/\",\"http://www.joop.nl/\",\"https://www.hpdetijd.nl/\",\"https://www.groene.nl/\",\"https://www.oneworld.nl/\",\"https://www.vn.nl/\",\"https://sargasso.nl/\",\"https://www.powned.tv/\"]\n",
    "        domains_in_scope = list(map(ah.to_domain, domains_in_scope))\n",
    "    if Dataset == \"World\":\n",
    "        domains_in_scope = [\"https://cnn.com\",\"https://www.nytimes.com/\",\"https://www.theguardian.com/\",\"https://www.indiatimes.com/\",\"https://www.foxnews.com/\",\"https://www.washingtonpost.com/\",\"https://usatoday.com\",\"https://www.cnbc.com\",\"http://www.chinadaily.com.cn/\",\"https://www.thehindu.com/\",\"https://www.wsj.com\",\"https://nypost.com/\",\"https://www.huffingtonpost.com\",\"https://abcnews.go.com/\",\"https://www.bbc.com/\",\"https://www.dailymail.co.uk/\",\"https://timesofindia.indiatimes.com/\",\"https://www.independent.co.uk/\",\"https://www.smh.com.au/\",\"https://www.telegraph.co.uk/\",\"https://www.latimes.com/\",\"https://www.sfgate.com/\",\"https://www.nbcnews.com/\",\"https://buzzfeednews.com\",\"https://aljazeera.com\",\"https://rt.com\",\"https://reuters.com\",\"https://npr.org\",\"https://sputniknews.com\",\"https://cbsnews.com\",\"https://cbc.ca\",\"https://abc.net.au\",\"https://time.com\",\"https://mirror.co.uk\",\"https://thesun.co.uk\",\"https://euronews.com\",\"https://ctvnews.ca\",\"https://vox.com\",\"https://scmp.com\",\"https://france24.com\",\"https://express.co.uk\",\"https://news.sky.com\",\"https://news24.com\",\"https://globalnews.ca\",\"https://channelnewsasia.com\",\"https://rawstory.com\",\"https://washingtontimes.com\",\"https://todayonline.com\",\"https://dailytelegraph.com.au\",\"https://csmonitor.com\"]\n",
    "        domains_in_scope = list(map(ah.to_domain, domains_in_scope))\n",
    "    if Dataset == \"German\":\n",
    "        domains_in_scope = [\"https://www.bild.de\",\"https://www.waz.de\",\"https://www.zeit.de/\",\"https://www.sueddeutsche.de\",\"https://www.welt.de/\",\"https://rp-online.de/\",\"https://www.faz.net/\",\"https://www.augsburger-allgemeine.de/\",\"https://www.allgaeuer-zeitung.de/\",\"https://www.freiepresse.de\",\"https://www.merkur.de\",\"https://www.lvz.de\",\"https://www.mz.de\",\"https://www.wn.de\",\"https://www.hna.de\",\"https://www.rheinpfalz.de\",\"https://www.volksstimme.de\",\"https://www.handelsblatt.com\",\"https://taz.de\",\"https://www.nd-aktuell.de\",\"https://jungefreiheit.de\",\"https://www.freitag.de\",\"http://www.das-parlament.de\",\"https://www.juedische-allgemeine.de\",\"https://www.fr.de\",\"https://www.abendblatt.de\",\"https://www.morgenpost.de\",\"https://www.tagesspiegel.de\",\"https://www.bz-berlin.de\",\"https://www.ftd.de\",\"https://www.ksta.de/\",\"https://www.stuttgarter-zeitung.de\",\"https://www.badische-zeitung.de\",\"https://www.tz.de\",\"https://www.mopo.de\",\"https://www.berliner-zeitung.de\",\"https://www.haz.de\",\"https://www.stuttgarter-nachrichten.de\",\"http://www.spiegel.de/\",\"https://www.deutschlandfunk.de/\",\"https://www.focus.de/\",\"https://www.stern.de/\",\"https://www.zdf.de/\",\"https://wdr.de/\",\"https://www.ndr.de/\",\"https://www.br.de/\",\"https://www.swr.de/\",\"https://www.mainpost.de/\",\"https://www.nwzonline.de/\",\"https://mads.de/\"]\n",
    "        domains_in_scope = list(map(ah.to_domain, domains_in_scope))\n",
    "\n",
    "    ah.filter_csv_domains(dataset_location, dataset_in_scope_location, domains_in_scope, chunksize)\n"
   ]
  },
  {
   "cell_type": "markdown",
   "id": "e854f063-5c7d-46f4-80c5-9c126af525e3",
   "metadata": {},
   "source": [
    "# Extract wepages holding signs of commenting systems in their HTML"
   ]
  },
  {
   "cell_type": "markdown",
   "id": "5110252b-d42c-431c-b486-fa239faccc33",
   "metadata": {},
   "source": [
    "``detection_patterns`` is a csv file holding the commenting systems and their detection patterns"
   ]
  },
  {
   "cell_type": "code",
   "execution_count": 4,
   "id": "bd94b784-6035-4e51-b146-e30c3c60439d",
   "metadata": {},
   "outputs": [],
   "source": [
    "detection_patterns = pd.read_csv(\"Commenting-system-detection-patterns.csv\")"
   ]
  },
  {
   "cell_type": "markdown",
   "id": "002f0c05-0fc1-4b5d-aa36-dbd367825e64",
   "metadata": {},
   "source": [
    "The code bellow loops through the known commenting systems and their detection patterns, saving them per commenting system in a CSV file at ``\"data/\"+Dataset +\"/results/\"+system+\".csv\"`` and a summary file at ``\"data/\"+Dataset +\"/results/\"+system+\"-summary.csv\"``"
   ]
  },
  {
   "cell_type": "code",
   "execution_count": 5,
   "id": "466aca0a-db1d-419c-a42f-75b17f49118a",
   "metadata": {},
   "outputs": [],
   "source": [
    "for system in list(detection_patterns['Commenting system'].unique()):\n",
    "    system_df_list = []\n",
    "    for index, row in detection_patterns[detection_patterns['Commenting system'] == system].iterrows():\n",
    "        system_df = ah.filter_csv_content_regex(dataset_in_scope_location, row['Regex'], chunksize)\n",
    "        system_df[row['Snipit']]=True\n",
    "        system_df_list.append(system_df)\n",
    "\n",
    "    system_df = pd.concat(system_df_list)\n",
    "    \n",
    "    system_df[\"year\"] = system_df[\"crawl_date\"].div(10000).round().astype(int)\n",
    "    system_df[\"domain\"] = system_df['url'].apply(ah.to_domain)\n",
    "    \n",
    "    system_df = system_df.fillna(False)\n",
    "    \n",
    "    save_location = \"data/\"+Dataset +\"/results/\"+system+\".csv\"\n",
    "    ah.save_dataframe(system_df, save_location)\n",
    "    \n",
    "    snippits = list(detection_patterns[detection_patterns['Commenting system'] == system]['Snipit'])\n",
    "    result_scope = ['year','domain']\n",
    "    result_scope.extend(snippits)\n",
    "    \n",
    "    system_results = pd.DataFrame(system_df[result_scope].value_counts().sort_index()).reset_index()\n",
    "    system_results.rename(columns={0:'count'}, inplace=True)\n",
    "    \n",
    "    save_location = \"data/\"+Dataset +\"/results/\"+system+\"-summary.csv\"\n",
    "    ah.save_dataframe(system_results, save_location)"
   ]
  },
  {
   "cell_type": "markdown",
   "id": "5c9cfbce-bbd8-48eb-b43c-35310022ae72",
   "metadata": {},
   "source": [
    "Display extended summeries for each of the commenting systems"
   ]
  },
  {
   "cell_type": "code",
   "execution_count": 16,
   "id": "a293f744-49d1-40ac-9ad2-737c72226575",
   "metadata": {},
   "outputs": [
    {
     "name": "stdout",
     "output_type": "stream",
     "text": [
      "Overlap between identifiers for Disqus:\n",
      "\n",
      "data-disqus-identifier  disqus.com/embed.js  disqus_thread\n",
      "False                   False                True             64\n",
      "                        True                 False            36\n",
      "True                    False                False            33\n",
      "dtype: int64\n",
      "\n",
      "\n",
      "haarlemsdagblad.nl uses  Disqus  in: [2011, 2012, 2013, 2014]\n",
      "nrc.nl uses  Disqus  in: [2011, 2012, 2013, 2014, 2015, 2016, 2017, 2019]\n",
      "vn.nl uses  Disqus  in: [2011, 2012, 2013, 2014, 2015]\n",
      "leidschdagblad.nl uses  Disqus  in: [2012, 2013, 2014, 2015]\n",
      "noordhollandsdagblad.nl uses  Disqus  in: [2012, 2013, 2014, 2015, 2016]\n",
      "nos.nl uses  Disqus  in: [2012, 2013, 2014]\n",
      "dutchnews.nl uses  Disqus  in: [2013, 2014, 2015, 2016, 2017, 2019]\n",
      "hpdetijd.nl uses  Disqus  in: [2013, 2014, 2015, 2016]\n",
      "quotenet.nl uses  Disqus  in: [2013, 2014, 2015, 2016, 2017]\n",
      "welingelichtekringen.nl uses  Disqus  in: [2013, 2014, 2015, 2016, 2017, 2018, 2019]\n",
      "nieuws.nl uses  Disqus  in: [2014, 2016, 2017, 2018, 2019, 2020, 2021]\n",
      "oneworld.nl uses  Disqus  in: [2014, 2015, 2016, 2017]\n",
      "sargasso.nl uses  Disqus  in: [2017]\n",
      "ninefornews.nl uses  Disqus  in: [2019]\n",
      "\n",
      "Number of sites using Disqus per year:\n",
      "    year  sites using Disqus\n",
      "0   2011                   3\n",
      "1   2012                   6\n",
      "2   2013                  10\n",
      "3   2014                  12\n",
      "4   2015                   9\n",
      "5   2016                   8\n",
      "6   2017                   7\n",
      "7   2018                   2\n",
      "8   2019                   5\n",
      "9   2020                   1\n",
      "10  2021                   1\n",
      "\n",
      "Overlap between identifiers for Echo:\n",
      "\n",
      "js-kit.com/comments.js\n",
      "True                      2\n",
      "dtype: int64\n",
      "\n",
      "\n",
      "metronieuws.nl uses  Echo  in: [2011, 2012]\n",
      "\n",
      "Number of sites using Echo per year:\n",
      "   year  sites using Echo\n",
      "0  2011                 1\n",
      "1  2012                 1\n",
      "\n",
      "Overlap between identifiers for Facebook Comments:\n",
      "\n",
      "fbComments  fb-comments  fb:comments\n",
      "False       True         False          65\n",
      "            False        True           16\n",
      "True        False        False           2\n",
      "dtype: int64\n",
      "\n",
      "\n",
      "hartvannederland.nl uses  Facebook Comments  in: [2010, 2011, 2012, 2013, 2014, 2015, 2016, 2017]\n",
      "bnr.nl uses  Facebook Comments  in: [2012, 2013, 2014, 2015, 2016]\n",
      "dvhn.nl uses  Facebook Comments  in: [2012, 2013, 2014, 2015, 2016, 2017, 2018, 2019, 2020]\n",
      "lc.nl uses  Facebook Comments  in: [2012, 2013, 2014, 2015, 2016, 2017, 2018, 2019, 2020]\n",
      "metronieuws.nl uses  Facebook Comments  in: [2012, 2013, 2014, 2015, 2016, 2017]\n",
      "telegraaf.nl uses  Facebook Comments  in: [2012, 2013, 2015, 2016]\n",
      "rtlnieuws.nl uses  Facebook Comments  in: [2013, 2014, 2015, 2016, 2017, 2018]\n",
      "dagelijksestandaard.nl uses  Facebook Comments  in: [2015]\n",
      "haarlemsdagblad.nl uses  Facebook Comments  in: [2015, 2016, 2017, 2018, 2019, 2020, 2021]\n",
      "leidschdagblad.nl uses  Facebook Comments  in: [2015, 2016, 2017, 2018, 2019, 2020, 2021]\n",
      "ninefornews.nl uses  Facebook Comments  in: [2015]\n",
      "noordhollandsdagblad.nl uses  Facebook Comments  in: [2015, 2016, 2017, 2018, 2019, 2020, 2021]\n",
      "businessinsider.nl uses  Facebook Comments  in: [2016, 2017, 2018, 2019]\n",
      "nhnieuws.nl uses  Facebook Comments  in: [2017, 2018]\n",
      "tpo.nl uses  Facebook Comments  in: [2018]\n",
      "nd.nl uses  Facebook Comments  in: [2020, 2021]\n",
      "\n",
      "Number of sites using Facebook Comments per year:\n",
      "    year  sites using Facebook Comments\n",
      "0   2010                              1\n",
      "1   2011                              1\n",
      "2   2012                              6\n",
      "3   2013                              7\n",
      "4   2014                              6\n",
      "5   2015                             12\n",
      "6   2016                             11\n",
      "7   2017                             10\n",
      "8   2018                              9\n",
      "9   2019                              6\n",
      "10  2020                              6\n",
      "11  2021                              4\n",
      "\n",
      "Overlap between identifiers for Livefyre:\n",
      "\n",
      "cdn.livefyre.com/Livefyre.js\n",
      "True                            4\n",
      "dtype: int64\n",
      "\n",
      "\n",
      "telegraaf.nl uses  Livefyre  in: [2015, 2017, 2018, 2019]\n",
      "\n",
      "Number of sites using Livefyre per year:\n",
      "   year  sites using Livefyre\n",
      "0  2015                     1\n",
      "1  2017                     1\n",
      "2  2018                     1\n",
      "3  2019                     1\n",
      "\n",
      "Overlap between identifiers for Echo JS-Kit Haloscan:\n",
      "\n",
      "js-kit.com/comments.js  www.haloscan.com/comments\n",
      "True                    False                        2\n",
      "dtype: int64\n",
      "\n",
      "\n",
      "metronieuws.nl uses  Echo JS-Kit Haloscan  in: [2011, 2012]\n",
      "\n",
      "Number of sites using Echo JS-Kit Haloscan per year:\n",
      "   year  sites using Echo JS-Kit Haloscan\n",
      "0  2011                                 1\n",
      "1  2012                                 1\n",
      "\n"
     ]
    }
   ],
   "source": [
    "for system in list(detection_patterns['Commenting system'].unique()):\n",
    "    save_location = \"data/\"+Dataset +\"/results/\"+system+\"-summary.csv\"\n",
    "    results = pd.read_csv(save_location)\n",
    "    domains = list(results.domain.unique())\n",
    "    \n",
    "    #skip to next itteration if no domains found with system\n",
    "    if domains == []:\n",
    "        continue\n",
    "\n",
    "    identifiers = results.columns.values.tolist()\n",
    "    identifiers = [x for x in identifiers if x not in ['year','domain','count']]\n",
    "    print(\"Overlap between identifiers for \"+system+\":\")\n",
    "    print()\n",
    "    print(results[identifiers].value_counts())\n",
    "    print()\n",
    "    \n",
    "    print()\n",
    "    for domain in domains:\n",
    "        years = list(results[results.domain == domain].year.unique())\n",
    "        print(domain, \"uses \", system,\" in:\", years)\n",
    "    \n",
    "    print()\n",
    "    print(\"Number of sites using \"+system+\" per year:\")\n",
    "    sites_per_year = pd.DataFrame(results[[\"year\", \"domain\"]].drop_duplicates()[\"year\"].value_counts().sort_index()).reset_index()\n",
    "    sites_per_year.columns = [\"year\", \"sites using \"+system ]\n",
    "    \n",
    "    print(sites_per_year)\n",
    "    print()"
   ]
  },
  {
   "cell_type": "markdown",
   "id": "8250400c",
   "metadata": {},
   "source": [
    "# For the found Disqus pages extract the comment structure"
   ]
  },
  {
   "cell_type": "markdown",
   "id": "6f00a560",
   "metadata": {},
   "source": [
    "Extract the disqus comments from the div tag with ```id=\"disqus_thread\"```"
   ]
  },
  {
   "cell_type": "code",
   "execution_count": 7,
   "id": "0fafe251",
   "metadata": {
    "tags": []
   },
   "outputs": [],
   "source": [
    "disqus_df = pd.read_csv(\"data/\"+Dataset +\"/results/Disqus.csv\")\n",
    "\n",
    "comments = []\n",
    "for line in disqus_df.content:\n",
    "    soup = BeautifulSoup(line, 'html.parser')\n",
    "    try:\n",
    "        comments.append(soup.find('div', attrs={'id': 'disqus_thread'}).prettify()) # .prettify() makes the HTML of the comments more human readable\n",
    "    except AttributeError:\n",
    "        comments.append(\"\")\n",
    "        \n",
    "disqus_df['comments'] = comments"
   ]
  },
  {
   "cell_type": "code",
   "execution_count": 8,
   "id": "da28729a",
   "metadata": {},
   "outputs": [
    {
     "data": {
      "text/html": [
       "<div>\n",
       "<style scoped>\n",
       "    .dataframe tbody tr th:only-of-type {\n",
       "        vertical-align: middle;\n",
       "    }\n",
       "\n",
       "    .dataframe tbody tr th {\n",
       "        vertical-align: top;\n",
       "    }\n",
       "\n",
       "    .dataframe thead th {\n",
       "        text-align: right;\n",
       "    }\n",
       "</style>\n",
       "<table border=\"1\" class=\"dataframe\">\n",
       "  <thead>\n",
       "    <tr style=\"text-align: right;\">\n",
       "      <th></th>\n",
       "      <th>crawl_date</th>\n",
       "      <th>url</th>\n",
       "      <th>comments</th>\n",
       "    </tr>\n",
       "  </thead>\n",
       "  <tbody>\n",
       "    <tr>\n",
       "      <th>0</th>\n",
       "      <td>20120206</td>\n",
       "      <td>http://www.noordhollandsdagblad.nl/nieuws/econ...</td>\n",
       "      <td>&lt;div id=\"disqus_thread\"&gt;\\n&lt;/div&gt;\\n</td>\n",
       "    </tr>\n",
       "    <tr>\n",
       "      <th>1</th>\n",
       "      <td>20120204</td>\n",
       "      <td>http://www.noordhollandsdagblad.nl/nieuws/econ...</td>\n",
       "      <td>&lt;div id=\"disqus_thread\"&gt;\\n&lt;/div&gt;\\n</td>\n",
       "    </tr>\n",
       "    <tr>\n",
       "      <th>2</th>\n",
       "      <td>20120205</td>\n",
       "      <td>http://www.noordhollandsdagblad.nl/nieuws/spor...</td>\n",
       "      <td>&lt;div id=\"disqus_thread\"&gt;\\n&lt;/div&gt;\\n</td>\n",
       "    </tr>\n",
       "    <tr>\n",
       "      <th>3</th>\n",
       "      <td>20120202</td>\n",
       "      <td>http://www.noordhollandsdagblad.nl/nieuws/spor...</td>\n",
       "      <td>&lt;div id=\"disqus_thread\"&gt;\\n&lt;/div&gt;\\n</td>\n",
       "    </tr>\n",
       "    <tr>\n",
       "      <th>4</th>\n",
       "      <td>20120205</td>\n",
       "      <td>http://www.noordhollandsdagblad.nl/nieuws/spor...</td>\n",
       "      <td>&lt;div id=\"disqus_thread\"&gt;\\n&lt;/div&gt;\\n</td>\n",
       "    </tr>\n",
       "    <tr>\n",
       "      <th>...</th>\n",
       "      <td>...</td>\n",
       "      <td>...</td>\n",
       "      <td>...</td>\n",
       "    </tr>\n",
       "    <tr>\n",
       "      <th>9146</th>\n",
       "      <td>20120128</td>\n",
       "      <td>http://www.vn.nl/boeken/schrijver/de-giftige-w...</td>\n",
       "      <td>&lt;div id=\"disqus_thread\"&gt;\\n&lt;/div&gt;\\n</td>\n",
       "    </tr>\n",
       "    <tr>\n",
       "      <th>9147</th>\n",
       "      <td>20130311</td>\n",
       "      <td>http://www.vn.nl/boeken/schrijver/ramsey-nasr-...</td>\n",
       "      <td>&lt;div id=\"disqus_thread\"&gt;\\n &lt;div id=\"dsq-conten...</td>\n",
       "    </tr>\n",
       "    <tr>\n",
       "      <th>9148</th>\n",
       "      <td>20120512</td>\n",
       "      <td>http://www.vn.nl/boeken/theater-2/actrice-anni...</td>\n",
       "      <td>&lt;div id=\"disqus_thread\"&gt;\\n&lt;/div&gt;\\n</td>\n",
       "    </tr>\n",
       "    <tr>\n",
       "      <th>9149</th>\n",
       "      <td>20120512</td>\n",
       "      <td>http://www.vn.nl/boeken/theater-2/wij-zijn-all...</td>\n",
       "      <td>&lt;div id=\"disqus_thread\"&gt;\\n&lt;/div&gt;\\n</td>\n",
       "    </tr>\n",
       "    <tr>\n",
       "      <th>9150</th>\n",
       "      <td>20111212</td>\n",
       "      <td>http://www.vn.nl/Dossiers/Meer-dossiers/Crime/...</td>\n",
       "      <td>&lt;div id=\"disqus_thread\"&gt;\\n&lt;/div&gt;\\n</td>\n",
       "    </tr>\n",
       "  </tbody>\n",
       "</table>\n",
       "<p>9151 rows × 3 columns</p>\n",
       "</div>"
      ],
      "text/plain": [
       "      crawl_date                                                url  \\\n",
       "0       20120206  http://www.noordhollandsdagblad.nl/nieuws/econ...   \n",
       "1       20120204  http://www.noordhollandsdagblad.nl/nieuws/econ...   \n",
       "2       20120205  http://www.noordhollandsdagblad.nl/nieuws/spor...   \n",
       "3       20120202  http://www.noordhollandsdagblad.nl/nieuws/spor...   \n",
       "4       20120205  http://www.noordhollandsdagblad.nl/nieuws/spor...   \n",
       "...          ...                                                ...   \n",
       "9146    20120128  http://www.vn.nl/boeken/schrijver/de-giftige-w...   \n",
       "9147    20130311  http://www.vn.nl/boeken/schrijver/ramsey-nasr-...   \n",
       "9148    20120512  http://www.vn.nl/boeken/theater-2/actrice-anni...   \n",
       "9149    20120512  http://www.vn.nl/boeken/theater-2/wij-zijn-all...   \n",
       "9150    20111212  http://www.vn.nl/Dossiers/Meer-dossiers/Crime/...   \n",
       "\n",
       "                                               comments  \n",
       "0                    <div id=\"disqus_thread\">\\n</div>\\n  \n",
       "1                    <div id=\"disqus_thread\">\\n</div>\\n  \n",
       "2                    <div id=\"disqus_thread\">\\n</div>\\n  \n",
       "3                    <div id=\"disqus_thread\">\\n</div>\\n  \n",
       "4                    <div id=\"disqus_thread\">\\n</div>\\n  \n",
       "...                                                 ...  \n",
       "9146                 <div id=\"disqus_thread\">\\n</div>\\n  \n",
       "9147  <div id=\"disqus_thread\">\\n <div id=\"dsq-conten...  \n",
       "9148                 <div id=\"disqus_thread\">\\n</div>\\n  \n",
       "9149                 <div id=\"disqus_thread\">\\n</div>\\n  \n",
       "9150                 <div id=\"disqus_thread\">\\n</div>\\n  \n",
       "\n",
       "[9151 rows x 3 columns]"
      ]
     },
     "execution_count": 8,
     "metadata": {},
     "output_type": "execute_result"
    }
   ],
   "source": [
    "#pd.set_option('display.max_colwidth', 500) \n",
    "disqus_df[['crawl_date','url','comments']]"
   ]
  },
  {
   "cell_type": "markdown",
   "id": "eea198f9-e4da-42e0-b35f-55d73ca7065e",
   "metadata": {},
   "source": [
    "# Add an internet archive URL to the dataframe"
   ]
  },
  {
   "cell_type": "code",
   "execution_count": 9,
   "id": "eb52f5ba",
   "metadata": {},
   "outputs": [],
   "source": [
    "ah.add_ia_url(disqus_df)"
   ]
  },
  {
   "cell_type": "markdown",
   "id": "1948144a",
   "metadata": {},
   "source": [
    "Filter out comment fields that are so short that they do net contain comments (based on the length).  \n",
    "32 characters is currently the shortest "
   ]
  },
  {
   "cell_type": "code",
   "execution_count": 10,
   "id": "9dcaebce",
   "metadata": {},
   "outputs": [
    {
     "data": {
      "text/html": [
       "<div>\n",
       "<style scoped>\n",
       "    .dataframe tbody tr th:only-of-type {\n",
       "        vertical-align: middle;\n",
       "    }\n",
       "\n",
       "    .dataframe tbody tr th {\n",
       "        vertical-align: top;\n",
       "    }\n",
       "\n",
       "    .dataframe thead th {\n",
       "        text-align: right;\n",
       "    }\n",
       "</style>\n",
       "<table border=\"1\" class=\"dataframe\">\n",
       "  <thead>\n",
       "    <tr style=\"text-align: right;\">\n",
       "      <th></th>\n",
       "      <th>comments</th>\n",
       "      <th>IA_url</th>\n",
       "    </tr>\n",
       "  </thead>\n",
       "  <tbody>\n",
       "    <tr>\n",
       "      <th>684</th>\n",
       "      <td>&lt;div id=\"disqus_thread\"&gt;\\n &lt;div id=\"dsq-conten...</td>\n",
       "      <td>https://web.archive.org/web/20140712/http://ww...</td>\n",
       "    </tr>\n",
       "    <tr>\n",
       "      <th>685</th>\n",
       "      <td>&lt;div id=\"disqus_thread\"&gt;\\n &lt;div id=\"dsq-conten...</td>\n",
       "      <td>https://web.archive.org/web/20150110/http://ww...</td>\n",
       "    </tr>\n",
       "    <tr>\n",
       "      <th>686</th>\n",
       "      <td>&lt;div id=\"disqus_thread\"&gt;\\n &lt;div id=\"dsq-conten...</td>\n",
       "      <td>https://web.archive.org/web/20150111/http://ww...</td>\n",
       "    </tr>\n",
       "    <tr>\n",
       "      <th>687</th>\n",
       "      <td>&lt;div id=\"disqus_thread\"&gt;\\n &lt;div id=\"dsq-conten...</td>\n",
       "      <td>https://web.archive.org/web/20160202/http://ww...</td>\n",
       "    </tr>\n",
       "    <tr>\n",
       "      <th>688</th>\n",
       "      <td>&lt;div id=\"disqus_thread\"&gt;\\n &lt;div id=\"dsq-conten...</td>\n",
       "      <td>https://web.archive.org/web/20140413/http://ww...</td>\n",
       "    </tr>\n",
       "    <tr>\n",
       "      <th>...</th>\n",
       "      <td>...</td>\n",
       "      <td>...</td>\n",
       "    </tr>\n",
       "    <tr>\n",
       "      <th>9126</th>\n",
       "      <td>&lt;div id=\"disqus_thread\"&gt;\\n &lt;div id=\"dsq-conten...</td>\n",
       "      <td>https://web.archive.org/web/20120420/http://ww...</td>\n",
       "    </tr>\n",
       "    <tr>\n",
       "      <th>9136</th>\n",
       "      <td>&lt;div id=\"disqus_thread\"&gt;\\n &lt;div id=\"dsq-conten...</td>\n",
       "      <td>https://web.archive.org/web/20110817/http://ww...</td>\n",
       "    </tr>\n",
       "    <tr>\n",
       "      <th>9137</th>\n",
       "      <td>&lt;div id=\"disqus_thread\"&gt;\\n &lt;div id=\"dsq-conten...</td>\n",
       "      <td>https://web.archive.org/web/20110902/http://ww...</td>\n",
       "    </tr>\n",
       "    <tr>\n",
       "      <th>9143</th>\n",
       "      <td>&lt;div id=\"disqus_thread\"&gt;\\n &lt;div id=\"dsq-conten...</td>\n",
       "      <td>https://web.archive.org/web/20110720/http://ww...</td>\n",
       "    </tr>\n",
       "    <tr>\n",
       "      <th>9147</th>\n",
       "      <td>&lt;div id=\"disqus_thread\"&gt;\\n &lt;div id=\"dsq-conten...</td>\n",
       "      <td>https://web.archive.org/web/20130311/http://ww...</td>\n",
       "    </tr>\n",
       "  </tbody>\n",
       "</table>\n",
       "<p>1167 rows × 2 columns</p>\n",
       "</div>"
      ],
      "text/plain": [
       "                                               comments  \\\n",
       "684   <div id=\"disqus_thread\">\\n <div id=\"dsq-conten...   \n",
       "685   <div id=\"disqus_thread\">\\n <div id=\"dsq-conten...   \n",
       "686   <div id=\"disqus_thread\">\\n <div id=\"dsq-conten...   \n",
       "687   <div id=\"disqus_thread\">\\n <div id=\"dsq-conten...   \n",
       "688   <div id=\"disqus_thread\">\\n <div id=\"dsq-conten...   \n",
       "...                                                 ...   \n",
       "9126  <div id=\"disqus_thread\">\\n <div id=\"dsq-conten...   \n",
       "9136  <div id=\"disqus_thread\">\\n <div id=\"dsq-conten...   \n",
       "9137  <div id=\"disqus_thread\">\\n <div id=\"dsq-conten...   \n",
       "9143  <div id=\"disqus_thread\">\\n <div id=\"dsq-conten...   \n",
       "9147  <div id=\"disqus_thread\">\\n <div id=\"dsq-conten...   \n",
       "\n",
       "                                                 IA_url  \n",
       "684   https://web.archive.org/web/20140712/http://ww...  \n",
       "685   https://web.archive.org/web/20150110/http://ww...  \n",
       "686   https://web.archive.org/web/20150111/http://ww...  \n",
       "687   https://web.archive.org/web/20160202/http://ww...  \n",
       "688   https://web.archive.org/web/20140413/http://ww...  \n",
       "...                                                 ...  \n",
       "9126  https://web.archive.org/web/20120420/http://ww...  \n",
       "9136  https://web.archive.org/web/20110817/http://ww...  \n",
       "9137  https://web.archive.org/web/20110902/http://ww...  \n",
       "9143  https://web.archive.org/web/20110720/http://ww...  \n",
       "9147  https://web.archive.org/web/20130311/http://ww...  \n",
       "\n",
       "[1167 rows x 2 columns]"
      ]
     },
     "execution_count": 10,
     "metadata": {},
     "output_type": "execute_result"
    }
   ],
   "source": [
    "#pd.set_option('display.max_colwidth', 50)\n",
    "disqus_df[disqus_df['comments'].apply(lambda x: len(x)>32)][['comments','IA_url']]"
   ]
  },
  {
   "cell_type": "raw",
   "id": "e29b5c5e-f303-4fe3-a9e5-94f69c5ca671",
   "metadata": {},
   "source": []
  },
  {
   "cell_type": "markdown",
   "id": "51e8bbf3-2aab-4834-b47b-b6dc68c96091",
   "metadata": {},
   "source": [
    "Display a specific comment"
   ]
  },
  {
   "cell_type": "code",
   "execution_count": 11,
   "id": "3561edde",
   "metadata": {},
   "outputs": [
    {
     "name": "stdout",
     "output_type": "stream",
     "text": [
      "<div id=\"disqus_thread\">\n",
      "</div>\n",
      "\n"
     ]
    }
   ],
   "source": [
    "ah.display_comment(disqus_df, 0)"
   ]
  },
  {
   "cell_type": "markdown",
   "id": "6937ee4c-accc-4884-9d85-f16949253615",
   "metadata": {},
   "source": [
    "# Comparing dataframes"
   ]
  },
  {
   "cell_type": "markdown",
   "id": "b294e8d2-adc3-45ec-8635-0663b070e8d5",
   "metadata": {},
   "source": [
    "Creates a second dataframe with a different regex query "
   ]
  },
  {
   "cell_type": "code",
   "execution_count": 12,
   "id": "f46fa4ce-138a-4b89-8cea-b2562323d5ca",
   "metadata": {},
   "outputs": [],
   "source": [
    "#disqus_df_2 = ah.filter_csv_content_regex(\"data/World/html-file-information.csv\", \"(?i)disqus\\.js\", 10000)"
   ]
  },
  {
   "cell_type": "markdown",
   "id": "726b6811-cda7-46a5-a874-bb76fbee9cfa",
   "metadata": {},
   "source": [
    "Show the overlap of two dataframes"
   ]
  },
  {
   "cell_type": "code",
   "execution_count": 13,
   "id": "b2f07cdf-497c-4bff-8b3b-11d9cb2fb5cd",
   "metadata": {},
   "outputs": [],
   "source": [
    "#ah.dataframe_intersection(disqus_df[['crawl_date','url']],disqus_df_2[['crawl_date','url']])"
   ]
  },
  {
   "cell_type": "markdown",
   "id": "b3881b85-838c-4868-bf10-3fa6ffe5efc6",
   "metadata": {},
   "source": [
    "Show the difference between the two datasets. So only shows results that are in one dataset but not in both."
   ]
  },
  {
   "cell_type": "code",
   "execution_count": 14,
   "id": "c918052c-6f87-4029-93ec-9cac545d3d31",
   "metadata": {},
   "outputs": [],
   "source": [
    "#ah.dataframe_difference(disqus_df[['crawl_date','url']],disqus_df_2[['crawl_date','url']])"
   ]
  },
  {
   "cell_type": "markdown",
   "id": "06a58be6-832c-4274-9322-ac15ec59025f",
   "metadata": {},
   "source": [
    "# Testing scratchbook"
   ]
  },
  {
   "cell_type": "markdown",
   "id": "4a694134-f588-457f-bcf8-49837cfafd2d",
   "metadata": {},
   "source": [
    "Reloads the ARCH Helper module after update.  \n",
    "Normally this would be done with autoreload Ipython magic, but for some reason it does not work. "
   ]
  },
  {
   "cell_type": "code",
   "execution_count": 15,
   "id": "67dd3f88-1185-48a5-8b8b-f54ff57d6be9",
   "metadata": {},
   "outputs": [],
   "source": [
    "import importlib\n",
    "importlib.reload(ah)\n",
    "import ARCH_Helper as ah"
   ]
  },
  {
   "cell_type": "code",
   "execution_count": null,
   "id": "81319a25-3022-4a00-9641-c1df0e90d62c",
   "metadata": {},
   "outputs": [],
   "source": [
    "\n"
   ]
  },
  {
   "cell_type": "code",
   "execution_count": null,
   "id": "f4aae937-4242-437d-8467-c652a5c5f300",
   "metadata": {},
   "outputs": [],
   "source": []
  },
  {
   "cell_type": "code",
   "execution_count": null,
   "id": "eb0c76bb-149c-4c36-ae3a-d13a3059b57a",
   "metadata": {},
   "outputs": [],
   "source": []
  },
  {
   "cell_type": "code",
   "execution_count": null,
   "id": "3b55786b-f921-4b40-b4fe-545b9471a690",
   "metadata": {},
   "outputs": [],
   "source": []
  },
  {
   "cell_type": "code",
   "execution_count": null,
   "id": "f34f2c49-59a5-4866-9c84-92bad237d3f7",
   "metadata": {},
   "outputs": [],
   "source": []
  },
  {
   "cell_type": "code",
   "execution_count": null,
   "id": "c37f673a-3b72-46cb-ad91-85741da6e19e",
   "metadata": {},
   "outputs": [],
   "source": []
  }
 ],
 "metadata": {
  "kernelspec": {
   "display_name": "Python 3 (ipykernel)",
   "language": "python",
   "name": "python3"
  },
  "language_info": {
   "codemirror_mode": {
    "name": "ipython",
    "version": 3
   },
   "file_extension": ".py",
   "mimetype": "text/x-python",
   "name": "python",
   "nbconvert_exporter": "python",
   "pygments_lexer": "ipython3",
   "version": "3.8.10"
  }
 },
 "nbformat": 4,
 "nbformat_minor": 5
}
